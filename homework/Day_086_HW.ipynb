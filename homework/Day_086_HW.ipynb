{
 "cells": [
  {
   "cell_type": "markdown",
   "metadata": {},
   "source": [
    "## Work\n",
    "1. 試比較 save_best_only 與否的差異\n",
    "2. 請僅存入將 save_weights_only 設定為 True, 並嘗試 reset ipynb 並將模型與權重重新建回並預測 x_test"
   ]
  },
  {
   "cell_type": "code",
   "execution_count": 1,
   "metadata": {},
   "outputs": [
    {
     "name": "stderr",
     "output_type": "stream",
     "text": [
      "Using TensorFlow backend.\n"
     ]
    }
   ],
   "source": [
    "import os\n",
    "import keras\n",
    "\n",
    "# Disable GPU\n",
    "os.environ[\"CUDA_VISIBLE_DEVICES\"] = \"0\""
   ]
  },
  {
   "cell_type": "code",
   "execution_count": 2,
   "metadata": {},
   "outputs": [],
   "source": [
    "train, test = keras.datasets.cifar10.load_data()"
   ]
  },
  {
   "cell_type": "code",
   "execution_count": 3,
   "metadata": {},
   "outputs": [],
   "source": [
    "## 資料前處理\n",
    "def preproc_x(x, flatten=True):\n",
    "    x = x / 255.\n",
    "    if flatten:\n",
    "        x = x.reshape((len(x), -1))\n",
    "    return x\n",
    "\n",
    "def preproc_y(y, num_classes=10):\n",
    "    if y.shape[-1] == 1:\n",
    "        y = keras.utils.to_categorical(y, num_classes)\n",
    "    return y    "
   ]
  },
  {
   "cell_type": "code",
   "execution_count": 4,
   "metadata": {},
   "outputs": [],
   "source": [
    "x_train, y_train = train\n",
    "x_test, y_test = test\n",
    "\n",
    "# Preproc the inputs\n",
    "x_train = preproc_x(x_train)\n",
    "x_test = preproc_x(x_test)\n",
    "\n",
    "# Preprc the outputs\n",
    "y_train = preproc_y(y_train)\n",
    "y_test = preproc_y(y_test)"
   ]
  },
  {
   "cell_type": "code",
   "execution_count": 5,
   "metadata": {},
   "outputs": [],
   "source": [
    "from keras.layers import BatchNormalization\n",
    "def build_mlp(input_shape, output_units=10, num_neurons=[512, 256, 128]):\n",
    "    input_layer = keras.layers.Input(input_shape)\n",
    "    \n",
    "    for i, n_units in enumerate(num_neurons):\n",
    "        if i == 0:\n",
    "            x = keras.layers.Dense(units=n_units, \n",
    "                                   activation=\"relu\", \n",
    "                                   name=\"hidden_layer\"+str(i+1))(input_layer)\n",
    "            x = BatchNormalization()(x)\n",
    "        else:\n",
    "            x = keras.layers.Dense(units=n_units, \n",
    "                                   activation=\"relu\", \n",
    "                                   name=\"hidden_layer\"+str(i+1))(x)\n",
    "            x = BatchNormalization()(x)\n",
    "    \n",
    "    out = keras.layers.Dense(units=output_units, activation=\"softmax\", name=\"output\")(x)\n",
    "    \n",
    "    model = keras.models.Model(inputs=[input_layer], outputs=[out])\n",
    "    return model"
   ]
  },
  {
   "cell_type": "code",
   "execution_count": 6,
   "metadata": {},
   "outputs": [],
   "source": [
    "## 超參數設定\n",
    "LEARNING_RATE = 1e-3\n",
    "EPOCHS = 50\n",
    "BATCH_SIZE = 1024\n",
    "MOMENTUM = 0.95"
   ]
  },
  {
   "cell_type": "code",
   "execution_count": 7,
   "metadata": {},
   "outputs": [],
   "source": [
    "# 載入 Callbacks\n",
    "from keras.callbacks import ModelCheckpoint\n",
    "\n",
    "model_ckpt = ModelCheckpoint(filepath=\"./tmp.h5\", \n",
    "                             monitor=\"val_loss\", \n",
    "                             save_best_only=True)"
   ]
  },
  {
   "cell_type": "code",
   "execution_count": 8,
   "metadata": {
    "scrolled": true
   },
   "outputs": [
    {
     "name": "stderr",
     "output_type": "stream",
     "text": [
      "WARNING: Logging before flag parsing goes to stderr.\n",
      "W0728 00:19:45.315208  2064 deprecation_wrapper.py:119] From C:\\Users\\USER\\Anaconda3\\envs\\tensorflow\\lib\\site-packages\\keras\\backend\\tensorflow_backend.py:74: The name tf.get_default_graph is deprecated. Please use tf.compat.v1.get_default_graph instead.\n",
      "\n",
      "W0728 00:19:45.348559  2064 deprecation_wrapper.py:119] From C:\\Users\\USER\\Anaconda3\\envs\\tensorflow\\lib\\site-packages\\keras\\backend\\tensorflow_backend.py:517: The name tf.placeholder is deprecated. Please use tf.compat.v1.placeholder instead.\n",
      "\n",
      "W0728 00:19:45.364650  2064 deprecation_wrapper.py:119] From C:\\Users\\USER\\Anaconda3\\envs\\tensorflow\\lib\\site-packages\\keras\\backend\\tensorflow_backend.py:4138: The name tf.random_uniform is deprecated. Please use tf.random.uniform instead.\n",
      "\n",
      "W0728 00:19:45.512556  2064 deprecation_wrapper.py:119] From C:\\Users\\USER\\Anaconda3\\envs\\tensorflow\\lib\\site-packages\\keras\\backend\\tensorflow_backend.py:133: The name tf.placeholder_with_default is deprecated. Please use tf.compat.v1.placeholder_with_default instead.\n",
      "\n",
      "W0728 00:19:46.028879  2064 deprecation_wrapper.py:119] From C:\\Users\\USER\\Anaconda3\\envs\\tensorflow\\lib\\site-packages\\keras\\optimizers.py:790: The name tf.train.Optimizer is deprecated. Please use tf.compat.v1.train.Optimizer instead.\n",
      "\n",
      "W0728 00:19:46.047297  2064 deprecation_wrapper.py:119] From C:\\Users\\USER\\Anaconda3\\envs\\tensorflow\\lib\\site-packages\\keras\\backend\\tensorflow_backend.py:3295: The name tf.log is deprecated. Please use tf.math.log instead.\n",
      "\n"
     ]
    },
    {
     "name": "stdout",
     "output_type": "stream",
     "text": [
      "_________________________________________________________________\n",
      "Layer (type)                 Output Shape              Param #   \n",
      "=================================================================\n",
      "input_1 (InputLayer)         (None, 3072)              0         \n",
      "_________________________________________________________________\n",
      "hidden_layer1 (Dense)        (None, 512)               1573376   \n",
      "_________________________________________________________________\n",
      "batch_normalization_1 (Batch (None, 512)               2048      \n",
      "_________________________________________________________________\n",
      "hidden_layer2 (Dense)        (None, 256)               131328    \n",
      "_________________________________________________________________\n",
      "batch_normalization_2 (Batch (None, 256)               1024      \n",
      "_________________________________________________________________\n",
      "hidden_layer3 (Dense)        (None, 128)               32896     \n",
      "_________________________________________________________________\n",
      "batch_normalization_3 (Batch (None, 128)               512       \n",
      "_________________________________________________________________\n",
      "output (Dense)               (None, 10)                1290      \n",
      "=================================================================\n",
      "Total params: 1,742,474\n",
      "Trainable params: 1,740,682\n",
      "Non-trainable params: 1,792\n",
      "_________________________________________________________________\n"
     ]
    },
    {
     "name": "stderr",
     "output_type": "stream",
     "text": [
      "W0728 00:19:46.250403  2064 deprecation.py:323] From C:\\Users\\USER\\Anaconda3\\envs\\tensorflow\\lib\\site-packages\\tensorflow\\python\\ops\\math_grad.py:1250: add_dispatch_support.<locals>.wrapper (from tensorflow.python.ops.array_ops) is deprecated and will be removed in a future version.\n",
      "Instructions for updating:\n",
      "Use tf.where in 2.0, which has the same broadcast rule as np.where\n"
     ]
    },
    {
     "name": "stdout",
     "output_type": "stream",
     "text": [
      "Train on 50000 samples, validate on 10000 samples\n",
      "Epoch 1/50\n",
      "50000/50000 [==============================] - 10s 195us/step - loss: 2.2316 - acc: 0.2632 - val_loss: 2.0808 - val_acc: 0.3159\n",
      "Epoch 2/50\n",
      "50000/50000 [==============================] - 8s 169us/step - loss: 1.7468 - acc: 0.3866 - val_loss: 1.8293 - val_acc: 0.3578\n",
      "Epoch 3/50\n",
      "50000/50000 [==============================] - 8s 165us/step - loss: 1.6242 - acc: 0.4287 - val_loss: 1.6901 - val_acc: 0.4060\n",
      "Epoch 4/50\n",
      "50000/50000 [==============================] - 9s 173us/step - loss: 1.5517 - acc: 0.4530 - val_loss: 1.6268 - val_acc: 0.4226\n",
      "Epoch 5/50\n",
      "50000/50000 [==============================] - 8s 161us/step - loss: 1.4964 - acc: 0.4728 - val_loss: 1.5977 - val_acc: 0.4325\n",
      "Epoch 6/50\n",
      "50000/50000 [==============================] - 8s 170us/step - loss: 1.4534 - acc: 0.4894 - val_loss: 1.5758 - val_acc: 0.4400\n",
      "Epoch 7/50\n",
      "50000/50000 [==============================] - 8s 168us/step - loss: 1.4122 - acc: 0.5053 - val_loss: 1.5419 - val_acc: 0.4566\n",
      "Epoch 8/50\n",
      "50000/50000 [==============================] - 8s 170us/step - loss: 1.3766 - acc: 0.5177 - val_loss: 1.5318 - val_acc: 0.4621\n",
      "Epoch 9/50\n",
      "50000/50000 [==============================] - 8s 167us/step - loss: 1.3453 - acc: 0.5307 - val_loss: 1.5126 - val_acc: 0.4670\n",
      "Epoch 10/50\n",
      "50000/50000 [==============================] - 8s 164us/step - loss: 1.3139 - acc: 0.5418 - val_loss: 1.5146 - val_acc: 0.4619\n",
      "Epoch 11/50\n",
      "50000/50000 [==============================] - 8s 167us/step - loss: 1.2878 - acc: 0.5520 - val_loss: 1.4946 - val_acc: 0.4733\n",
      "Epoch 12/50\n",
      "50000/50000 [==============================] - 9s 170us/step - loss: 1.2599 - acc: 0.5622 - val_loss: 1.4877 - val_acc: 0.4797\n",
      "Epoch 13/50\n",
      "50000/50000 [==============================] - 9s 173us/step - loss: 1.2337 - acc: 0.5722 - val_loss: 1.4747 - val_acc: 0.4867\n",
      "Epoch 14/50\n",
      "50000/50000 [==============================] - 8s 168us/step - loss: 1.2070 - acc: 0.5813 - val_loss: 1.4614 - val_acc: 0.4877\n",
      "Epoch 15/50\n",
      "50000/50000 [==============================] - 9s 172us/step - loss: 1.1834 - acc: 0.5913 - val_loss: 1.4559 - val_acc: 0.4926\n",
      "Epoch 16/50\n",
      "50000/50000 [==============================] - 9s 171us/step - loss: 1.1599 - acc: 0.5970 - val_loss: 1.4524 - val_acc: 0.4903\n",
      "Epoch 17/50\n",
      "50000/50000 [==============================] - 9s 172us/step - loss: 1.1358 - acc: 0.6075 - val_loss: 1.4494 - val_acc: 0.4875\n",
      "Epoch 18/50\n",
      "50000/50000 [==============================] - 8s 166us/step - loss: 1.1129 - acc: 0.6160 - val_loss: 1.4586 - val_acc: 0.4906\n",
      "Epoch 19/50\n",
      "50000/50000 [==============================] - 9s 173us/step - loss: 1.0909 - acc: 0.6248 - val_loss: 1.4616 - val_acc: 0.4940\n",
      "Epoch 20/50\n",
      "50000/50000 [==============================] - 8s 168us/step - loss: 1.0695 - acc: 0.6327 - val_loss: 1.4427 - val_acc: 0.4935\n",
      "Epoch 21/50\n",
      "50000/50000 [==============================] - 9s 171us/step - loss: 1.0457 - acc: 0.6434 - val_loss: 1.4628 - val_acc: 0.4916\n",
      "Epoch 22/50\n",
      "50000/50000 [==============================] - 9s 171us/step - loss: 1.0272 - acc: 0.6506 - val_loss: 1.4421 - val_acc: 0.4969\n",
      "Epoch 23/50\n",
      "50000/50000 [==============================] - 9s 172us/step - loss: 1.0039 - acc: 0.6585 - val_loss: 1.4479 - val_acc: 0.4973\n",
      "Epoch 24/50\n",
      "50000/50000 [==============================] - 9s 172us/step - loss: 0.9846 - acc: 0.6650 - val_loss: 1.4691 - val_acc: 0.4950\n",
      "Epoch 25/50\n",
      "50000/50000 [==============================] - 8s 169us/step - loss: 0.9644 - acc: 0.6739 - val_loss: 1.4603 - val_acc: 0.4990\n",
      "Epoch 26/50\n",
      "50000/50000 [==============================] - 9s 177us/step - loss: 0.9424 - acc: 0.6838 - val_loss: 1.4576 - val_acc: 0.4967\n",
      "Epoch 27/50\n",
      "50000/50000 [==============================] - 9s 170us/step - loss: 0.9228 - acc: 0.6909 - val_loss: 1.4621 - val_acc: 0.4988\n",
      "Epoch 28/50\n",
      "50000/50000 [==============================] - 9s 173us/step - loss: 0.9018 - acc: 0.6986 - val_loss: 1.4803 - val_acc: 0.4970\n",
      "Epoch 29/50\n",
      "50000/50000 [==============================] - 8s 167us/step - loss: 0.8820 - acc: 0.7071 - val_loss: 1.4769 - val_acc: 0.4957\n",
      "Epoch 30/50\n",
      "50000/50000 [==============================] - 9s 173us/step - loss: 0.8620 - acc: 0.7140 - val_loss: 1.4640 - val_acc: 0.5006\n",
      "Epoch 31/50\n",
      "50000/50000 [==============================] - 8s 170us/step - loss: 0.8410 - acc: 0.7232 - val_loss: 1.4889 - val_acc: 0.4966\n",
      "Epoch 32/50\n",
      "50000/50000 [==============================] - 9s 174us/step - loss: 0.8219 - acc: 0.7317 - val_loss: 1.4914 - val_acc: 0.5040\n",
      "Epoch 33/50\n",
      "50000/50000 [==============================] - 8s 166us/step - loss: 0.8026 - acc: 0.7389 - val_loss: 1.5019 - val_acc: 0.4941\n",
      "Epoch 34/50\n",
      "50000/50000 [==============================] - 9s 174us/step - loss: 0.7812 - acc: 0.7467 - val_loss: 1.5044 - val_acc: 0.5005\n",
      "Epoch 35/50\n",
      "50000/50000 [==============================] - 8s 168us/step - loss: 0.7616 - acc: 0.7556 - val_loss: 1.5188 - val_acc: 0.4973\n",
      "Epoch 36/50\n",
      "50000/50000 [==============================] - 8s 169us/step - loss: 0.7421 - acc: 0.7633 - val_loss: 1.5406 - val_acc: 0.4938\n",
      "Epoch 37/50\n",
      "50000/50000 [==============================] - 9s 177us/step - loss: 0.7239 - acc: 0.7704 - val_loss: 1.5400 - val_acc: 0.4942\n",
      "Epoch 38/50\n",
      "50000/50000 [==============================] - 9s 171us/step - loss: 0.7051 - acc: 0.7771 - val_loss: 1.5328 - val_acc: 0.4948\n",
      "Epoch 39/50\n",
      "50000/50000 [==============================] - 9s 172us/step - loss: 0.6881 - acc: 0.7824 - val_loss: 1.5500 - val_acc: 0.4934\n",
      "Epoch 40/50\n",
      "50000/50000 [==============================] - 9s 172us/step - loss: 0.6686 - acc: 0.7925 - val_loss: 1.5450 - val_acc: 0.4985\n",
      "Epoch 41/50\n",
      "50000/50000 [==============================] - 9s 173us/step - loss: 0.6485 - acc: 0.8003 - val_loss: 1.5680 - val_acc: 0.4909\n",
      "Epoch 42/50\n",
      "50000/50000 [==============================] - 9s 171us/step - loss: 0.6302 - acc: 0.8093 - val_loss: 1.5769 - val_acc: 0.4994\n",
      "Epoch 43/50\n",
      "50000/50000 [==============================] - 9s 175us/step - loss: 0.6136 - acc: 0.8130 - val_loss: 1.5756 - val_acc: 0.4986\n",
      "Epoch 44/50\n",
      "50000/50000 [==============================] - 9s 170us/step - loss: 0.5933 - acc: 0.8220 - val_loss: 1.5966 - val_acc: 0.4932\n",
      "Epoch 45/50\n",
      "50000/50000 [==============================] - 8s 161us/step - loss: 0.5778 - acc: 0.8287 - val_loss: 1.6121 - val_acc: 0.4915\n",
      "Epoch 46/50\n",
      "50000/50000 [==============================] - 8s 153us/step - loss: 0.5595 - acc: 0.8371 - val_loss: 1.6160 - val_acc: 0.4973\n",
      "Epoch 47/50\n",
      "50000/50000 [==============================] - 8s 163us/step - loss: 0.5413 - acc: 0.8429 - val_loss: 1.6302 - val_acc: 0.4933\n",
      "Epoch 48/50\n",
      "50000/50000 [==============================] - 8s 157us/step - loss: 0.5250 - acc: 0.8506 - val_loss: 1.6299 - val_acc: 0.4929\n",
      "Epoch 49/50\n",
      "50000/50000 [==============================] - 8s 167us/step - loss: 0.5089 - acc: 0.8574 - val_loss: 1.6304 - val_acc: 0.4959\n",
      "Epoch 50/50\n",
      "50000/50000 [==============================] - 8s 161us/step - loss: 0.4908 - acc: 0.8639 - val_loss: 1.6553 - val_acc: 0.4937\n"
     ]
    }
   ],
   "source": [
    "model = build_mlp(input_shape=x_train.shape[1:])\n",
    "model.summary()\n",
    "optimizer = keras.optimizers.SGD(lr=LEARNING_RATE, nesterov=True, momentum=MOMENTUM)\n",
    "model.compile(loss=\"categorical_crossentropy\", metrics=[\"accuracy\"], optimizer=optimizer)\n",
    "\n",
    "model.fit(x_train, y_train, \n",
    "          epochs=EPOCHS, \n",
    "          batch_size=BATCH_SIZE, \n",
    "          validation_data=(x_test, y_test), \n",
    "          shuffle=True,\n",
    "          callbacks=[model_ckpt]\n",
    "         )\n",
    "model.save(\"final_model.h5\")\n",
    "model.save_weights(\"model_weights.h5\")\n",
    "# Collect results\n",
    "train_loss = model.history.history[\"loss\"]\n",
    "valid_loss = model.history.history[\"val_loss\"]\n",
    "train_acc = model.history.history[\"acc\"]\n",
    "valid_acc = model.history.history[\"val_acc\"]\n",
    "\n",
    "pred_final = model.predict(x_test)\n",
    "# Load back\n",
    "model = keras.models.load_model(\"./tmp.h5\")\n",
    "pred_loadback = model.predict(x_test)"
   ]
  },
  {
   "cell_type": "code",
   "execution_count": 9,
   "metadata": {},
   "outputs": [
    {
     "name": "stdout",
     "output_type": "stream",
     "text": [
      "Accuracy of final weights: 0.494\n",
      "Accuracy of best weights: 0.497\n"
     ]
    }
   ],
   "source": [
    "from sklearn.metrics import accuracy_score\n",
    "\n",
    "final_model_acc = accuracy_score(y_true=y_test.argmax(axis=-1), y_pred=pred_final.argmax(axis=-1))\n",
    "loadback_acc = accuracy_score(y_true=y_test.argmax(axis=-1), y_pred=pred_loadback.argmax(axis=-1))\n",
    "\n",
    "print(\"Accuracy of final weights: %.3f\" % final_model_acc)\n",
    "print(\"Accuracy of best weights: %.3f\" % loadback_acc)"
   ]
  },
  {
   "cell_type": "code",
   "execution_count": 10,
   "metadata": {},
   "outputs": [
    {
     "name": "stdout",
     "output_type": "stream",
     "text": [
      "Accuracy of best weights: 0.089\n",
      "Accuracy of best weights: 0.494\n"
     ]
    }
   ],
   "source": [
    "new_model = build_mlp(input_shape=x_train.shape[1:])\n",
    "new_model_pred = new_model.predict(x_test)\n",
    "new_model_acc = accuracy_score(y_true=y_test.argmax(axis=-1), y_pred=new_model_pred.argmax(axis=-1))\n",
    "print(\"Accuracy of best weights: %.3f\" % new_model_acc)\n",
    "\n",
    "new_model.load_weights(\"./model_weights.h5\")\n",
    "new_model_pred = new_model.predict(x_test)\n",
    "new_model_loadback_acc = accuracy_score(y_true=y_test.argmax(axis=-1), y_pred=new_model_pred.argmax(axis=-1))\n",
    "print(\"Accuracy of best weights: %.3f\" % new_model_loadback_acc)"
   ]
  }
 ],
 "metadata": {
  "kernelspec": {
   "display_name": "Python 3",
   "language": "python",
   "name": "python3"
  },
  "language_info": {
   "codemirror_mode": {
    "name": "ipython",
    "version": 3
   },
   "file_extension": ".py",
   "mimetype": "text/x-python",
   "name": "python",
   "nbconvert_exporter": "python",
   "pygments_lexer": "ipython3",
   "version": "3.7.3"
  }
 },
 "nbformat": 4,
 "nbformat_minor": 2
}
