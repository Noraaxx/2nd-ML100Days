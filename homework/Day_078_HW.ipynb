{
 "cells": [
  {
   "cell_type": "markdown",
   "metadata": {},
   "source": [
    "## Work\n",
    "1. 請嘗試將 preproc_x 替換成以每筆資料的 min/max 進行標準化至 -1 ~ 1 間，再進行訓練\n",
    "2. 請嘗試將 mlp 疊更深 (e.g 5~10 層)，進行訓練後觀察 learning curve 的走勢\n",
    "3. (optional) 請改用 GPU 進行訓練 (如果你有 GPU 的話)，比較使用 CPU 與 GPU 的訓練速度"
   ]
  },
  {
   "cell_type": "code",
   "execution_count": 1,
   "metadata": {},
   "outputs": [
    {
     "data": {
      "text/plain": [
       "'\\nYour code here (optional)\\n確認硬體資源\\n'"
      ]
     },
     "execution_count": 1,
     "metadata": {},
     "output_type": "execute_result"
    }
   ],
   "source": [
    "\"\"\"\n",
    "Your code here (optional)\n",
    "確認硬體資源\n",
    "\"\"\"\n",
    "#!nvidia-smi"
   ]
  },
  {
   "cell_type": "code",
   "execution_count": 2,
   "metadata": {},
   "outputs": [
    {
     "name": "stderr",
     "output_type": "stream",
     "text": [
      "Using TensorFlow backend.\n"
     ]
    }
   ],
   "source": [
    "import os\n",
    "import keras\n",
    "\n",
    "# 請嘗試設定 GPU：os.environ\n",
    "os.environ[\"CUDA_VISIBLE_DEVICES\"] = \"0\""
   ]
  },
  {
   "cell_type": "code",
   "execution_count": 3,
   "metadata": {},
   "outputs": [],
   "source": [
    "train, test = keras.datasets.cifar10.load_data()"
   ]
  },
  {
   "cell_type": "code",
   "execution_count": 4,
   "metadata": {},
   "outputs": [],
   "source": [
    "## 資料前處理\n",
    "\"\"\"\n",
    "Your code here\n",
    "\"\"\"\n",
    "def preproc_x(x, flatten=True):\n",
    "    x = 2*(((x - x.min()) / (x.max() - x.min()))-0.5)\n",
    "    if flatten:\n",
    "        x = x.reshape((len(x), -1))\n",
    "    return x\n",
    "\n",
    "def preproc_y(y, num_classes=10):\n",
    "    if y.shape[-1] == 1:\n",
    "        y = keras.utils.to_categorical(y, num_classes)\n",
    "    return y    "
   ]
  },
  {
   "cell_type": "code",
   "execution_count": 5,
   "metadata": {},
   "outputs": [],
   "source": [
    "x_train, y_train = train\n",
    "x_test, y_test = test\n",
    "\n",
    "# Preproc the inputs\n",
    "x_train = preproc_x(x_train)\n",
    "x_test = preproc_x(x_test)\n",
    "\n",
    "# Preprc the outputs\n",
    "y_train = preproc_y(y_train)\n",
    "y_test = preproc_y(y_test)"
   ]
  },
  {
   "cell_type": "code",
   "execution_count": 6,
   "metadata": {},
   "outputs": [],
   "source": [
    "\"\"\"Code Here\n",
    "建立你的神經網路\n",
    "\"\"\"\n",
    "def build_mlp(input_shape, output_units=10, num_neurons=[512, 256, 128, 128, 128]):\n",
    "    input_layer = keras.layers.Input(input_shape)\n",
    "    \n",
    "    for i, n_units in enumerate(num_neurons):\n",
    "        if i == 0:\n",
    "            x = keras.layers.Dense(units=n_units, activation=\"relu\", name=\"hidden_layer\"+str(i+1))(input_layer)\n",
    "        else:\n",
    "            x = keras.layers.Dense(units=n_units, activation=\"relu\", name=\"hidden_layer\"+str(i+1))(x)\n",
    "    \n",
    "    out = keras.layers.Dense(units=output_units, activation=\"softmax\", name=\"output\")(x)\n",
    "    \n",
    "    model = keras.models.Model(inputs=[input_layer], outputs=[out])\n",
    "    return model"
   ]
  },
  {
   "cell_type": "code",
   "execution_count": 7,
   "metadata": {},
   "outputs": [
    {
     "name": "stderr",
     "output_type": "stream",
     "text": [
      "WARNING: Logging before flag parsing goes to stderr.\n",
      "W0721 21:58:08.767789 10312 deprecation_wrapper.py:119] From C:\\Users\\USER\\Anaconda3\\envs\\tensorflow\\lib\\site-packages\\keras\\backend\\tensorflow_backend.py:74: The name tf.get_default_graph is deprecated. Please use tf.compat.v1.get_default_graph instead.\n",
      "\n",
      "W0721 21:58:08.829181 10312 deprecation_wrapper.py:119] From C:\\Users\\USER\\Anaconda3\\envs\\tensorflow\\lib\\site-packages\\keras\\backend\\tensorflow_backend.py:517: The name tf.placeholder is deprecated. Please use tf.compat.v1.placeholder instead.\n",
      "\n",
      "W0721 21:58:08.855987 10312 deprecation_wrapper.py:119] From C:\\Users\\USER\\Anaconda3\\envs\\tensorflow\\lib\\site-packages\\keras\\backend\\tensorflow_backend.py:4138: The name tf.random_uniform is deprecated. Please use tf.random.uniform instead.\n",
      "\n"
     ]
    },
    {
     "name": "stdout",
     "output_type": "stream",
     "text": [
      "_________________________________________________________________\n",
      "Layer (type)                 Output Shape              Param #   \n",
      "=================================================================\n",
      "input_1 (InputLayer)         (None, 3072)              0         \n",
      "_________________________________________________________________\n",
      "hidden_layer1 (Dense)        (None, 512)               1573376   \n",
      "_________________________________________________________________\n",
      "hidden_layer2 (Dense)        (None, 256)               131328    \n",
      "_________________________________________________________________\n",
      "hidden_layer3 (Dense)        (None, 128)               32896     \n",
      "_________________________________________________________________\n",
      "hidden_layer4 (Dense)        (None, 128)               16512     \n",
      "_________________________________________________________________\n",
      "hidden_layer5 (Dense)        (None, 128)               16512     \n",
      "_________________________________________________________________\n",
      "output (Dense)               (None, 10)                1290      \n",
      "=================================================================\n",
      "Total params: 1,771,914\n",
      "Trainable params: 1,771,914\n",
      "Non-trainable params: 0\n",
      "_________________________________________________________________\n"
     ]
    }
   ],
   "source": [
    "model = build_mlp(input_shape=x_train.shape[1:])\n",
    "model.summary()"
   ]
  },
  {
   "cell_type": "code",
   "execution_count": 8,
   "metadata": {},
   "outputs": [],
   "source": [
    "## 超參數設定\n",
    "LEARNING_RATE = 0.001\n",
    "EPOCHS = 100\n",
    "BATCH_SIZE = 256"
   ]
  },
  {
   "cell_type": "code",
   "execution_count": 9,
   "metadata": {},
   "outputs": [
    {
     "name": "stderr",
     "output_type": "stream",
     "text": [
      "W0721 21:58:09.119382 10312 deprecation_wrapper.py:119] From C:\\Users\\USER\\Anaconda3\\envs\\tensorflow\\lib\\site-packages\\keras\\optimizers.py:790: The name tf.train.Optimizer is deprecated. Please use tf.compat.v1.train.Optimizer instead.\n",
      "\n",
      "W0721 21:58:09.136366 10312 deprecation_wrapper.py:119] From C:\\Users\\USER\\Anaconda3\\envs\\tensorflow\\lib\\site-packages\\keras\\backend\\tensorflow_backend.py:3295: The name tf.log is deprecated. Please use tf.math.log instead.\n",
      "\n"
     ]
    }
   ],
   "source": [
    "optimizer = keras.optimizers.Adam(lr=LEARNING_RATE)\n",
    "model.compile(loss=\"categorical_crossentropy\", metrics=[\"accuracy\"], optimizer=optimizer)"
   ]
  },
  {
   "cell_type": "code",
   "execution_count": 10,
   "metadata": {},
   "outputs": [
    {
     "name": "stderr",
     "output_type": "stream",
     "text": [
      "W0721 21:58:09.363702 10312 deprecation.py:323] From C:\\Users\\USER\\Anaconda3\\envs\\tensorflow\\lib\\site-packages\\tensorflow\\python\\ops\\math_grad.py:1250: add_dispatch_support.<locals>.wrapper (from tensorflow.python.ops.array_ops) is deprecated and will be removed in a future version.\n",
      "Instructions for updating:\n",
      "Use tf.where in 2.0, which has the same broadcast rule as np.where\n",
      "W0721 21:58:09.574537 10312 deprecation_wrapper.py:119] From C:\\Users\\USER\\Anaconda3\\envs\\tensorflow\\lib\\site-packages\\keras\\backend\\tensorflow_backend.py:986: The name tf.assign_add is deprecated. Please use tf.compat.v1.assign_add instead.\n",
      "\n"
     ]
    },
    {
     "name": "stdout",
     "output_type": "stream",
     "text": [
      "Train on 50000 samples, validate on 10000 samples\n",
      "Epoch 1/100\n",
      "50000/50000 [==============================] - 15s 290us/step - loss: 1.7004 - acc: 0.3954 - val_loss: 1.5638 - val_acc: 0.4406\n",
      "Epoch 2/100\n",
      "50000/50000 [==============================] - 13s 265us/step - loss: 1.4677 - acc: 0.4807 - val_loss: 1.4267 - val_acc: 0.4990\n",
      "Epoch 3/100\n",
      "50000/50000 [==============================] - 14s 271us/step - loss: 1.3532 - acc: 0.5220 - val_loss: 1.4092 - val_acc: 0.4969\n",
      "Epoch 4/100\n",
      "50000/50000 [==============================] - 14s 273us/step - loss: 1.2569 - acc: 0.5564 - val_loss: 1.3918 - val_acc: 0.5163\n",
      "Epoch 5/100\n",
      "50000/50000 [==============================] - 13s 269us/step - loss: 1.1802 - acc: 0.5859 - val_loss: 1.3772 - val_acc: 0.5235\n",
      "Epoch 6/100\n",
      "50000/50000 [==============================] - 13s 267us/step - loss: 1.0966 - acc: 0.6133 - val_loss: 1.3393 - val_acc: 0.5307\n",
      "Epoch 7/100\n",
      "50000/50000 [==============================] - 14s 270us/step - loss: 1.0209 - acc: 0.6403 - val_loss: 1.3650 - val_acc: 0.5358\n",
      "Epoch 8/100\n",
      "50000/50000 [==============================] - 14s 271us/step - loss: 0.9551 - acc: 0.6612 - val_loss: 1.4023 - val_acc: 0.5339\n",
      "Epoch 9/100\n",
      "50000/50000 [==============================] - 14s 271us/step - loss: 0.8835 - acc: 0.6868 - val_loss: 1.4156 - val_acc: 0.5387\n",
      "Epoch 10/100\n",
      "50000/50000 [==============================] - 14s 273us/step - loss: 0.8090 - acc: 0.7130 - val_loss: 1.4975 - val_acc: 0.5268\n",
      "Epoch 11/100\n",
      "50000/50000 [==============================] - 13s 265us/step - loss: 0.7467 - acc: 0.7362 - val_loss: 1.4866 - val_acc: 0.5366\n",
      "Epoch 12/100\n",
      "50000/50000 [==============================] - 14s 272us/step - loss: 0.6867 - acc: 0.7561 - val_loss: 1.6048 - val_acc: 0.5265\n",
      "Epoch 13/100\n",
      "50000/50000 [==============================] - 14s 271us/step - loss: 0.6212 - acc: 0.7800 - val_loss: 1.6375 - val_acc: 0.5320\n",
      "Epoch 14/100\n",
      "50000/50000 [==============================] - 13s 268us/step - loss: 0.5817 - acc: 0.7940 - val_loss: 1.7384 - val_acc: 0.5275\n",
      "Epoch 15/100\n",
      "50000/50000 [==============================] - 14s 270us/step - loss: 0.5284 - acc: 0.8121 - val_loss: 1.8560 - val_acc: 0.5264\n",
      "Epoch 16/100\n",
      "50000/50000 [==============================] - 13s 268us/step - loss: 0.4908 - acc: 0.8256 - val_loss: 1.9464 - val_acc: 0.5260\n",
      "Epoch 17/100\n",
      "50000/50000 [==============================] - 13s 267us/step - loss: 0.4409 - acc: 0.8452 - val_loss: 1.9507 - val_acc: 0.5295\n",
      "Epoch 18/100\n",
      "50000/50000 [==============================] - 13s 264us/step - loss: 0.4085 - acc: 0.8555 - val_loss: 2.1388 - val_acc: 0.5278\n",
      "Epoch 19/100\n",
      "50000/50000 [==============================] - 13s 269us/step - loss: 0.3842 - acc: 0.8651 - val_loss: 2.1281 - val_acc: 0.5333\n",
      "Epoch 20/100\n",
      "50000/50000 [==============================] - 14s 273us/step - loss: 0.3527 - acc: 0.8748 - val_loss: 2.1775 - val_acc: 0.5345\n",
      "Epoch 21/100\n",
      "50000/50000 [==============================] - 14s 278us/step - loss: 0.3200 - acc: 0.8867 - val_loss: 2.3157 - val_acc: 0.5334\n",
      "Epoch 22/100\n",
      "50000/50000 [==============================] - 14s 279us/step - loss: 0.2998 - acc: 0.8948 - val_loss: 2.4862 - val_acc: 0.5265\n",
      "Epoch 23/100\n",
      "50000/50000 [==============================] - 14s 282us/step - loss: 0.2955 - acc: 0.8977 - val_loss: 2.4108 - val_acc: 0.5318\n",
      "Epoch 24/100\n",
      "50000/50000 [==============================] - 9s 182us/step - loss: 0.2568 - acc: 0.9087 - val_loss: 2.5767 - val_acc: 0.5242\n",
      "Epoch 25/100\n",
      "50000/50000 [==============================] - 8s 169us/step - loss: 0.2544 - acc: 0.9102 - val_loss: 2.7189 - val_acc: 0.5279\n",
      "Epoch 26/100\n",
      "50000/50000 [==============================] - 8s 162us/step - loss: 0.2398 - acc: 0.9175 - val_loss: 2.7549 - val_acc: 0.5223\n",
      "Epoch 27/100\n",
      "50000/50000 [==============================] - 8s 165us/step - loss: 0.2357 - acc: 0.9176 - val_loss: 2.7547 - val_acc: 0.5310\n",
      "Epoch 28/100\n",
      "50000/50000 [==============================] - 8s 162us/step - loss: 0.2156 - acc: 0.9244 - val_loss: 2.9016 - val_acc: 0.5308\n",
      "Epoch 29/100\n",
      "50000/50000 [==============================] - 8s 168us/step - loss: 0.2233 - acc: 0.9217 - val_loss: 2.8293 - val_acc: 0.5241\n",
      "Epoch 30/100\n",
      "50000/50000 [==============================] - 8s 167us/step - loss: 0.1898 - acc: 0.9333 - val_loss: 2.9067 - val_acc: 0.5262\n",
      "Epoch 31/100\n",
      "50000/50000 [==============================] - 9s 174us/step - loss: 0.1919 - acc: 0.9325 - val_loss: 2.9138 - val_acc: 0.5317\n",
      "Epoch 32/100\n",
      "50000/50000 [==============================] - 8s 168us/step - loss: 0.1901 - acc: 0.9336 - val_loss: 3.0235 - val_acc: 0.5268\n",
      "Epoch 33/100\n",
      "50000/50000 [==============================] - 8s 169us/step - loss: 0.1778 - acc: 0.9389 - val_loss: 2.9509 - val_acc: 0.5283\n",
      "Epoch 34/100\n",
      "50000/50000 [==============================] - 9s 172us/step - loss: 0.1836 - acc: 0.9367 - val_loss: 3.0322 - val_acc: 0.5302\n",
      "Epoch 35/100\n",
      "50000/50000 [==============================] - 9s 171us/step - loss: 0.1666 - acc: 0.9434 - val_loss: 3.1334 - val_acc: 0.5284\n",
      "Epoch 36/100\n",
      "50000/50000 [==============================] - 9s 175us/step - loss: 0.1609 - acc: 0.9458 - val_loss: 3.1544 - val_acc: 0.5311\n",
      "Epoch 37/100\n",
      "50000/50000 [==============================] - 8s 169us/step - loss: 0.1601 - acc: 0.9457 - val_loss: 3.1473 - val_acc: 0.5255\n",
      "Epoch 38/100\n",
      "50000/50000 [==============================] - 9s 177us/step - loss: 0.1676 - acc: 0.9429 - val_loss: 3.1499 - val_acc: 0.5267\n",
      "Epoch 39/100\n",
      "50000/50000 [==============================] - 9s 172us/step - loss: 0.1309 - acc: 0.9550 - val_loss: 3.2864 - val_acc: 0.5299\n",
      "Epoch 40/100\n",
      "50000/50000 [==============================] - 9s 178us/step - loss: 0.1569 - acc: 0.9459 - val_loss: 3.3062 - val_acc: 0.5251\n",
      "Epoch 41/100\n",
      "50000/50000 [==============================] - 9s 173us/step - loss: 0.1411 - acc: 0.9520 - val_loss: 3.3178 - val_acc: 0.5217\n",
      "Epoch 42/100\n",
      "50000/50000 [==============================] - 9s 178us/step - loss: 0.1360 - acc: 0.9544 - val_loss: 3.3171 - val_acc: 0.5279\n",
      "Epoch 43/100\n",
      "50000/50000 [==============================] - 9s 174us/step - loss: 0.1442 - acc: 0.9520 - val_loss: 3.2284 - val_acc: 0.5233\n",
      "Epoch 44/100\n",
      "50000/50000 [==============================] - 9s 179us/step - loss: 0.1444 - acc: 0.9524 - val_loss: 3.2990 - val_acc: 0.5232\n",
      "Epoch 45/100\n",
      "50000/50000 [==============================] - 9s 178us/step - loss: 0.1195 - acc: 0.9602 - val_loss: 3.3739 - val_acc: 0.5269\n",
      "Epoch 46/100\n",
      "50000/50000 [==============================] - 9s 180us/step - loss: 0.1402 - acc: 0.9536 - val_loss: 3.3521 - val_acc: 0.5186\n",
      "Epoch 47/100\n",
      "50000/50000 [==============================] - 9s 178us/step - loss: 0.1263 - acc: 0.9570 - val_loss: 3.4441 - val_acc: 0.5273\n",
      "Epoch 48/100\n",
      "50000/50000 [==============================] - 9s 173us/step - loss: 0.1243 - acc: 0.9582 - val_loss: 3.3478 - val_acc: 0.5245\n",
      "Epoch 49/100\n",
      "50000/50000 [==============================] - 9s 182us/step - loss: 0.1247 - acc: 0.9580 - val_loss: 3.3845 - val_acc: 0.5244\n",
      "Epoch 50/100\n",
      "50000/50000 [==============================] - 9s 180us/step - loss: 0.1052 - acc: 0.9649 - val_loss: 3.4288 - val_acc: 0.5311\n",
      "Epoch 51/100\n",
      "50000/50000 [==============================] - 9s 180us/step - loss: 0.1247 - acc: 0.9581 - val_loss: 3.4114 - val_acc: 0.5181\n",
      "Epoch 52/100\n",
      "50000/50000 [==============================] - 9s 175us/step - loss: 0.1224 - acc: 0.9583 - val_loss: 3.4728 - val_acc: 0.5291\n",
      "Epoch 53/100\n",
      "50000/50000 [==============================] - 9s 177us/step - loss: 0.1126 - acc: 0.9622 - val_loss: 3.4882 - val_acc: 0.5311\n",
      "Epoch 54/100\n",
      "50000/50000 [==============================] - 9s 181us/step - loss: 0.1125 - acc: 0.9622 - val_loss: 3.5496 - val_acc: 0.5260\n",
      "Epoch 55/100\n",
      "50000/50000 [==============================] - 9s 190us/step - loss: 0.1197 - acc: 0.9606 - val_loss: 3.4824 - val_acc: 0.5330\n",
      "Epoch 56/100\n",
      "50000/50000 [==============================] - 10s 199us/step - loss: 0.0946 - acc: 0.9685 - val_loss: 3.5812 - val_acc: 0.5306\n",
      "Epoch 57/100\n",
      "50000/50000 [==============================] - 9s 187us/step - loss: 0.1075 - acc: 0.9644 - val_loss: 3.6103 - val_acc: 0.5243\n",
      "Epoch 58/100\n",
      "50000/50000 [==============================] - 9s 178us/step - loss: 0.1176 - acc: 0.9608 - val_loss: 3.5513 - val_acc: 0.5246\n",
      "Epoch 59/100\n"
     ]
    },
    {
     "name": "stdout",
     "output_type": "stream",
     "text": [
      "50000/50000 [==============================] - 9s 180us/step - loss: 0.1097 - acc: 0.9636 - val_loss: 3.6462 - val_acc: 0.5253\n",
      "Epoch 60/100\n",
      "50000/50000 [==============================] - 8s 170us/step - loss: 0.0964 - acc: 0.9680 - val_loss: 3.7644 - val_acc: 0.5270\n",
      "Epoch 61/100\n",
      "50000/50000 [==============================] - 9s 171us/step - loss: 0.1013 - acc: 0.9668 - val_loss: 3.6327 - val_acc: 0.5268\n",
      "Epoch 62/100\n",
      "50000/50000 [==============================] - 8s 167us/step - loss: 0.1032 - acc: 0.9659 - val_loss: 3.6689 - val_acc: 0.5284\n",
      "Epoch 63/100\n",
      "50000/50000 [==============================] - 9s 174us/step - loss: 0.0987 - acc: 0.9683 - val_loss: 3.6578 - val_acc: 0.5293\n",
      "Epoch 64/100\n",
      "50000/50000 [==============================] - 8s 168us/step - loss: 0.0954 - acc: 0.9692 - val_loss: 3.6880 - val_acc: 0.5292\n",
      "Epoch 65/100\n",
      "50000/50000 [==============================] - 9s 172us/step - loss: 0.0885 - acc: 0.9705 - val_loss: 3.6794 - val_acc: 0.5312\n",
      "Epoch 66/100\n",
      "50000/50000 [==============================] - 8s 167us/step - loss: 0.0948 - acc: 0.9690 - val_loss: 3.7464 - val_acc: 0.5223\n",
      "Epoch 67/100\n",
      "50000/50000 [==============================] - 9s 173us/step - loss: 0.1143 - acc: 0.9633 - val_loss: 3.5767 - val_acc: 0.5316\n",
      "Epoch 68/100\n",
      "50000/50000 [==============================] - 8s 169us/step - loss: 0.0807 - acc: 0.9738 - val_loss: 3.7808 - val_acc: 0.5136\n",
      "Epoch 69/100\n",
      "50000/50000 [==============================] - 9s 172us/step - loss: 0.0942 - acc: 0.9694 - val_loss: 3.8349 - val_acc: 0.5227\n",
      "Epoch 70/100\n",
      "50000/50000 [==============================] - 8s 168us/step - loss: 0.0875 - acc: 0.9713 - val_loss: 3.7146 - val_acc: 0.5216\n",
      "Epoch 71/100\n",
      "50000/50000 [==============================] - 9s 173us/step - loss: 0.0765 - acc: 0.9742 - val_loss: 3.6989 - val_acc: 0.5253\n",
      "Epoch 72/100\n",
      "50000/50000 [==============================] - 8s 168us/step - loss: 0.0892 - acc: 0.9714 - val_loss: 3.8158 - val_acc: 0.5268\n",
      "Epoch 73/100\n",
      "50000/50000 [==============================] - 9s 171us/step - loss: 0.0899 - acc: 0.9720 - val_loss: 3.7429 - val_acc: 0.5189\n",
      "Epoch 74/100\n",
      "50000/50000 [==============================] - 9s 170us/step - loss: 0.0913 - acc: 0.9704 - val_loss: 3.7736 - val_acc: 0.5236\n",
      "Epoch 75/100\n",
      "50000/50000 [==============================] - 9s 170us/step - loss: 0.0770 - acc: 0.9742 - val_loss: 3.7968 - val_acc: 0.5277\n",
      "Epoch 76/100\n",
      "50000/50000 [==============================] - 9s 170us/step - loss: 0.0926 - acc: 0.9703 - val_loss: 3.7156 - val_acc: 0.5291\n",
      "Epoch 77/100\n",
      "50000/50000 [==============================] - 8s 169us/step - loss: 0.0946 - acc: 0.9689 - val_loss: 3.7544 - val_acc: 0.5300\n",
      "Epoch 78/100\n",
      "50000/50000 [==============================] - 9s 172us/step - loss: 0.0617 - acc: 0.9802 - val_loss: 3.8109 - val_acc: 0.5303\n",
      "Epoch 79/100\n",
      "50000/50000 [==============================] - 8s 170us/step - loss: 0.0755 - acc: 0.9754 - val_loss: 3.8287 - val_acc: 0.5209\n",
      "Epoch 80/100\n",
      "50000/50000 [==============================] - 9s 174us/step - loss: 0.0981 - acc: 0.9680 - val_loss: 3.6868 - val_acc: 0.5327\n",
      "Epoch 81/100\n",
      "50000/50000 [==============================] - 8s 166us/step - loss: 0.0959 - acc: 0.9679 - val_loss: 3.6661 - val_acc: 0.5283\n",
      "Epoch 82/100\n",
      "50000/50000 [==============================] - 9s 170us/step - loss: 0.0737 - acc: 0.9763 - val_loss: 3.7568 - val_acc: 0.5276\n",
      "Epoch 83/100\n",
      "50000/50000 [==============================] - 8s 167us/step - loss: 0.0681 - acc: 0.9779 - val_loss: 3.7844 - val_acc: 0.5303\n",
      "Epoch 84/100\n",
      "50000/50000 [==============================] - 9s 174us/step - loss: 0.0732 - acc: 0.9766 - val_loss: 3.8901 - val_acc: 0.5292\n",
      "Epoch 85/100\n",
      "50000/50000 [==============================] - 9s 170us/step - loss: 0.0905 - acc: 0.9712 - val_loss: 3.7389 - val_acc: 0.5275\n",
      "Epoch 86/100\n",
      "50000/50000 [==============================] - 9s 171us/step - loss: 0.0848 - acc: 0.9732 - val_loss: 3.7420 - val_acc: 0.5321\n",
      "Epoch 87/100\n",
      "50000/50000 [==============================] - 8s 166us/step - loss: 0.0676 - acc: 0.9789 - val_loss: 3.9220 - val_acc: 0.5283\n",
      "Epoch 88/100\n",
      "50000/50000 [==============================] - 9s 170us/step - loss: 0.0812 - acc: 0.9738 - val_loss: 3.8221 - val_acc: 0.5290\n",
      "Epoch 89/100\n",
      "50000/50000 [==============================] - 9s 173us/step - loss: 0.0680 - acc: 0.9790 - val_loss: 3.8143 - val_acc: 0.5282\n",
      "Epoch 90/100\n",
      "50000/50000 [==============================] - 8s 170us/step - loss: 0.0659 - acc: 0.9787 - val_loss: 3.9147 - val_acc: 0.5231\n",
      "Epoch 91/100\n",
      "50000/50000 [==============================] - 8s 169us/step - loss: 0.0839 - acc: 0.9731 - val_loss: 3.8923 - val_acc: 0.5248\n",
      "Epoch 92/100\n",
      "50000/50000 [==============================] - 8s 169us/step - loss: 0.0686 - acc: 0.9782 - val_loss: 3.9085 - val_acc: 0.5265\n",
      "Epoch 93/100\n",
      "50000/50000 [==============================] - 9s 176us/step - loss: 0.0710 - acc: 0.9772 - val_loss: 3.8813 - val_acc: 0.5265\n",
      "Epoch 94/100\n",
      "50000/50000 [==============================] - 8s 168us/step - loss: 0.0706 - acc: 0.9782 - val_loss: 3.9349 - val_acc: 0.5230\n",
      "Epoch 95/100\n",
      "50000/50000 [==============================] - 9s 172us/step - loss: 0.0761 - acc: 0.9758 - val_loss: 3.8859 - val_acc: 0.5295\n",
      "Epoch 96/100\n",
      "50000/50000 [==============================] - 8s 166us/step - loss: 0.0666 - acc: 0.9788 - val_loss: 3.8944 - val_acc: 0.5277\n",
      "Epoch 97/100\n",
      "50000/50000 [==============================] - 9s 172us/step - loss: 0.0834 - acc: 0.9730 - val_loss: 3.9651 - val_acc: 0.5321\n",
      "Epoch 98/100\n",
      "50000/50000 [==============================] - 8s 166us/step - loss: 0.0620 - acc: 0.9808 - val_loss: 3.7855 - val_acc: 0.5282\n",
      "Epoch 99/100\n",
      "50000/50000 [==============================] - 9s 175us/step - loss: 0.0645 - acc: 0.9798 - val_loss: 3.8950 - val_acc: 0.5366\n",
      "Epoch 100/100\n",
      "50000/50000 [==============================] - 8s 166us/step - loss: 0.0710 - acc: 0.9772 - val_loss: 4.0559 - val_acc: 0.5223\n"
     ]
    },
    {
     "data": {
      "text/plain": [
       "<keras.callbacks.History at 0x2e534ac89b0>"
      ]
     },
     "execution_count": 10,
     "metadata": {},
     "output_type": "execute_result"
    }
   ],
   "source": [
    "model.fit(x_train, y_train, \n",
    "          epochs=EPOCHS, \n",
    "          batch_size=BATCH_SIZE, \n",
    "          validation_data=(x_test, y_test), \n",
    "          shuffle=True)"
   ]
  },
  {
   "cell_type": "code",
   "execution_count": 12,
   "metadata": {},
   "outputs": [
    {
     "data": {
      "image/png": "[encoded data removed]",
      "text/plain": [
       "<Figure size 432x288 with 1 Axes>"
      ]
     },
     "metadata": {
      "needs_background": "light"
     },
     "output_type": "display_data"
    },
    {
     "data": {
      "image/png": "[encoded data removed]",
      "text/plain": [
       "<Figure size 432x288 with 1 Axes>"
      ]
     },
     "metadata": {
      "needs_background": "light"
     },
     "output_type": "display_data"
    }
   ],
   "source": [
    "import matplotlib.pyplot as plt\n",
    "\n",
    "\n",
    "train_loss = model.history.history[\"loss\"]\n",
    "valid_loss = model.history.history[\"val_loss\"]\n",
    "\n",
    "train_acc = model.history.history[\"acc\"]\n",
    "valid_acc = model.history.history[\"val_acc\"]\n",
    "\n",
    "plt.plot(range(len(train_loss)), train_loss, label=\"train loss\")\n",
    "plt.plot(range(len(valid_loss)), valid_loss, label=\"valid loss\")\n",
    "plt.legend()\n",
    "plt.title(\"Loss\")\n",
    "plt.show()\n",
    "\n",
    "plt.plot(range(len(train_acc)), train_acc, label=\"train accuracy\")\n",
    "plt.plot(range(len(valid_acc)), valid_acc, label=\"valid accuracy\")\n",
    "plt.legend()\n",
    "plt.title(\"Accuracy\")\n",
    "plt.show()"
   ]
  }
 ],
 "metadata": {
  "kernelspec": {
   "display_name": "Python 3",
   "language": "python",
   "name": "python3"
  },
  "language_info": {
   "codemirror_mode": {
    "name": "ipython",
    "version": 3
   },
   "file_extension": ".py",
   "mimetype": "text/x-python",
   "name": "python",
   "nbconvert_exporter": "python",
   "pygments_lexer": "ipython3",
   "version": "3.7.3"
  }
 },
 "nbformat": 4,
 "nbformat_minor": 2
}
