{
 "cells": [
  {
   "cell_type": "markdown",
   "metadata": {},
   "source": [
    "## 範例重點\n",
    "* 學習如何在 keras 中撰寫自定義的 loss function\n",
    "* 知道如何在訓練時使用自定義的 loss function"
   ]
  },
  {
   "cell_type": "code",
   "execution_count": 1,
   "metadata": {},
   "outputs": [
    {
     "name": "stderr",
     "output_type": "stream",
     "text": [
      "Using TensorFlow backend.\n"
     ]
    }
   ],
   "source": [
    "import os\n",
    "import keras\n",
    "\n",
    "# 本範例不需使用 GPU, 將 GPU 設定為 \"無\"\n",
    "os.environ[\"CUDA_VISIBLE_DEVICES\"] = \"0\""
   ]
  },
  {
   "cell_type": "code",
   "execution_count": 2,
   "metadata": {},
   "outputs": [],
   "source": [
    "train, test = keras.datasets.cifar10.load_data()"
   ]
  },
  {
   "cell_type": "code",
   "execution_count": 3,
   "metadata": {},
   "outputs": [],
   "source": [
    "## 資料前處理\n",
    "def preproc_x(x, flatten=True):\n",
    "    x = x / 255.\n",
    "    if flatten:\n",
    "        x = x.reshape((len(x), -1))\n",
    "    return x\n",
    "\n",
    "def preproc_y(y, num_classes=10):\n",
    "    if y.shape[-1] == 1:\n",
    "        y = keras.utils.to_categorical(y, num_classes)\n",
    "    return y    "
   ]
  },
  {
   "cell_type": "code",
   "execution_count": 4,
   "metadata": {},
   "outputs": [],
   "source": [
    "x_train, y_train = train\n",
    "x_test, y_test = test\n",
    "\n",
    "# 資料前處理 - X 標準化\n",
    "x_train = preproc_x(x_train)\n",
    "x_test = preproc_x(x_test)\n",
    "\n",
    "# 資料前處理 -Y 轉成 onehot\n",
    "y_train = preproc_y(y_train)\n",
    "y_test = preproc_y(y_test)"
   ]
  },
  {
   "cell_type": "code",
   "execution_count": 5,
   "metadata": {},
   "outputs": [],
   "source": [
    "from keras.layers import BatchNormalization\n",
    "\n",
    "\"\"\"\n",
    "建立神經網路，並加入 BN layer\n",
    "\"\"\"\n",
    "def build_mlp(input_shape, output_units=10, num_neurons=[512, 256, 128]):\n",
    "    input_layer = keras.layers.Input(input_shape)\n",
    "    \n",
    "    for i, n_units in enumerate(num_neurons):\n",
    "        if i == 0:\n",
    "            x = keras.layers.Dense(units=n_units, \n",
    "                                   activation=\"relu\", \n",
    "                                   name=\"hidden_layer\"+str(i+1))(input_layer)\n",
    "            x = BatchNormalization()(x)\n",
    "        else:\n",
    "            x = keras.layers.Dense(units=n_units, \n",
    "                                   activation=\"relu\", \n",
    "                                   name=\"hidden_layer\"+str(i+1))(x)\n",
    "            x = BatchNormalization()(x)\n",
    "    \n",
    "    out = keras.layers.Dense(units=output_units, activation=\"softmax\", name=\"output\")(x)\n",
    "    \n",
    "    model = keras.models.Model(inputs=[input_layer], outputs=[out])\n",
    "    return model"
   ]
  },
  {
   "cell_type": "code",
   "execution_count": 6,
   "metadata": {},
   "outputs": [],
   "source": [
    "## 超參數設定\n",
    "LEARNING_RATE = 1e-3\n",
    "EPOCHS = 50\n",
    "BATCH_SIZE = 1024\n",
    "MOMENTUM = 0.95"
   ]
  },
  {
   "cell_type": "code",
   "execution_count": 7,
   "metadata": {},
   "outputs": [],
   "source": [
    "import tensorflow as tf\n",
    "import keras.backend as K\n",
    "\n",
    "\"\"\"\n",
    "# 撰寫自定義的 loss function: focal loss (https://blog.csdn.net/u014380165/article/details/77019084)\n",
    "\"\"\"\n",
    "def focal_loss(gamma=2., alpha=4.):\n",
    "    gamma = float(gamma)\n",
    "    alpha = float(alpha)\n",
    "    def focal_loss_fixed(y_true, y_pred):\n",
    "        \"\"\"Focal loss for multi-classification\n",
    "        FL(p_t)=-alpha(1-p_t)^{gamma}ln(p_t)\n",
    "        \"\"\"\n",
    "        epsilon = 1e-8\n",
    "        y_true = tf.convert_to_tensor(y_true, tf.float32)\n",
    "        y_pred = tf.convert_to_tensor(y_pred, tf.float32)\n",
    "\n",
    "        model_out = tf.add(y_pred, epsilon)\n",
    "        ce = tf.multiply(y_true, -tf.log(model_out))\n",
    "        weight = tf.multiply(y_true, tf.pow(tf.subtract(1., model_out), gamma))\n",
    "        fl = tf.multiply(alpha, tf.multiply(weight, ce))\n",
    "        reduced_fl = tf.reduce_max(fl, axis=1)\n",
    "        return tf.reduce_mean(reduced_fl)\n",
    "    return focal_loss_fixed"
   ]
  },
  {
   "cell_type": "code",
   "execution_count": 8,
   "metadata": {
    "scrolled": true
   },
   "outputs": [
    {
     "name": "stderr",
     "output_type": "stream",
     "text": [
      "WARNING: Logging before flag parsing goes to stderr.\n",
      "W0727 22:51:28.391180  2496 deprecation_wrapper.py:119] From C:\\Users\\USER\\Anaconda3\\envs\\tensorflow\\lib\\site-packages\\keras\\backend\\tensorflow_backend.py:74: The name tf.get_default_graph is deprecated. Please use tf.compat.v1.get_default_graph instead.\n",
      "\n",
      "W0727 22:51:28.500724  2496 deprecation_wrapper.py:119] From C:\\Users\\USER\\Anaconda3\\envs\\tensorflow\\lib\\site-packages\\keras\\backend\\tensorflow_backend.py:517: The name tf.placeholder is deprecated. Please use tf.compat.v1.placeholder instead.\n",
      "\n",
      "W0727 22:51:28.556125  2496 deprecation_wrapper.py:119] From C:\\Users\\USER\\Anaconda3\\envs\\tensorflow\\lib\\site-packages\\keras\\backend\\tensorflow_backend.py:4138: The name tf.random_uniform is deprecated. Please use tf.random.uniform instead.\n",
      "\n",
      "W0727 22:51:28.820710  2496 deprecation_wrapper.py:119] From C:\\Users\\USER\\Anaconda3\\envs\\tensorflow\\lib\\site-packages\\keras\\backend\\tensorflow_backend.py:133: The name tf.placeholder_with_default is deprecated. Please use tf.compat.v1.placeholder_with_default instead.\n",
      "\n",
      "W0727 22:51:29.630886  2496 deprecation_wrapper.py:119] From C:\\Users\\USER\\Anaconda3\\envs\\tensorflow\\lib\\site-packages\\keras\\optimizers.py:790: The name tf.train.Optimizer is deprecated. Please use tf.compat.v1.train.Optimizer instead.\n",
      "\n"
     ]
    },
    {
     "name": "stdout",
     "output_type": "stream",
     "text": [
      "_________________________________________________________________\n",
      "Layer (type)                 Output Shape              Param #   \n",
      "=================================================================\n",
      "input_1 (InputLayer)         (None, 3072)              0         \n",
      "_________________________________________________________________\n",
      "hidden_layer1 (Dense)        (None, 512)               1573376   \n",
      "_________________________________________________________________\n",
      "batch_normalization_1 (Batch (None, 512)               2048      \n",
      "_________________________________________________________________\n",
      "hidden_layer2 (Dense)        (None, 256)               131328    \n",
      "_________________________________________________________________\n",
      "batch_normalization_2 (Batch (None, 256)               1024      \n",
      "_________________________________________________________________\n",
      "hidden_layer3 (Dense)        (None, 128)               32896     \n",
      "_________________________________________________________________\n",
      "batch_normalization_3 (Batch (None, 128)               512       \n",
      "_________________________________________________________________\n",
      "output (Dense)               (None, 10)                1290      \n",
      "=================================================================\n",
      "Total params: 1,742,474\n",
      "Trainable params: 1,740,682\n",
      "Non-trainable params: 1,792\n",
      "_________________________________________________________________\n"
     ]
    },
    {
     "name": "stderr",
     "output_type": "stream",
     "text": [
      "W0727 22:51:29.867029  2496 deprecation.py:323] From C:\\Users\\USER\\Anaconda3\\envs\\tensorflow\\lib\\site-packages\\tensorflow\\python\\ops\\math_grad.py:1205: add_dispatch_support.<locals>.wrapper (from tensorflow.python.ops.array_ops) is deprecated and will be removed in a future version.\n",
      "Instructions for updating:\n",
      "Use tf.where in 2.0, which has the same broadcast rule as np.where\n",
      "W0727 22:51:30.606659  2496 deprecation_wrapper.py:119] From C:\\Users\\USER\\Anaconda3\\envs\\tensorflow\\lib\\site-packages\\keras\\backend\\tensorflow_backend.py:986: The name tf.assign_add is deprecated. Please use tf.compat.v1.assign_add instead.\n",
      "\n"
     ]
    },
    {
     "name": "stdout",
     "output_type": "stream",
     "text": [
      "Train on 50000 samples, validate on 10000 samples\n",
      "Epoch 1/50\n",
      "50000/50000 [==============================] - 10s 204us/step - loss: 5.9573 - acc: 0.3360 - val_loss: 5.8215 - val_acc: 0.3469\n",
      "Epoch 2/50\n",
      "50000/50000 [==============================] - 9s 174us/step - loss: 4.3454 - acc: 0.4508 - val_loss: 4.6977 - val_acc: 0.4163\n",
      "Epoch 3/50\n",
      "50000/50000 [==============================] - 8s 167us/step - loss: 3.9334 - acc: 0.4888 - val_loss: 4.3871 - val_acc: 0.4339\n",
      "Epoch 4/50\n",
      "50000/50000 [==============================] - 9s 171us/step - loss: 3.6600 - acc: 0.5166 - val_loss: 4.3690 - val_acc: 0.4371\n",
      "Epoch 5/50\n",
      "50000/50000 [==============================] - 9s 170us/step - loss: 3.4474 - acc: 0.5379 - val_loss: 4.1361 - val_acc: 0.4588\n",
      "Epoch 6/50\n",
      "50000/50000 [==============================] - 8s 168us/step - loss: 3.2645 - acc: 0.5555 - val_loss: 4.0718 - val_acc: 0.4695\n",
      "Epoch 7/50\n",
      "50000/50000 [==============================] - 8s 170us/step - loss: 3.0940 - acc: 0.5724 - val_loss: 4.0341 - val_acc: 0.4717\n",
      "Epoch 8/50\n",
      "50000/50000 [==============================] - 9s 170us/step - loss: 2.9423 - acc: 0.5882 - val_loss: 3.9109 - val_acc: 0.4857\n",
      "Epoch 9/50\n",
      "50000/50000 [==============================] - 9s 171us/step - loss: 2.7934 - acc: 0.6064 - val_loss: 3.9922 - val_acc: 0.4765\n",
      "Epoch 10/50\n",
      "50000/50000 [==============================] - 8s 167us/step - loss: 2.6546 - acc: 0.6197 - val_loss: 3.9175 - val_acc: 0.4911\n",
      "Epoch 11/50\n",
      "50000/50000 [==============================] - 8s 166us/step - loss: 2.5271 - acc: 0.6338 - val_loss: 3.9503 - val_acc: 0.4756\n",
      "Epoch 12/50\n",
      "50000/50000 [==============================] - 8s 168us/step - loss: 2.4047 - acc: 0.6481 - val_loss: 3.9206 - val_acc: 0.4868\n",
      "Epoch 13/50\n",
      "50000/50000 [==============================] - 9s 173us/step - loss: 2.2765 - acc: 0.6636 - val_loss: 3.9805 - val_acc: 0.4849\n",
      "Epoch 14/50\n",
      "50000/50000 [==============================] - 8s 157us/step - loss: 2.1477 - acc: 0.6774 - val_loss: 4.0552 - val_acc: 0.4742\n",
      "Epoch 15/50\n",
      "50000/50000 [==============================] - 9s 170us/step - loss: 2.0369 - acc: 0.6920 - val_loss: 3.9600 - val_acc: 0.4939\n",
      "Epoch 16/50\n",
      "50000/50000 [==============================] - 8s 169us/step - loss: 1.9152 - acc: 0.7051 - val_loss: 4.1262 - val_acc: 0.4847\n",
      "Epoch 17/50\n",
      "50000/50000 [==============================] - 8s 170us/step - loss: 1.8142 - acc: 0.7164 - val_loss: 4.0249 - val_acc: 0.4920\n",
      "Epoch 18/50\n",
      "50000/50000 [==============================] - 8s 168us/step - loss: 1.6905 - acc: 0.7337 - val_loss: 4.1646 - val_acc: 0.4870\n",
      "Epoch 19/50\n",
      "50000/50000 [==============================] - 9s 174us/step - loss: 1.5778 - acc: 0.7481 - val_loss: 4.2621 - val_acc: 0.4828\n",
      "Epoch 20/50\n",
      "50000/50000 [==============================] - 8s 168us/step - loss: 1.4806 - acc: 0.7592 - val_loss: 4.3026 - val_acc: 0.4845\n",
      "Epoch 21/50\n",
      "50000/50000 [==============================] - 9s 174us/step - loss: 1.3748 - acc: 0.7749 - val_loss: 4.3517 - val_acc: 0.4821\n",
      "Epoch 22/50\n",
      "50000/50000 [==============================] - 9s 170us/step - loss: 1.2827 - acc: 0.7866 - val_loss: 4.3618 - val_acc: 0.4963\n",
      "Epoch 23/50\n",
      "50000/50000 [==============================] - 8s 170us/step - loss: 1.1856 - acc: 0.8009 - val_loss: 4.4447 - val_acc: 0.4852\n",
      "Epoch 24/50\n",
      "50000/50000 [==============================] - 8s 169us/step - loss: 1.0869 - acc: 0.8151 - val_loss: 4.6770 - val_acc: 0.4755\n",
      "Epoch 25/50\n",
      "50000/50000 [==============================] - 8s 169us/step - loss: 1.0118 - acc: 0.8269 - val_loss: 4.5615 - val_acc: 0.4799\n",
      "Epoch 26/50\n",
      "50000/50000 [==============================] - 8s 169us/step - loss: 0.9252 - acc: 0.8383 - val_loss: 4.7149 - val_acc: 0.4737\n",
      "Epoch 27/50\n",
      "50000/50000 [==============================] - 8s 167us/step - loss: 0.8473 - acc: 0.8513 - val_loss: 4.8149 - val_acc: 0.4775\n",
      "Epoch 28/50\n",
      "50000/50000 [==============================] - 9s 171us/step - loss: 0.7774 - acc: 0.8637 - val_loss: 4.8401 - val_acc: 0.4859\n",
      "Epoch 29/50\n",
      "50000/50000 [==============================] - 8s 168us/step - loss: 0.7041 - acc: 0.8772 - val_loss: 5.0651 - val_acc: 0.4695\n",
      "Epoch 30/50\n",
      "50000/50000 [==============================] - 8s 170us/step - loss: 0.6367 - acc: 0.8892 - val_loss: 4.9727 - val_acc: 0.4867\n",
      "Epoch 31/50\n",
      "50000/50000 [==============================] - 8s 152us/step - loss: 0.5845 - acc: 0.8974 - val_loss: 5.0818 - val_acc: 0.4839\n",
      "Epoch 32/50\n",
      "50000/50000 [==============================] - 8s 157us/step - loss: 0.5352 - acc: 0.9060 - val_loss: 5.3476 - val_acc: 0.4809\n",
      "Epoch 33/50\n",
      "50000/50000 [==============================] - 8s 161us/step - loss: 0.4831 - acc: 0.9153 - val_loss: 5.2074 - val_acc: 0.4853\n",
      "Epoch 34/50\n",
      "50000/50000 [==============================] - 9s 172us/step - loss: 0.4336 - acc: 0.9251 - val_loss: 5.3646 - val_acc: 0.4761\n",
      "Epoch 35/50\n",
      "50000/50000 [==============================] - 8s 169us/step - loss: 0.3922 - acc: 0.9347 - val_loss: 5.4523 - val_acc: 0.4849\n",
      "Epoch 36/50\n",
      "50000/50000 [==============================] - 9s 174us/step - loss: 0.3588 - acc: 0.9401 - val_loss: 5.4472 - val_acc: 0.4807\n",
      "Epoch 37/50\n",
      "50000/50000 [==============================] - 8s 168us/step - loss: 0.3201 - acc: 0.9477 - val_loss: 5.6026 - val_acc: 0.4806\n",
      "Epoch 38/50\n",
      "50000/50000 [==============================] - 9s 174us/step - loss: 0.2893 - acc: 0.9531 - val_loss: 5.7758 - val_acc: 0.4818\n",
      "Epoch 39/50\n",
      "50000/50000 [==============================] - 8s 164us/step - loss: 0.2566 - acc: 0.9605 - val_loss: 5.6432 - val_acc: 0.4879\n",
      "Epoch 40/50\n",
      "50000/50000 [==============================] - 9s 175us/step - loss: 0.2299 - acc: 0.9662 - val_loss: 5.8445 - val_acc: 0.4827\n",
      "Epoch 41/50\n",
      "50000/50000 [==============================] - 8s 168us/step - loss: 0.2052 - acc: 0.9710 - val_loss: 5.9141 - val_acc: 0.4826\n",
      "Epoch 42/50\n",
      "50000/50000 [==============================] - 8s 170us/step - loss: 0.1809 - acc: 0.9751 - val_loss: 5.9187 - val_acc: 0.4870\n",
      "Epoch 43/50\n",
      "50000/50000 [==============================] - 8s 169us/step - loss: 0.1659 - acc: 0.9791 - val_loss: 5.9718 - val_acc: 0.4869\n",
      "Epoch 44/50\n",
      "50000/50000 [==============================] - 8s 170us/step - loss: 0.1510 - acc: 0.9814 - val_loss: 5.9627 - val_acc: 0.4889\n",
      "Epoch 45/50\n",
      "50000/50000 [==============================] - 9s 172us/step - loss: 0.1361 - acc: 0.9835 - val_loss: 6.0792 - val_acc: 0.4811\n",
      "Epoch 46/50\n",
      "50000/50000 [==============================] - 9s 172us/step - loss: 0.1217 - acc: 0.9865 - val_loss: 6.2678 - val_acc: 0.4863\n",
      "Epoch 47/50\n",
      "50000/50000 [==============================] - 9s 172us/step - loss: 0.1097 - acc: 0.9895 - val_loss: 6.1349 - val_acc: 0.4916\n",
      "Epoch 48/50\n",
      "50000/50000 [==============================] - 9s 170us/step - loss: 0.0965 - acc: 0.9915 - val_loss: 6.2458 - val_acc: 0.4875\n",
      "Epoch 49/50\n",
      "50000/50000 [==============================] - 8s 164us/step - loss: 0.0871 - acc: 0.9927 - val_loss: 6.2814 - val_acc: 0.4863\n",
      "Epoch 50/50\n",
      "50000/50000 [==============================] - 8s 168us/step - loss: 0.0823 - acc: 0.9935 - val_loss: 6.3862 - val_acc: 0.4888\n"
     ]
    },
    {
     "ename": "KeyError",
     "evalue": "'val_f1sc'",
     "output_type": "error",
     "traceback": [
      "\u001b[1;31m---------------------------------------------------------------------------\u001b[0m",
      "\u001b[1;31mKeyError\u001b[0m                                  Traceback (most recent call last)",
      "\u001b[1;32m<ipython-input-8-885fe266095b>\u001b[0m in \u001b[0;36m<module>\u001b[1;34m\u001b[0m\n\u001b[0;32m     20\u001b[0m \u001b[0mvalid_acc\u001b[0m \u001b[1;33m=\u001b[0m \u001b[0mmodel\u001b[0m\u001b[1;33m.\u001b[0m\u001b[0mhistory\u001b[0m\u001b[1;33m.\u001b[0m\u001b[0mhistory\u001b[0m\u001b[1;33m[\u001b[0m\u001b[1;34m\"val_acc\"\u001b[0m\u001b[1;33m]\u001b[0m\u001b[1;33m\u001b[0m\u001b[1;33m\u001b[0m\u001b[0m\n\u001b[0;32m     21\u001b[0m \u001b[1;33m\u001b[0m\u001b[0m\n\u001b[1;32m---> 22\u001b[1;33m \u001b[0mvalid_f1sc\u001b[0m \u001b[1;33m=\u001b[0m \u001b[0mmodel\u001b[0m\u001b[1;33m.\u001b[0m\u001b[0mhistory\u001b[0m\u001b[1;33m.\u001b[0m\u001b[0mhistory\u001b[0m\u001b[1;33m[\u001b[0m\u001b[1;34m'val_f1sc'\u001b[0m\u001b[1;33m]\u001b[0m\u001b[1;33m\u001b[0m\u001b[1;33m\u001b[0m\u001b[0m\n\u001b[0m",
      "\u001b[1;31mKeyError\u001b[0m: 'val_f1sc'"
     ]
    }
   ],
   "source": [
    "model = build_mlp(input_shape=x_train.shape[1:])\n",
    "model.summary()\n",
    "optimizer = keras.optimizers.SGD(lr=LEARNING_RATE, nesterov=True, momentum=MOMENTUM)\n",
    "\"\"\"\n",
    "# 在 compile 時，使用自定義的 loss function\n",
    "\"\"\"\n",
    "model.compile(loss=focal_loss(), metrics=[\"accuracy\"], optimizer=optimizer)\n",
    "\n",
    "model.fit(x_train, y_train, \n",
    "          epochs=EPOCHS, \n",
    "          batch_size=BATCH_SIZE, \n",
    "          validation_data=(x_test, y_test), \n",
    "          shuffle=True\n",
    "         )\n",
    "\n",
    "# Collect results\n",
    "train_loss = model.history.history[\"loss\"]\n",
    "valid_loss = model.history.history[\"val_loss\"]\n",
    "train_acc = model.history.history[\"acc\"]\n",
    "valid_acc = model.history.history[\"val_acc\"]\n",
    "\n",
    "valid_f1sc = model.history.history['val_f1sc']"
   ]
  },
  {
   "cell_type": "code",
   "execution_count": 9,
   "metadata": {},
   "outputs": [
    {
     "data": {
      "image/png": "[encoded data removed]",
      "text/plain": [
       "<Figure size 432x288 with 1 Axes>"
      ]
     },
     "metadata": {
      "needs_background": "light"
     },
     "output_type": "display_data"
    },
    {
     "data": {
      "image/png": "[encoded data removed]",
      "text/plain": [
       "<Figure size 432x288 with 1 Axes>"
      ]
     },
     "metadata": {
      "needs_background": "light"
     },
     "output_type": "display_data"
    }
   ],
   "source": [
    "import matplotlib.pyplot as plt\n",
    "%matplotlib inline\n",
    "\n",
    "plt.plot(range(len(train_loss)), train_loss, label=\"train loss\")\n",
    "plt.plot(range(len(valid_loss)), valid_loss, label=\"valid loss\")\n",
    "plt.legend()\n",
    "plt.title(\"Loss\")\n",
    "plt.show()\n",
    "\n",
    "plt.plot(range(len(train_acc)), train_acc, label=\"train accuracy\")\n",
    "plt.plot(range(len(valid_acc)), valid_acc, label=\"valid accuracy\")\n",
    "plt.legend()\n",
    "plt.title(\"Accuracy\")\n",
    "plt.show()"
   ]
  },
  {
   "cell_type": "markdown",
   "metadata": {},
   "source": [
    "## Work\n",
    "1. 請自行定義一個 loss function, 為 0.3 * focal loss + 0.7 cross-entropy，訓練並比較結果\n"
   ]
  }
 ],
 "metadata": {
  "kernelspec": {
   "display_name": "Python 3",
   "language": "python",
   "name": "python3"
  },
  "language_info": {
   "codemirror_mode": {
    "name": "ipython",
    "version": 3
   },
   "file_extension": ".py",
   "mimetype": "text/x-python",
   "name": "python",
   "nbconvert_exporter": "python",
   "pygments_lexer": "ipython3",
   "version": "3.7.3"
  }
 },
 "nbformat": 4,
 "nbformat_minor": 2
}
