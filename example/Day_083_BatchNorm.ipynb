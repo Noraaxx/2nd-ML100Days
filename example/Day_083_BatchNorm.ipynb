{
 "cells": [
  {
   "cell_type": "markdown",
   "metadata": {},
   "source": [
    "## 範例重點\n",
    "* 學習如何在 keras 中加入 BatchNorm\n",
    "* 知道有無 BN 對訓練的影響\n",
    "* 比較 BN 在不同 batch size 下的效果"
   ]
  },
  {
   "cell_type": "code",
   "execution_count": 1,
   "metadata": {},
   "outputs": [
    {
     "name": "stderr",
     "output_type": "stream",
     "text": [
      "Using TensorFlow backend.\n"
     ]
    }
   ],
   "source": [
    "import os\n",
    "import keras\n",
    "\n",
    "# 本範例不需使用 GPU, 將 GPU 設定為 \"無\"\n",
    "os.environ[\"CUDA_VISIBLE_DEVICES\"] = \"\""
   ]
  },
  {
   "cell_type": "code",
   "execution_count": 2,
   "metadata": {},
   "outputs": [],
   "source": [
    "train, test = keras.datasets.cifar10.load_data()"
   ]
  },
  {
   "cell_type": "code",
   "execution_count": 3,
   "metadata": {},
   "outputs": [],
   "source": [
    "## 資料前處理\n",
    "def preproc_x(x, flatten=True):\n",
    "    x = x / 255.\n",
    "    if flatten:\n",
    "        x = x.reshape((len(x), -1))\n",
    "    return x\n",
    "\n",
    "def preproc_y(y, num_classes=10):\n",
    "    if y.shape[-1] == 1:\n",
    "        y = keras.utils.to_categorical(y, num_classes)\n",
    "    return y    "
   ]
  },
  {
   "cell_type": "code",
   "execution_count": 4,
   "metadata": {},
   "outputs": [],
   "source": [
    "x_train, y_train = train\n",
    "x_test, y_test = test\n",
    "\n",
    "# 資料前處理 - X 標準化\n",
    "x_train = preproc_x(x_train)\n",
    "x_test = preproc_x(x_test)\n",
    "\n",
    "# 資料前處理 -Y 轉成 onehot\n",
    "y_train = preproc_y(y_train)\n",
    "y_test = preproc_y(y_test)"
   ]
  },
  {
   "cell_type": "code",
   "execution_count": 5,
   "metadata": {},
   "outputs": [],
   "source": [
    "from keras.layers import BatchNormalization\n",
    "\n",
    "\"\"\"\n",
    "建立神經網路，並加入 BN layer\n",
    "\"\"\"\n",
    "def build_mlp(input_shape, output_units=10, num_neurons=[512, 256, 128]):\n",
    "    input_layer = keras.layers.Input(input_shape)\n",
    "    \n",
    "    for i, n_units in enumerate(num_neurons):\n",
    "        if i == 0:\n",
    "            x = keras.layers.Dense(units=n_units, \n",
    "                                   activation=\"relu\", \n",
    "                                   name=\"hidden_layer\"+str(i+1))(input_layer)\n",
    "            x = BatchNormalization()(x)\n",
    "        else:\n",
    "            x = keras.layers.Dense(units=n_units, \n",
    "                                   activation=\"relu\", \n",
    "                                   name=\"hidden_layer\"+str(i+1))(x)\n",
    "            x = BatchNormalization()(x)\n",
    "    \n",
    "    out = keras.layers.Dense(units=output_units, activation=\"softmax\", name=\"output\")(x)\n",
    "    \n",
    "    model = keras.models.Model(inputs=[input_layer], outputs=[out])\n",
    "    return model"
   ]
  },
  {
   "cell_type": "code",
   "execution_count": 6,
   "metadata": {},
   "outputs": [],
   "source": [
    "## 超參數設定\n",
    "LEARNING_RATE = 1e-3\n",
    "EPOCHS = 50\n",
    "BATCH_SIZE = 1024\n",
    "MOMENTUM = 0.95"
   ]
  },
  {
   "cell_type": "code",
   "execution_count": 7,
   "metadata": {
    "scrolled": true
   },
   "outputs": [
    {
     "name": "stderr",
     "output_type": "stream",
     "text": [
      "WARNING: Logging before flag parsing goes to stderr.\n",
      "W0720 23:27:57.377961  3028 deprecation_wrapper.py:119] From C:\\Users\\USER\\Anaconda3\\envs\\tensorflow\\lib\\site-packages\\keras\\backend\\tensorflow_backend.py:74: The name tf.get_default_graph is deprecated. Please use tf.compat.v1.get_default_graph instead.\n",
      "\n",
      "W0720 23:27:57.433811  3028 deprecation_wrapper.py:119] From C:\\Users\\USER\\Anaconda3\\envs\\tensorflow\\lib\\site-packages\\keras\\backend\\tensorflow_backend.py:517: The name tf.placeholder is deprecated. Please use tf.compat.v1.placeholder instead.\n",
      "\n",
      "W0720 23:27:57.454854  3028 deprecation_wrapper.py:119] From C:\\Users\\USER\\Anaconda3\\envs\\tensorflow\\lib\\site-packages\\keras\\backend\\tensorflow_backend.py:4138: The name tf.random_uniform is deprecated. Please use tf.random.uniform instead.\n",
      "\n",
      "W0720 23:27:57.561514  3028 deprecation_wrapper.py:119] From C:\\Users\\USER\\Anaconda3\\envs\\tensorflow\\lib\\site-packages\\keras\\backend\\tensorflow_backend.py:133: The name tf.placeholder_with_default is deprecated. Please use tf.compat.v1.placeholder_with_default instead.\n",
      "\n",
      "W0720 23:27:57.785913  3028 deprecation_wrapper.py:119] From C:\\Users\\USER\\Anaconda3\\envs\\tensorflow\\lib\\site-packages\\keras\\optimizers.py:790: The name tf.train.Optimizer is deprecated. Please use tf.compat.v1.train.Optimizer instead.\n",
      "\n",
      "W0720 23:27:57.791897  3028 deprecation_wrapper.py:119] From C:\\Users\\USER\\Anaconda3\\envs\\tensorflow\\lib\\site-packages\\keras\\backend\\tensorflow_backend.py:3295: The name tf.log is deprecated. Please use tf.math.log instead.\n",
      "\n",
      "W0720 23:27:57.881657  3028 deprecation.py:323] From C:\\Users\\USER\\Anaconda3\\envs\\tensorflow\\lib\\site-packages\\tensorflow\\python\\ops\\math_grad.py:1250: add_dispatch_support.<locals>.wrapper (from tensorflow.python.ops.array_ops) is deprecated and will be removed in a future version.\n",
      "Instructions for updating:\n",
      "Use tf.where in 2.0, which has the same broadcast rule as np.where\n"
     ]
    },
    {
     "name": "stdout",
     "output_type": "stream",
     "text": [
      "_________________________________________________________________\n",
      "Layer (type)                 Output Shape              Param #   \n",
      "=================================================================\n",
      "input_1 (InputLayer)         (None, 3072)              0         \n",
      "_________________________________________________________________\n",
      "hidden_layer1 (Dense)        (None, 512)               1573376   \n",
      "_________________________________________________________________\n",
      "batch_normalization_1 (Batch (None, 512)               2048      \n",
      "_________________________________________________________________\n",
      "hidden_layer2 (Dense)        (None, 256)               131328    \n",
      "_________________________________________________________________\n",
      "batch_normalization_2 (Batch (None, 256)               1024      \n",
      "_________________________________________________________________\n",
      "hidden_layer3 (Dense)        (None, 128)               32896     \n",
      "_________________________________________________________________\n",
      "batch_normalization_3 (Batch (None, 128)               512       \n",
      "_________________________________________________________________\n",
      "output (Dense)               (None, 10)                1290      \n",
      "=================================================================\n",
      "Total params: 1,742,474\n",
      "Trainable params: 1,740,682\n",
      "Non-trainable params: 1,792\n",
      "_________________________________________________________________\n",
      "Train on 50000 samples, validate on 10000 samples\n",
      "Epoch 1/50\n",
      "50000/50000 [==============================] - 5s 104us/step - loss: 2.2651 - acc: 0.2573 - val_loss: 2.1364 - val_acc: 0.3036\n",
      "Epoch 2/50\n",
      "50000/50000 [==============================] - 4s 85us/step - loss: 1.7486 - acc: 0.3908 - val_loss: 1.7912 - val_acc: 0.3808\n",
      "Epoch 3/50\n",
      "50000/50000 [==============================] - 4s 85us/step - loss: 1.6226 - acc: 0.4298 - val_loss: 1.6778 - val_acc: 0.4102\n",
      "Epoch 4/50\n",
      "50000/50000 [==============================] - 4s 88us/step - loss: 1.5491 - acc: 0.4567 - val_loss: 1.6286 - val_acc: 0.4284\n",
      "Epoch 5/50\n",
      "50000/50000 [==============================] - 4s 85us/step - loss: 1.4956 - acc: 0.4743 - val_loss: 1.5979 - val_acc: 0.4425\n",
      "Epoch 6/50\n",
      "50000/50000 [==============================] - 4s 88us/step - loss: 1.4506 - acc: 0.4928 - val_loss: 1.5580 - val_acc: 0.4514\n",
      "Epoch 7/50\n",
      "50000/50000 [==============================] - 4s 90us/step - loss: 1.4111 - acc: 0.5062 - val_loss: 1.5439 - val_acc: 0.4587\n",
      "Epoch 8/50\n",
      "50000/50000 [==============================] - 4s 87us/step - loss: 1.3781 - acc: 0.5173 - val_loss: 1.5362 - val_acc: 0.4556\n",
      "Epoch 9/50\n",
      "50000/50000 [==============================] - 4s 86us/step - loss: 1.3449 - acc: 0.5302 - val_loss: 1.5086 - val_acc: 0.4675\n",
      "Epoch 10/50\n",
      "50000/50000 [==============================] - 4s 85us/step - loss: 1.3177 - acc: 0.5390 - val_loss: 1.4959 - val_acc: 0.4720\n",
      "Epoch 11/50\n",
      "50000/50000 [==============================] - 4s 88us/step - loss: 1.2872 - acc: 0.5520 - val_loss: 1.5244 - val_acc: 0.4563\n",
      "Epoch 12/50\n",
      "50000/50000 [==============================] - 4s 85us/step - loss: 1.2627 - acc: 0.5630 - val_loss: 1.4904 - val_acc: 0.4772\n",
      "Epoch 13/50\n",
      "50000/50000 [==============================] - 4s 85us/step - loss: 1.2379 - acc: 0.5705 - val_loss: 1.4757 - val_acc: 0.4790\n",
      "Epoch 14/50\n",
      "50000/50000 [==============================] - 4s 88us/step - loss: 1.2128 - acc: 0.5788 - val_loss: 1.4780 - val_acc: 0.4802\n",
      "Epoch 15/50\n",
      "50000/50000 [==============================] - 5s 97us/step - loss: 1.1905 - acc: 0.5890 - val_loss: 1.4629 - val_acc: 0.4830\n",
      "Epoch 16/50\n",
      "50000/50000 [==============================] - 5s 92us/step - loss: 1.1663 - acc: 0.5990 - val_loss: 1.4755 - val_acc: 0.4769\n",
      "Epoch 17/50\n",
      "50000/50000 [==============================] - 5s 92us/step - loss: 1.1434 - acc: 0.6077 - val_loss: 1.4633 - val_acc: 0.4797\n",
      "Epoch 18/50\n",
      "50000/50000 [==============================] - 5s 96us/step - loss: 1.1207 - acc: 0.6167 - val_loss: 1.4648 - val_acc: 0.4882\n",
      "Epoch 19/50\n",
      "50000/50000 [==============================] - 5s 94us/step - loss: 1.0994 - acc: 0.6226 - val_loss: 1.4486 - val_acc: 0.4928\n",
      "Epoch 20/50\n",
      "50000/50000 [==============================] - 5s 94us/step - loss: 1.0774 - acc: 0.6318 - val_loss: 1.4501 - val_acc: 0.4907\n",
      "Epoch 21/50\n",
      "50000/50000 [==============================] - 5s 96us/step - loss: 1.0565 - acc: 0.6390 - val_loss: 1.4662 - val_acc: 0.4878\n",
      "Epoch 22/50\n",
      "50000/50000 [==============================] - 5s 99us/step - loss: 1.0353 - acc: 0.6492 - val_loss: 1.4582 - val_acc: 0.4918\n",
      "Epoch 23/50\n",
      "50000/50000 [==============================] - 5s 98us/step - loss: 1.0153 - acc: 0.6565 - val_loss: 1.4524 - val_acc: 0.4953\n",
      "Epoch 24/50\n",
      "50000/50000 [==============================] - 5s 96us/step - loss: 0.9961 - acc: 0.6624 - val_loss: 1.4512 - val_acc: 0.4978\n",
      "Epoch 25/50\n",
      "50000/50000 [==============================] - 5s 102us/step - loss: 0.9744 - acc: 0.6722 - val_loss: 1.4613 - val_acc: 0.4976\n",
      "Epoch 26/50\n",
      "50000/50000 [==============================] - 5s 97us/step - loss: 0.9549 - acc: 0.6803 - val_loss: 1.4595 - val_acc: 0.4961\n",
      "Epoch 27/50\n",
      "50000/50000 [==============================] - 5s 97us/step - loss: 0.9344 - acc: 0.6878 - val_loss: 1.4619 - val_acc: 0.5022\n",
      "Epoch 28/50\n",
      "50000/50000 [==============================] - 5s 102us/step - loss: 0.9160 - acc: 0.6946 - val_loss: 1.4770 - val_acc: 0.4933\n",
      "Epoch 29/50\n",
      "50000/50000 [==============================] - 5s 98us/step - loss: 0.8948 - acc: 0.7029 - val_loss: 1.4733 - val_acc: 0.4928\n",
      "Epoch 30/50\n",
      "50000/50000 [==============================] - 5s 99us/step - loss: 0.8766 - acc: 0.7094 - val_loss: 1.4817 - val_acc: 0.4967\n",
      "Epoch 31/50\n",
      "50000/50000 [==============================] - 5s 102us/step - loss: 0.8576 - acc: 0.7172 - val_loss: 1.4905 - val_acc: 0.4938\n",
      "Epoch 32/50\n",
      "50000/50000 [==============================] - 5s 102us/step - loss: 0.8400 - acc: 0.7259 - val_loss: 1.4937 - val_acc: 0.4993\n",
      "Epoch 33/50\n",
      "50000/50000 [==============================] - 5s 100us/step - loss: 0.8178 - acc: 0.7337 - val_loss: 1.4961 - val_acc: 0.4964\n",
      "Epoch 34/50\n",
      "50000/50000 [==============================] - 5s 102us/step - loss: 0.8010 - acc: 0.7393 - val_loss: 1.5108 - val_acc: 0.4888\n",
      "Epoch 35/50\n",
      "50000/50000 [==============================] - 5s 104us/step - loss: 0.7799 - acc: 0.7487 - val_loss: 1.5074 - val_acc: 0.4994\n",
      "Epoch 36/50\n",
      "50000/50000 [==============================] - 5s 100us/step - loss: 0.7640 - acc: 0.7538 - val_loss: 1.5246 - val_acc: 0.4954\n",
      "Epoch 37/50\n",
      "50000/50000 [==============================] - 5s 101us/step - loss: 0.7425 - acc: 0.7625 - val_loss: 1.5150 - val_acc: 0.4972\n",
      "Epoch 38/50\n",
      "50000/50000 [==============================] - 5s 104us/step - loss: 0.7252 - acc: 0.7700 - val_loss: 1.5341 - val_acc: 0.4927\n",
      "Epoch 39/50\n",
      "50000/50000 [==============================] - 5s 100us/step - loss: 0.7043 - acc: 0.7785 - val_loss: 1.5628 - val_acc: 0.4903\n",
      "Epoch 40/50\n",
      "50000/50000 [==============================] - 5s 101us/step - loss: 0.6886 - acc: 0.7842 - val_loss: 1.5463 - val_acc: 0.4931\n",
      "Epoch 41/50\n",
      "50000/50000 [==============================] - 5s 107us/step - loss: 0.6708 - acc: 0.7915 - val_loss: 1.5483 - val_acc: 0.4988\n",
      "Epoch 42/50\n",
      "50000/50000 [==============================] - 5s 101us/step - loss: 0.6527 - acc: 0.8002 - val_loss: 1.5690 - val_acc: 0.4996\n",
      "Epoch 43/50\n",
      "50000/50000 [==============================] - 5s 102us/step - loss: 0.6335 - acc: 0.8058 - val_loss: 1.5804 - val_acc: 0.4978\n",
      "Epoch 44/50\n",
      "50000/50000 [==============================] - 5s 109us/step - loss: 0.6167 - acc: 0.8126 - val_loss: 1.5850 - val_acc: 0.4967\n",
      "Epoch 45/50\n",
      "50000/50000 [==============================] - 5s 109us/step - loss: 0.6018 - acc: 0.8168 - val_loss: 1.6063 - val_acc: 0.4949\n",
      "Epoch 46/50\n",
      "50000/50000 [==============================] - 5s 101us/step - loss: 0.5842 - acc: 0.8273 - val_loss: 1.6064 - val_acc: 0.4943\n",
      "Epoch 47/50\n",
      "50000/50000 [==============================] - 5s 106us/step - loss: 0.5649 - acc: 0.8336 - val_loss: 1.6288 - val_acc: 0.4914\n",
      "Epoch 48/50\n",
      "50000/50000 [==============================] - 5s 102us/step - loss: 0.5488 - acc: 0.8392 - val_loss: 1.6634 - val_acc: 0.4846\n",
      "Epoch 49/50\n",
      "50000/50000 [==============================] - 5s 101us/step - loss: 0.5324 - acc: 0.8448 - val_loss: 1.6659 - val_acc: 0.4954\n"
     ]
    },
    {
     "name": "stdout",
     "output_type": "stream",
     "text": [
      "Epoch 50/50\n",
      "50000/50000 [==============================] - 5s 105us/step - loss: 0.5163 - acc: 0.8519 - val_loss: 1.6527 - val_acc: 0.4964\n"
     ]
    }
   ],
   "source": [
    "model = build_mlp(input_shape=x_train.shape[1:])\n",
    "model.summary()\n",
    "optimizer = keras.optimizers.SGD(lr=LEARNING_RATE, nesterov=True, momentum=MOMENTUM)\n",
    "model.compile(loss=\"categorical_crossentropy\", metrics=[\"accuracy\"], optimizer=optimizer)\n",
    "\n",
    "model.fit(x_train, y_train, \n",
    "          epochs=EPOCHS, \n",
    "          batch_size=BATCH_SIZE, \n",
    "          validation_data=(x_test, y_test), \n",
    "          shuffle=True)\n",
    "\n",
    "# Collect results\n",
    "train_loss = model.history.history[\"loss\"]\n",
    "valid_loss = model.history.history[\"val_loss\"]\n",
    "train_acc = model.history.history[\"acc\"]\n",
    "valid_acc = model.history.history[\"val_acc\"]"
   ]
  },
  {
   "cell_type": "code",
   "execution_count": 8,
   "metadata": {},
   "outputs": [
    {
     "data": {
      "image/png": "[encoded data removed]",
      "text/plain": [
       "<Figure size 432x288 with 1 Axes>"
      ]
     },
     "metadata": {
      "needs_background": "light"
     },
     "output_type": "display_data"
    },
    {
     "data": {
      "image/png": "[encoded data removed]",
      "text/plain": [
       "<Figure size 432x288 with 1 Axes>"
      ]
     },
     "metadata": {
      "needs_background": "light"
     },
     "output_type": "display_data"
    }
   ],
   "source": [
    "import matplotlib.pyplot as plt\n",
    "%matplotlib inline\n",
    "\n",
    "plt.plot(range(len(train_loss)), train_loss, label=\"train loss\")\n",
    "plt.plot(range(len(valid_loss)), valid_loss, label=\"valid loss\")\n",
    "plt.legend()\n",
    "plt.title(\"Loss\")\n",
    "plt.show()\n",
    "\n",
    "plt.plot(range(len(train_acc)), train_acc, label=\"train accuracy\")\n",
    "plt.plot(range(len(valid_acc)), valid_acc, label=\"valid accuracy\")\n",
    "plt.legend()\n",
    "plt.title(\"Accuracy\")\n",
    "plt.show()"
   ]
  },
  {
   "cell_type": "markdown",
   "metadata": {},
   "source": [
    "## Work\n",
    "1. 試比較有 BN 在 Batch_size = 2, 16, 32, 128, 256 下的差異\n",
    "2. 請嘗試將 BN 放在 Activation 之前，並比較訓練結果\n",
    "3. 請於 BN 放在 Input Layer 後，並比較結果"
   ]
  }
 ],
 "metadata": {
  "kernelspec": {
   "display_name": "Python 3",
   "language": "python",
   "name": "python3"
  },
  "language_info": {
   "codemirror_mode": {
    "name": "ipython",
    "version": 3
   },
   "file_extension": ".py",
   "mimetype": "text/x-python",
   "name": "python",
   "nbconvert_exporter": "python",
   "pygments_lexer": "ipython3",
   "version": "3.7.3"
  }
 },
 "nbformat": 4,
 "nbformat_minor": 2
}
