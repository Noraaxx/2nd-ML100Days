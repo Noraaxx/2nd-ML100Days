{
 "cells": [
  {
   "cell_type": "markdown",
   "metadata": {},
   "source": [
    "## 範例重點\n",
    "* 學習如何在 keras 中加入 model checkpoint\n",
    "* 知道如何設定監控目標\n",
    "* 比較使用最佳與非最佳參數時的 performance"
   ]
  },
  {
   "cell_type": "code",
   "execution_count": 1,
   "metadata": {},
   "outputs": [
    {
     "name": "stderr",
     "output_type": "stream",
     "text": [
      "Using TensorFlow backend.\n"
     ]
    }
   ],
   "source": [
    "import os\n",
    "import keras\n",
    "\n",
    "# 本範例不需使用 GPU, 將 GPU 設定為 \"無\"\n",
    "os.environ[\"CUDA_VISIBLE_DEVICES\"] = \"0\""
   ]
  },
  {
   "cell_type": "code",
   "execution_count": 2,
   "metadata": {},
   "outputs": [],
   "source": [
    "train, test = keras.datasets.cifar10.load_data()"
   ]
  },
  {
   "cell_type": "code",
   "execution_count": 3,
   "metadata": {},
   "outputs": [],
   "source": [
    "## 資料前處理\n",
    "def preproc_x(x, flatten=True):\n",
    "    x = x / 255.\n",
    "    if flatten:\n",
    "        x = x.reshape((len(x), -1))\n",
    "    return x\n",
    "\n",
    "def preproc_y(y, num_classes=10):\n",
    "    if y.shape[-1] == 1:\n",
    "        y = keras.utils.to_categorical(y, num_classes)\n",
    "    return y    "
   ]
  },
  {
   "cell_type": "code",
   "execution_count": 4,
   "metadata": {},
   "outputs": [],
   "source": [
    "x_train, y_train = train\n",
    "x_test, y_test = test\n",
    "\n",
    "# 資料前處理 - X 標準化\n",
    "x_train = preproc_x(x_train)\n",
    "x_test = preproc_x(x_test)\n",
    "\n",
    "# 資料前處理 -Y 轉成 onehot\n",
    "y_train = preproc_y(y_train)\n",
    "y_test = preproc_y(y_test)"
   ]
  },
  {
   "cell_type": "code",
   "execution_count": 5,
   "metadata": {},
   "outputs": [],
   "source": [
    "from keras.layers import BatchNormalization\n",
    "\n",
    "\"\"\"\n",
    "建立神經網路，並加入 BN layer\n",
    "\"\"\"\n",
    "def build_mlp(input_shape, output_units=10, num_neurons=[512, 256, 128]):\n",
    "    input_layer = keras.layers.Input(input_shape)\n",
    "    \n",
    "    for i, n_units in enumerate(num_neurons):\n",
    "        if i == 0:\n",
    "            x = keras.layers.Dense(units=n_units, \n",
    "                                   activation=\"relu\", \n",
    "                                   name=\"hidden_layer\"+str(i+1))(input_layer)\n",
    "            x = BatchNormalization()(x)\n",
    "        else:\n",
    "            x = keras.layers.Dense(units=n_units, \n",
    "                                   activation=\"relu\", \n",
    "                                   name=\"hidden_layer\"+str(i+1))(x)\n",
    "            x = BatchNormalization()(x)\n",
    "    \n",
    "    out = keras.layers.Dense(units=output_units, activation=\"softmax\", name=\"output\")(x)\n",
    "    \n",
    "    model = keras.models.Model(inputs=[input_layer], outputs=[out])\n",
    "    return model"
   ]
  },
  {
   "cell_type": "code",
   "execution_count": 6,
   "metadata": {},
   "outputs": [],
   "source": [
    "## 超參數設定\n",
    "LEARNING_RATE = 1e-3\n",
    "EPOCHS = 50\n",
    "BATCH_SIZE = 1024\n",
    "MOMENTUM = 0.95"
   ]
  },
  {
   "cell_type": "code",
   "execution_count": 7,
   "metadata": {},
   "outputs": [],
   "source": [
    "\"\"\"\n",
    "# 載入 Callbacks, 並將監控目標設為 validation loss, 且只存最佳參數時的模型\n",
    "\"\"\"\n",
    "from keras.callbacks import ModelCheckpoint\n",
    "\n",
    "model_ckpt = ModelCheckpoint(filepath=\"./tmp.h5\", \n",
    "                             monitor=\"val_loss\", \n",
    "                             save_best_only=True)"
   ]
  },
  {
   "cell_type": "code",
   "execution_count": 8,
   "metadata": {
    "scrolled": true
   },
   "outputs": [
    {
     "name": "stderr",
     "output_type": "stream",
     "text": [
      "WARNING: Logging before flag parsing goes to stderr.\n",
      "W0724 23:30:07.266235  8524 deprecation_wrapper.py:119] From C:\\Users\\USER\\Anaconda3\\envs\\tensorflow\\lib\\site-packages\\keras\\backend\\tensorflow_backend.py:74: The name tf.get_default_graph is deprecated. Please use tf.compat.v1.get_default_graph instead.\n",
      "\n",
      "W0724 23:30:07.323868  8524 deprecation_wrapper.py:119] From C:\\Users\\USER\\Anaconda3\\envs\\tensorflow\\lib\\site-packages\\keras\\backend\\tensorflow_backend.py:517: The name tf.placeholder is deprecated. Please use tf.compat.v1.placeholder instead.\n",
      "\n",
      "W0724 23:30:07.349959  8524 deprecation_wrapper.py:119] From C:\\Users\\USER\\Anaconda3\\envs\\tensorflow\\lib\\site-packages\\keras\\backend\\tensorflow_backend.py:4138: The name tf.random_uniform is deprecated. Please use tf.random.uniform instead.\n",
      "\n",
      "W0724 23:30:07.543763  8524 deprecation_wrapper.py:119] From C:\\Users\\USER\\Anaconda3\\envs\\tensorflow\\lib\\site-packages\\keras\\backend\\tensorflow_backend.py:133: The name tf.placeholder_with_default is deprecated. Please use tf.compat.v1.placeholder_with_default instead.\n",
      "\n",
      "W0724 23:30:07.994085  8524 deprecation_wrapper.py:119] From C:\\Users\\USER\\Anaconda3\\envs\\tensorflow\\lib\\site-packages\\keras\\optimizers.py:790: The name tf.train.Optimizer is deprecated. Please use tf.compat.v1.train.Optimizer instead.\n",
      "\n",
      "W0724 23:30:08.006130  8524 deprecation_wrapper.py:119] From C:\\Users\\USER\\Anaconda3\\envs\\tensorflow\\lib\\site-packages\\keras\\backend\\tensorflow_backend.py:3295: The name tf.log is deprecated. Please use tf.math.log instead.\n",
      "\n"
     ]
    },
    {
     "name": "stdout",
     "output_type": "stream",
     "text": [
      "_________________________________________________________________\n",
      "Layer (type)                 Output Shape              Param #   \n",
      "=================================================================\n",
      "input_1 (InputLayer)         (None, 3072)              0         \n",
      "_________________________________________________________________\n",
      "hidden_layer1 (Dense)        (None, 512)               1573376   \n",
      "_________________________________________________________________\n",
      "batch_normalization_1 (Batch (None, 512)               2048      \n",
      "_________________________________________________________________\n",
      "hidden_layer2 (Dense)        (None, 256)               131328    \n",
      "_________________________________________________________________\n",
      "batch_normalization_2 (Batch (None, 256)               1024      \n",
      "_________________________________________________________________\n",
      "hidden_layer3 (Dense)        (None, 128)               32896     \n",
      "_________________________________________________________________\n",
      "batch_normalization_3 (Batch (None, 128)               512       \n",
      "_________________________________________________________________\n",
      "output (Dense)               (None, 10)                1290      \n",
      "=================================================================\n",
      "Total params: 1,742,474\n",
      "Trainable params: 1,740,682\n",
      "Non-trainable params: 1,792\n",
      "_________________________________________________________________\n"
     ]
    },
    {
     "name": "stderr",
     "output_type": "stream",
     "text": [
      "W0724 23:30:08.199084  8524 deprecation.py:323] From C:\\Users\\USER\\Anaconda3\\envs\\tensorflow\\lib\\site-packages\\tensorflow\\python\\ops\\math_grad.py:1250: add_dispatch_support.<locals>.wrapper (from tensorflow.python.ops.array_ops) is deprecated and will be removed in a future version.\n",
      "Instructions for updating:\n",
      "Use tf.where in 2.0, which has the same broadcast rule as np.where\n"
     ]
    },
    {
     "name": "stdout",
     "output_type": "stream",
     "text": [
      "Train on 50000 samples, validate on 10000 samples\n",
      "Epoch 1/50\n",
      "50000/50000 [==============================] - 10s 206us/step - loss: 2.2002 - acc: 0.2711 - val_loss: 2.0426 - val_acc: 0.3251\n",
      "Epoch 2/50\n",
      "50000/50000 [==============================] - 8s 164us/step - loss: 1.7323 - acc: 0.3945 - val_loss: 1.7901 - val_acc: 0.3848\n",
      "Epoch 3/50\n",
      "50000/50000 [==============================] - 9s 171us/step - loss: 1.6080 - acc: 0.4378 - val_loss: 1.6794 - val_acc: 0.4190\n",
      "Epoch 4/50\n",
      "50000/50000 [==============================] - 8s 167us/step - loss: 1.5368 - acc: 0.4621 - val_loss: 1.6154 - val_acc: 0.4327\n",
      "Epoch 5/50\n",
      "50000/50000 [==============================] - 8s 167us/step - loss: 1.4811 - acc: 0.4817 - val_loss: 1.5764 - val_acc: 0.4457\n",
      "Epoch 6/50\n",
      "50000/50000 [==============================] - 8s 169us/step - loss: 1.4366 - acc: 0.4973 - val_loss: 1.5542 - val_acc: 0.4535\n",
      "Epoch 7/50\n",
      "50000/50000 [==============================] - 8s 167us/step - loss: 1.3967 - acc: 0.5125 - val_loss: 1.5447 - val_acc: 0.4556\n",
      "Epoch 8/50\n",
      "50000/50000 [==============================] - 8s 168us/step - loss: 1.3615 - acc: 0.5261 - val_loss: 1.5294 - val_acc: 0.4670\n",
      "Epoch 9/50\n",
      "50000/50000 [==============================] - 8s 168us/step - loss: 1.3297 - acc: 0.5365 - val_loss: 1.5072 - val_acc: 0.4688\n",
      "Epoch 10/50\n",
      "50000/50000 [==============================] - 8s 167us/step - loss: 1.2994 - acc: 0.5485 - val_loss: 1.4974 - val_acc: 0.4712\n",
      "Epoch 11/50\n",
      "50000/50000 [==============================] - 8s 167us/step - loss: 1.2723 - acc: 0.5580 - val_loss: 1.4779 - val_acc: 0.4801\n",
      "Epoch 12/50\n",
      "50000/50000 [==============================] - 8s 168us/step - loss: 1.2469 - acc: 0.5671 - val_loss: 1.4760 - val_acc: 0.4812\n",
      "Epoch 13/50\n",
      "50000/50000 [==============================] - 8s 168us/step - loss: 1.2211 - acc: 0.5756 - val_loss: 1.4719 - val_acc: 0.4825\n",
      "Epoch 14/50\n",
      "50000/50000 [==============================] - 8s 168us/step - loss: 1.1981 - acc: 0.5839 - val_loss: 1.4569 - val_acc: 0.4931\n",
      "Epoch 15/50\n",
      "50000/50000 [==============================] - 8s 166us/step - loss: 1.1741 - acc: 0.5950 - val_loss: 1.4568 - val_acc: 0.4875\n",
      "Epoch 16/50\n",
      "50000/50000 [==============================] - 8s 169us/step - loss: 1.1509 - acc: 0.6042 - val_loss: 1.4503 - val_acc: 0.4909\n",
      "Epoch 17/50\n",
      "50000/50000 [==============================] - 8s 164us/step - loss: 1.1295 - acc: 0.6125 - val_loss: 1.4479 - val_acc: 0.4941\n",
      "Epoch 18/50\n",
      "50000/50000 [==============================] - 9s 171us/step - loss: 1.1081 - acc: 0.6195 - val_loss: 1.4530 - val_acc: 0.4895\n",
      "Epoch 19/50\n",
      "50000/50000 [==============================] - 8s 167us/step - loss: 1.0879 - acc: 0.6273 - val_loss: 1.4487 - val_acc: 0.4906\n",
      "Epoch 20/50\n",
      "50000/50000 [==============================] - 8s 169us/step - loss: 1.0653 - acc: 0.6353 - val_loss: 1.4416 - val_acc: 0.4984\n",
      "Epoch 21/50\n",
      "50000/50000 [==============================] - 8s 164us/step - loss: 1.0444 - acc: 0.6438 - val_loss: 1.4463 - val_acc: 0.4979\n",
      "Epoch 22/50\n",
      "50000/50000 [==============================] - 8s 162us/step - loss: 1.0253 - acc: 0.6506 - val_loss: 1.4535 - val_acc: 0.4924\n",
      "Epoch 23/50\n",
      "50000/50000 [==============================] - 8s 159us/step - loss: 1.0040 - acc: 0.6583 - val_loss: 1.4457 - val_acc: 0.4970\n",
      "Epoch 24/50\n",
      "50000/50000 [==============================] - 8s 167us/step - loss: 0.9843 - acc: 0.6665 - val_loss: 1.4486 - val_acc: 0.4978\n",
      "Epoch 25/50\n",
      "50000/50000 [==============================] - 8s 165us/step - loss: 0.9645 - acc: 0.6743 - val_loss: 1.4605 - val_acc: 0.4959\n",
      "Epoch 26/50\n",
      "50000/50000 [==============================] - 8s 167us/step - loss: 0.9449 - acc: 0.6814 - val_loss: 1.4544 - val_acc: 0.4944\n",
      "Epoch 27/50\n",
      "50000/50000 [==============================] - 8s 167us/step - loss: 0.9247 - acc: 0.6884 - val_loss: 1.4649 - val_acc: 0.4977\n",
      "Epoch 28/50\n",
      "50000/50000 [==============================] - 8s 166us/step - loss: 0.9057 - acc: 0.6978 - val_loss: 1.4574 - val_acc: 0.5002\n",
      "Epoch 29/50\n",
      "50000/50000 [==============================] - 8s 168us/step - loss: 0.8847 - acc: 0.7057 - val_loss: 1.4648 - val_acc: 0.5015\n",
      "Epoch 30/50\n",
      "50000/50000 [==============================] - 8s 159us/step - loss: 0.8654 - acc: 0.7117 - val_loss: 1.4735 - val_acc: 0.4994\n",
      "Epoch 31/50\n",
      "50000/50000 [==============================] - 8s 165us/step - loss: 0.8461 - acc: 0.7203 - val_loss: 1.4813 - val_acc: 0.4986\n",
      "Epoch 32/50\n",
      "50000/50000 [==============================] - 8s 167us/step - loss: 0.8271 - acc: 0.7285 - val_loss: 1.4903 - val_acc: 0.4952\n",
      "Epoch 33/50\n",
      "50000/50000 [==============================] - 8s 167us/step - loss: 0.8090 - acc: 0.7366 - val_loss: 1.4858 - val_acc: 0.4978\n",
      "Epoch 34/50\n",
      "50000/50000 [==============================] - 8s 164us/step - loss: 0.7884 - acc: 0.7447 - val_loss: 1.4990 - val_acc: 0.4961\n",
      "Epoch 35/50\n",
      "50000/50000 [==============================] - 8s 167us/step - loss: 0.7707 - acc: 0.7505 - val_loss: 1.5109 - val_acc: 0.4981\n",
      "Epoch 36/50\n",
      "50000/50000 [==============================] - 8s 166us/step - loss: 0.7510 - acc: 0.7582 - val_loss: 1.5259 - val_acc: 0.4999\n",
      "Epoch 37/50\n",
      "50000/50000 [==============================] - 8s 165us/step - loss: 0.7348 - acc: 0.7645 - val_loss: 1.5081 - val_acc: 0.5022\n",
      "Epoch 38/50\n",
      "50000/50000 [==============================] - 8s 165us/step - loss: 0.7126 - acc: 0.7753 - val_loss: 1.5464 - val_acc: 0.4907\n",
      "Epoch 39/50\n",
      "50000/50000 [==============================] - 8s 169us/step - loss: 0.6951 - acc: 0.7811 - val_loss: 1.5657 - val_acc: 0.4982\n",
      "Epoch 40/50\n",
      "50000/50000 [==============================] - 8s 164us/step - loss: 0.6770 - acc: 0.7882 - val_loss: 1.5634 - val_acc: 0.4924\n",
      "Epoch 41/50\n",
      "50000/50000 [==============================] - 8s 166us/step - loss: 0.6615 - acc: 0.7946 - val_loss: 1.5679 - val_acc: 0.4939\n",
      "Epoch 42/50\n",
      "50000/50000 [==============================] - 8s 164us/step - loss: 0.6411 - acc: 0.8037 - val_loss: 1.5892 - val_acc: 0.4935\n",
      "Epoch 43/50\n",
      "50000/50000 [==============================] - 8s 167us/step - loss: 0.6252 - acc: 0.8086 - val_loss: 1.5890 - val_acc: 0.4975\n",
      "Epoch 44/50\n",
      "50000/50000 [==============================] - 8s 164us/step - loss: 0.6079 - acc: 0.8157 - val_loss: 1.6023 - val_acc: 0.4927\n",
      "Epoch 45/50\n",
      "50000/50000 [==============================] - 8s 168us/step - loss: 0.5890 - acc: 0.8228 - val_loss: 1.6019 - val_acc: 0.4975\n",
      "Epoch 46/50\n",
      "50000/50000 [==============================] - 8s 162us/step - loss: 0.5719 - acc: 0.8301 - val_loss: 1.6298 - val_acc: 0.4946\n",
      "Epoch 47/50\n",
      "50000/50000 [==============================] - 8s 169us/step - loss: 0.5532 - acc: 0.8381 - val_loss: 1.6263 - val_acc: 0.4922\n",
      "Epoch 48/50\n",
      "50000/50000 [==============================] - 8s 162us/step - loss: 0.5392 - acc: 0.8432 - val_loss: 1.6337 - val_acc: 0.4963\n",
      "Epoch 49/50\n",
      "50000/50000 [==============================] - 8s 167us/step - loss: 0.5230 - acc: 0.8486 - val_loss: 1.6558 - val_acc: 0.4867\n",
      "Epoch 50/50\n",
      "50000/50000 [==============================] - 8s 163us/step - loss: 0.5059 - acc: 0.8576 - val_loss: 1.6560 - val_acc: 0.4955\n",
      "10000/10000 [==============================] - 2s 154us/step\n"
     ]
    }
   ],
   "source": [
    "model = build_mlp(input_shape=x_train.shape[1:])\n",
    "model.summary()\n",
    "optimizer = keras.optimizers.SGD(lr=LEARNING_RATE, nesterov=True, momentum=MOMENTUM)\n",
    "model.compile(loss=\"categorical_crossentropy\", metrics=[\"accuracy\"], optimizer=optimizer)\n",
    "\n",
    "model.fit(x_train, y_train, \n",
    "          epochs=EPOCHS, \n",
    "          batch_size=BATCH_SIZE, \n",
    "          validation_data=(x_test, y_test), \n",
    "          shuffle=True,\n",
    "          callbacks=[model_ckpt]\n",
    "         )\n",
    "\n",
    "# Collect results\n",
    "train_loss = model.history.history[\"loss\"]\n",
    "valid_loss = model.history.history[\"val_loss\"]\n",
    "train_acc = model.history.history[\"acc\"]\n",
    "valid_acc = model.history.history[\"val_acc\"]\n",
    "\n",
    "# Load back\n",
    "model = keras.models.load_model(\"./tmp.h5\")\n",
    "loss_loadback, acc_loadback = model.evaluate(x_test, y_test)"
   ]
  },
  {
   "cell_type": "code",
   "execution_count": 9,
   "metadata": {},
   "outputs": [
    {
     "data": {
      "image/png": "[encoded data removed]",
      "text/plain": [
       "<Figure size 432x288 with 1 Axes>"
      ]
     },
     "metadata": {
      "needs_background": "light"
     },
     "output_type": "display_data"
    },
    {
     "data": {
      "image/png": "[encoded data removed]",
      "text/plain": [
       "<Figure size 432x288 with 1 Axes>"
      ]
     },
     "metadata": {
      "needs_background": "light"
     },
     "output_type": "display_data"
    }
   ],
   "source": [
    "import matplotlib.pyplot as plt\n",
    "%matplotlib inline\n",
    "\n",
    "plt.plot(range(len(train_loss)), train_loss, label=\"train loss\")\n",
    "plt.plot(range(len(valid_loss)), valid_loss, label=\"valid loss\")\n",
    "plt.hlines(y=loss_loadback, xmin=0, xmax=len(train_loss), colors='r', linestyles='--')\n",
    "plt.legend()\n",
    "plt.title(\"Loss\")\n",
    "plt.show()\n",
    "\n",
    "plt.plot(range(len(train_acc)), train_acc, label=\"train accuracy\")\n",
    "plt.plot(range(len(valid_acc)), valid_acc, label=\"valid accuracy\")\n",
    "plt.hlines(y=acc_loadback, xmin=0, xmax=len(train_loss), colors='r', linestyles='--')\n",
    "plt.legend()\n",
    "plt.title(\"Accuracy\")\n",
    "plt.show()"
   ]
  },
  {
   "cell_type": "markdown",
   "metadata": {},
   "source": [
    "## Work\n",
    "1. 試比較 save_best_only 與否的差異\n",
    "2. 請僅存入將 save_weights_only 設定為 True, 並嘗試 reset ipynb 並將模型與權重重新建回並預測 x_test"
   ]
  }
 ],
 "metadata": {
  "kernelspec": {
   "display_name": "Python 3",
   "language": "python",
   "name": "python3"
  },
  "language_info": {
   "codemirror_mode": {
    "name": "ipython",
    "version": 3
   },
   "file_extension": ".py",
   "mimetype": "text/x-python",
   "name": "python",
   "nbconvert_exporter": "python",
   "pygments_lexer": "ipython3",
   "version": "3.7.3"
  }
 },
 "nbformat": 4,
 "nbformat_minor": 2
}
