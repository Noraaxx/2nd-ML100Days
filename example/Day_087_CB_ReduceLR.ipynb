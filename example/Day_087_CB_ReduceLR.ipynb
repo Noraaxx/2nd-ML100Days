{
 "cells": [
  {
   "cell_type": "markdown",
   "metadata": {},
   "source": [
    "## 範例重點\n",
    "* 學習如何在 keras 中加入 reduce learning rate\n",
    "* 知道如何設定 reduce_lr 的監控目標\n",
    "* 比較使用有無使用 reduce_lr 時的 performance"
   ]
  },
  {
   "cell_type": "code",
   "execution_count": 1,
   "metadata": {},
   "outputs": [
    {
     "name": "stderr",
     "output_type": "stream",
     "text": [
      "Using TensorFlow backend.\n"
     ]
    }
   ],
   "source": [
    "import os\n",
    "import keras\n",
    "\n",
    "# 本範例不需使用 GPU, 將 GPU 設定為 \"無\"\n",
    "os.environ[\"CUDA_VISIBLE_DEVICES\"] = \"0\""
   ]
  },
  {
   "cell_type": "code",
   "execution_count": 2,
   "metadata": {},
   "outputs": [],
   "source": [
    "train, test = keras.datasets.cifar10.load_data()"
   ]
  },
  {
   "cell_type": "code",
   "execution_count": 3,
   "metadata": {},
   "outputs": [],
   "source": [
    "## 資料前處理\n",
    "def preproc_x(x, flatten=True):\n",
    "    x = x / 255.\n",
    "    if flatten:\n",
    "        x = x.reshape((len(x), -1))\n",
    "    return x\n",
    "\n",
    "def preproc_y(y, num_classes=10):\n",
    "    if y.shape[-1] == 1:\n",
    "        y = keras.utils.to_categorical(y, num_classes)\n",
    "    return y    "
   ]
  },
  {
   "cell_type": "code",
   "execution_count": 4,
   "metadata": {},
   "outputs": [],
   "source": [
    "x_train, y_train = train\n",
    "x_test, y_test = test\n",
    "\n",
    "# 資料前處理 - X 標準化\n",
    "x_train = preproc_x(x_train)\n",
    "x_test = preproc_x(x_test)\n",
    "\n",
    "# 資料前處理 -Y 轉成 onehot\n",
    "y_train = preproc_y(y_train)\n",
    "y_test = preproc_y(y_test)"
   ]
  },
  {
   "cell_type": "code",
   "execution_count": 5,
   "metadata": {},
   "outputs": [],
   "source": [
    "from keras.layers import BatchNormalization\n",
    "\n",
    "\"\"\"\n",
    "建立神經網路，並加入 BN layer\n",
    "\"\"\"\n",
    "def build_mlp(input_shape, output_units=10, num_neurons=[512, 256, 128]):\n",
    "    input_layer = keras.layers.Input(input_shape)\n",
    "    \n",
    "    for i, n_units in enumerate(num_neurons):\n",
    "        if i == 0:\n",
    "            x = keras.layers.Dense(units=n_units, \n",
    "                                   activation=\"relu\", \n",
    "                                   name=\"hidden_layer\"+str(i+1))(input_layer)\n",
    "            x = BatchNormalization()(x)\n",
    "        else:\n",
    "            x = keras.layers.Dense(units=n_units, \n",
    "                                   activation=\"relu\", \n",
    "                                   name=\"hidden_layer\"+str(i+1))(x)\n",
    "            x = BatchNormalization()(x)\n",
    "    \n",
    "    out = keras.layers.Dense(units=output_units, activation=\"softmax\", name=\"output\")(x)\n",
    "    \n",
    "    model = keras.models.Model(inputs=[input_layer], outputs=[out])\n",
    "    return model"
   ]
  },
  {
   "cell_type": "code",
   "execution_count": 6,
   "metadata": {},
   "outputs": [],
   "source": [
    "## 超參數設定\n",
    "LEARNING_RATE = 1e-3\n",
    "EPOCHS = 50\n",
    "BATCH_SIZE = 1024\n",
    "MOMENTUM = 0.95"
   ]
  },
  {
   "cell_type": "code",
   "execution_count": 7,
   "metadata": {},
   "outputs": [],
   "source": [
    "\"\"\"\n",
    "# 載入 Callbacks, 並設定監控目標為 validation loss\n",
    "\"\"\"\n",
    "from keras.callbacks import ReduceLROnPlateau\n",
    "\n",
    "reduce_lr = ReduceLROnPlateau(factor=0.5, \n",
    "                              min_lr=1e-12, \n",
    "                              monitor='val_loss', \n",
    "                              patience=5, \n",
    "                              verbose=1)"
   ]
  },
  {
   "cell_type": "code",
   "execution_count": 8,
   "metadata": {
    "scrolled": true
   },
   "outputs": [
    {
     "name": "stderr",
     "output_type": "stream",
     "text": [
      "WARNING: Logging before flag parsing goes to stderr.\n",
      "W0727 22:12:06.107501  4600 deprecation_wrapper.py:119] From C:\\Users\\USER\\Anaconda3\\envs\\tensorflow\\lib\\site-packages\\keras\\backend\\tensorflow_backend.py:74: The name tf.get_default_graph is deprecated. Please use tf.compat.v1.get_default_graph instead.\n",
      "\n",
      "W0727 22:12:06.167097  4600 deprecation_wrapper.py:119] From C:\\Users\\USER\\Anaconda3\\envs\\tensorflow\\lib\\site-packages\\keras\\backend\\tensorflow_backend.py:517: The name tf.placeholder is deprecated. Please use tf.compat.v1.placeholder instead.\n",
      "\n",
      "W0727 22:12:06.181590  4600 deprecation_wrapper.py:119] From C:\\Users\\USER\\Anaconda3\\envs\\tensorflow\\lib\\site-packages\\keras\\backend\\tensorflow_backend.py:4138: The name tf.random_uniform is deprecated. Please use tf.random.uniform instead.\n",
      "\n",
      "W0727 22:12:06.365279  4600 deprecation_wrapper.py:119] From C:\\Users\\USER\\Anaconda3\\envs\\tensorflow\\lib\\site-packages\\keras\\backend\\tensorflow_backend.py:133: The name tf.placeholder_with_default is deprecated. Please use tf.compat.v1.placeholder_with_default instead.\n",
      "\n",
      "W0727 22:12:06.863792  4600 deprecation_wrapper.py:119] From C:\\Users\\USER\\Anaconda3\\envs\\tensorflow\\lib\\site-packages\\keras\\optimizers.py:790: The name tf.train.Optimizer is deprecated. Please use tf.compat.v1.train.Optimizer instead.\n",
      "\n",
      "W0727 22:12:06.878683  4600 deprecation_wrapper.py:119] From C:\\Users\\USER\\Anaconda3\\envs\\tensorflow\\lib\\site-packages\\keras\\backend\\tensorflow_backend.py:3295: The name tf.log is deprecated. Please use tf.math.log instead.\n",
      "\n"
     ]
    },
    {
     "name": "stdout",
     "output_type": "stream",
     "text": [
      "_________________________________________________________________\n",
      "Layer (type)                 Output Shape              Param #   \n",
      "=================================================================\n",
      "input_1 (InputLayer)         (None, 3072)              0         \n",
      "_________________________________________________________________\n",
      "hidden_layer1 (Dense)        (None, 512)               1573376   \n",
      "_________________________________________________________________\n",
      "batch_normalization_1 (Batch (None, 512)               2048      \n",
      "_________________________________________________________________\n",
      "hidden_layer2 (Dense)        (None, 256)               131328    \n",
      "_________________________________________________________________\n",
      "batch_normalization_2 (Batch (None, 256)               1024      \n",
      "_________________________________________________________________\n",
      "hidden_layer3 (Dense)        (None, 128)               32896     \n",
      "_________________________________________________________________\n",
      "batch_normalization_3 (Batch (None, 128)               512       \n",
      "_________________________________________________________________\n",
      "output (Dense)               (None, 10)                1290      \n",
      "=================================================================\n",
      "Total params: 1,742,474\n",
      "Trainable params: 1,740,682\n",
      "Non-trainable params: 1,792\n",
      "_________________________________________________________________\n"
     ]
    },
    {
     "name": "stderr",
     "output_type": "stream",
     "text": [
      "W0727 22:12:07.066623  4600 deprecation.py:323] From C:\\Users\\USER\\Anaconda3\\envs\\tensorflow\\lib\\site-packages\\tensorflow\\python\\ops\\math_grad.py:1250: add_dispatch_support.<locals>.wrapper (from tensorflow.python.ops.array_ops) is deprecated and will be removed in a future version.\n",
      "Instructions for updating:\n",
      "Use tf.where in 2.0, which has the same broadcast rule as np.where\n"
     ]
    },
    {
     "name": "stdout",
     "output_type": "stream",
     "text": [
      "Train on 50000 samples, validate on 10000 samples\n",
      "Epoch 1/50\n",
      "50000/50000 [==============================] - 10s 192us/step - loss: 2.1839 - acc: 0.2791 - val_loss: 2.0148 - val_acc: 0.3267\n",
      "Epoch 2/50\n",
      "50000/50000 [==============================] - 8s 168us/step - loss: 1.7398 - acc: 0.3963 - val_loss: 1.7786 - val_acc: 0.3943\n",
      "Epoch 3/50\n",
      "50000/50000 [==============================] - 8s 165us/step - loss: 1.6182 - acc: 0.4376 - val_loss: 1.6944 - val_acc: 0.4136\n",
      "Epoch 4/50\n",
      "50000/50000 [==============================] - 8s 151us/step - loss: 1.5465 - acc: 0.4619 - val_loss: 1.6403 - val_acc: 0.4310\n",
      "Epoch 5/50\n",
      "50000/50000 [==============================] - 9s 171us/step - loss: 1.4919 - acc: 0.4824 - val_loss: 1.6034 - val_acc: 0.4397\n",
      "Epoch 6/50\n",
      "50000/50000 [==============================] - 9s 171us/step - loss: 1.4458 - acc: 0.4970 - val_loss: 1.5700 - val_acc: 0.4462\n",
      "Epoch 7/50\n",
      "50000/50000 [==============================] - 9s 174us/step - loss: 1.4053 - acc: 0.5130 - val_loss: 1.5476 - val_acc: 0.4582\n",
      "Epoch 8/50\n",
      "50000/50000 [==============================] - 8s 167us/step - loss: 1.3681 - acc: 0.5256 - val_loss: 1.5384 - val_acc: 0.4569\n",
      "Epoch 9/50\n",
      "50000/50000 [==============================] - 8s 167us/step - loss: 1.3378 - acc: 0.5359 - val_loss: 1.5108 - val_acc: 0.4697\n",
      "Epoch 10/50\n",
      "50000/50000 [==============================] - 8s 167us/step - loss: 1.3075 - acc: 0.5487 - val_loss: 1.5129 - val_acc: 0.4701\n",
      "Epoch 11/50\n",
      "50000/50000 [==============================] - 9s 171us/step - loss: 1.2786 - acc: 0.5593 - val_loss: 1.5021 - val_acc: 0.4749\n",
      "Epoch 12/50\n",
      "50000/50000 [==============================] - 8s 169us/step - loss: 1.2517 - acc: 0.5679 - val_loss: 1.4898 - val_acc: 0.4813\n",
      "Epoch 13/50\n",
      "50000/50000 [==============================] - 9s 174us/step - loss: 1.2254 - acc: 0.5769 - val_loss: 1.4777 - val_acc: 0.4875\n",
      "Epoch 14/50\n",
      "50000/50000 [==============================] - 9s 171us/step - loss: 1.2022 - acc: 0.5869 - val_loss: 1.4765 - val_acc: 0.4871\n",
      "Epoch 15/50\n",
      "50000/50000 [==============================] - 9s 170us/step - loss: 1.1757 - acc: 0.5970 - val_loss: 1.4598 - val_acc: 0.4920\n",
      "Epoch 16/50\n",
      "50000/50000 [==============================] - 9s 172us/step - loss: 1.1520 - acc: 0.6067 - val_loss: 1.4658 - val_acc: 0.4876\n",
      "Epoch 17/50\n",
      "50000/50000 [==============================] - 9s 171us/step - loss: 1.1298 - acc: 0.6147 - val_loss: 1.4679 - val_acc: 0.4896\n",
      "Epoch 18/50\n",
      "50000/50000 [==============================] - 9s 173us/step - loss: 1.1081 - acc: 0.6221 - val_loss: 1.4583 - val_acc: 0.4925\n",
      "Epoch 19/50\n",
      "50000/50000 [==============================] - 9s 172us/step - loss: 1.0865 - acc: 0.6309 - val_loss: 1.4683 - val_acc: 0.4927\n",
      "Epoch 20/50\n",
      "50000/50000 [==============================] - 9s 177us/step - loss: 1.0636 - acc: 0.6400 - val_loss: 1.4533 - val_acc: 0.4953\n",
      "Epoch 21/50\n",
      "50000/50000 [==============================] - 8s 169us/step - loss: 1.0426 - acc: 0.6483 - val_loss: 1.4597 - val_acc: 0.4937\n",
      "Epoch 22/50\n",
      "50000/50000 [==============================] - 9s 175us/step - loss: 1.0220 - acc: 0.6548 - val_loss: 1.4629 - val_acc: 0.4954\n",
      "Epoch 23/50\n",
      "50000/50000 [==============================] - 9s 170us/step - loss: 1.0016 - acc: 0.6636 - val_loss: 1.4601 - val_acc: 0.4990\n",
      "Epoch 24/50\n",
      "50000/50000 [==============================] - 9s 173us/step - loss: 0.9799 - acc: 0.6722 - val_loss: 1.4593 - val_acc: 0.4956\n",
      "Epoch 25/50\n",
      "50000/50000 [==============================] - 8s 168us/step - loss: 0.9601 - acc: 0.6799 - val_loss: 1.4699 - val_acc: 0.4965\n",
      "\n",
      "Epoch 00025: ReduceLROnPlateau reducing learning rate to 0.0005000000237487257.\n",
      "Epoch 26/50\n",
      "50000/50000 [==============================] - 8s 168us/step - loss: 0.9343 - acc: 0.6904 - val_loss: 1.4639 - val_acc: 0.4979\n",
      "Epoch 27/50\n",
      "50000/50000 [==============================] - 9s 172us/step - loss: 0.9132 - acc: 0.6983 - val_loss: 1.4590 - val_acc: 0.4992\n",
      "Epoch 28/50\n",
      "50000/50000 [==============================] - 8s 167us/step - loss: 0.9019 - acc: 0.7038 - val_loss: 1.4622 - val_acc: 0.4966\n",
      "Epoch 29/50\n",
      "50000/50000 [==============================] - 9s 170us/step - loss: 0.8904 - acc: 0.7088 - val_loss: 1.4594 - val_acc: 0.5004\n",
      "Epoch 30/50\n",
      "50000/50000 [==============================] - 8s 170us/step - loss: 0.8809 - acc: 0.7116 - val_loss: 1.4699 - val_acc: 0.5036\n",
      "\n",
      "Epoch 00030: ReduceLROnPlateau reducing learning rate to 0.0002500000118743628.\n",
      "Epoch 31/50\n",
      "50000/50000 [==============================] - 9s 173us/step - loss: 0.8657 - acc: 0.7189 - val_loss: 1.4645 - val_acc: 0.5059\n",
      "Epoch 32/50\n",
      "50000/50000 [==============================] - 8s 169us/step - loss: 0.8567 - acc: 0.7216 - val_loss: 1.4624 - val_acc: 0.5009\n",
      "Epoch 33/50\n",
      "50000/50000 [==============================] - 9s 171us/step - loss: 0.8500 - acc: 0.7263 - val_loss: 1.4683 - val_acc: 0.5006\n",
      "Epoch 34/50\n",
      "50000/50000 [==============================] - 8s 169us/step - loss: 0.8449 - acc: 0.7270 - val_loss: 1.4717 - val_acc: 0.5037\n",
      "Epoch 35/50\n",
      "50000/50000 [==============================] - 9s 175us/step - loss: 0.8390 - acc: 0.7302 - val_loss: 1.4656 - val_acc: 0.5058\n",
      "\n",
      "Epoch 00035: ReduceLROnPlateau reducing learning rate to 0.0001250000059371814.\n",
      "Epoch 36/50\n",
      "50000/50000 [==============================] - 9s 170us/step - loss: 0.8307 - acc: 0.7336 - val_loss: 1.4719 - val_acc: 0.5048\n",
      "Epoch 37/50\n",
      "50000/50000 [==============================] - 9s 172us/step - loss: 0.8261 - acc: 0.7357 - val_loss: 1.4706 - val_acc: 0.5054\n",
      "Epoch 38/50\n",
      "50000/50000 [==============================] - 8s 168us/step - loss: 0.8231 - acc: 0.7376 - val_loss: 1.4684 - val_acc: 0.5075\n",
      "Epoch 39/50\n",
      "50000/50000 [==============================] - 9s 173us/step - loss: 0.8201 - acc: 0.7383 - val_loss: 1.4719 - val_acc: 0.5053\n",
      "Epoch 40/50\n",
      "50000/50000 [==============================] - 8s 170us/step - loss: 0.8171 - acc: 0.7396 - val_loss: 1.4723 - val_acc: 0.5064\n",
      "\n",
      "Epoch 00040: ReduceLROnPlateau reducing learning rate to 6.25000029685907e-05.\n",
      "Epoch 41/50\n",
      "50000/50000 [==============================] - 9s 171us/step - loss: 0.8128 - acc: 0.7408 - val_loss: 1.4736 - val_acc: 0.5059\n",
      "Epoch 42/50\n",
      "50000/50000 [==============================] - 9s 171us/step - loss: 0.8105 - acc: 0.7416 - val_loss: 1.4726 - val_acc: 0.5069\n",
      "Epoch 43/50\n",
      "50000/50000 [==============================] - 9s 173us/step - loss: 0.8090 - acc: 0.7425 - val_loss: 1.4727 - val_acc: 0.5070\n",
      "Epoch 44/50\n",
      "50000/50000 [==============================] - 8s 169us/step - loss: 0.8067 - acc: 0.7438 - val_loss: 1.4751 - val_acc: 0.5044\n",
      "Epoch 45/50\n",
      "50000/50000 [==============================] - 8s 165us/step - loss: 0.8068 - acc: 0.7438 - val_loss: 1.4755 - val_acc: 0.5052\n",
      "\n",
      "Epoch 00045: ReduceLROnPlateau reducing learning rate to 3.125000148429535e-05.\n",
      "Epoch 46/50\n",
      "50000/50000 [==============================] - 9s 173us/step - loss: 0.8043 - acc: 0.7446 - val_loss: 1.4749 - val_acc: 0.5072\n",
      "Epoch 47/50\n",
      "50000/50000 [==============================] - 9s 171us/step - loss: 0.8028 - acc: 0.7456 - val_loss: 1.4749 - val_acc: 0.5074\n",
      "Epoch 48/50\n",
      "50000/50000 [==============================] - 9s 173us/step - loss: 0.8024 - acc: 0.7451 - val_loss: 1.4761 - val_acc: 0.5056\n",
      "Epoch 49/50\n",
      "50000/50000 [==============================] - 9s 173us/step - loss: 0.8012 - acc: 0.7467 - val_loss: 1.4753 - val_acc: 0.5050\n",
      "Epoch 50/50\n",
      "50000/50000 [==============================] - 9s 176us/step - loss: 0.8000 - acc: 0.7461 - val_loss: 1.4755 - val_acc: 0.5056\n",
      "\n",
      "Epoch 00050: ReduceLROnPlateau reducing learning rate to 1.5625000742147677e-05.\n"
     ]
    }
   ],
   "source": [
    "model = build_mlp(input_shape=x_train.shape[1:])\n",
    "model.summary()\n",
    "optimizer = keras.optimizers.SGD(lr=LEARNING_RATE, nesterov=True, momentum=MOMENTUM)\n",
    "model.compile(loss=\"categorical_crossentropy\", metrics=[\"accuracy\"], optimizer=optimizer)\n",
    "\n",
    "model.fit(x_train, y_train, \n",
    "          epochs=EPOCHS, \n",
    "          batch_size=BATCH_SIZE, \n",
    "          validation_data=(x_test, y_test), \n",
    "          shuffle=True,\n",
    "          callbacks=[reduce_lr]\n",
    "         )\n",
    "\n",
    "# Collect results\n",
    "train_loss = model.history.history[\"loss\"]\n",
    "valid_loss = model.history.history[\"val_loss\"]\n",
    "train_acc = model.history.history[\"acc\"]\n",
    "valid_acc = model.history.history[\"val_acc\"]"
   ]
  },
  {
   "cell_type": "code",
   "execution_count": 9,
   "metadata": {},
   "outputs": [
    {
     "data": {
      "image/png": "[encoded data removed]",
      "text/plain": [
       "<Figure size 432x288 with 1 Axes>"
      ]
     },
     "metadata": {
      "needs_background": "light"
     },
     "output_type": "display_data"
    },
    {
     "data": {
      "image/png": "[encoded data removed]",
      "text/plain": [
       "<Figure size 432x288 with 1 Axes>"
      ]
     },
     "metadata": {
      "needs_background": "light"
     },
     "output_type": "display_data"
    }
   ],
   "source": [
    "import matplotlib.pyplot as plt\n",
    "%matplotlib inline\n",
    "\n",
    "plt.plot(range(len(train_loss)), train_loss, label=\"train loss\")\n",
    "plt.plot(range(len(valid_loss)), valid_loss, label=\"valid loss\")\n",
    "plt.legend()\n",
    "plt.title(\"Loss\")\n",
    "plt.show()\n",
    "\n",
    "plt.plot(range(len(train_acc)), train_acc, label=\"train accuracy\")\n",
    "plt.plot(range(len(valid_acc)), valid_acc, label=\"valid accuracy\")\n",
    "plt.legend()\n",
    "plt.title(\"Accuracy\")\n",
    "plt.show()"
   ]
  },
  {
   "cell_type": "markdown",
   "metadata": {},
   "source": [
    "## Work\n",
    "1. 請改變 reduce_lr 的 patience 和 factor 並比較不同設定下，對訓練/驗證集的影響\n",
    "2. 請將 optimizer 換成 Adam、RMSprop 搭配 reduce_lr 並比較訓練結果"
   ]
  }
 ],
 "metadata": {
  "kernelspec": {
   "display_name": "Python 3",
   "language": "python",
   "name": "python3"
  },
  "language_info": {
   "codemirror_mode": {
    "name": "ipython",
    "version": 3
   },
   "file_extension": ".py",
   "mimetype": "text/x-python",
   "name": "python",
   "nbconvert_exporter": "python",
   "pygments_lexer": "ipython3",
   "version": "3.7.3"
  }
 },
 "nbformat": 4,
 "nbformat_minor": 2
}
