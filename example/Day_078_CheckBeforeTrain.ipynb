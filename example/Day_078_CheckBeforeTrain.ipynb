{
 "cells": [
  {
   "cell_type": "markdown",
   "metadata": {},
   "source": [
    "## 範例重點\n",
    "### 學習在模型開始前檢查各個環節\n",
    "1. 是否有 GPU 資源\n",
    "2. 將前處理轉為函式，統一處理訓練、驗證與測試集\n",
    "3. 將超參數變數化，易於重複使用函式、模型等"
   ]
  },
  {
   "cell_type": "code",
   "execution_count": null,
   "metadata": {},
   "outputs": [],
   "source": [
    "## 確認硬體資源 (如果你是在 Linux, 若是在 Windows, 請參考 https://blog.csdn.net/idwtwt/article/details/78017565)\n",
    "!nvidia-smi"
   ]
  },
  {
   "cell_type": "code",
   "execution_count": 2,
   "metadata": {},
   "outputs": [],
   "source": [
    "import os\n",
    "import keras\n",
    "\n",
    "# 本範例不需使用 GPU, 將 GPU 設定為 \"無\"\n",
    "os.environ[\"CUDA_VISIBLE_DEVICES\"] = \"0\""
   ]
  },
  {
   "cell_type": "code",
   "execution_count": 3,
   "metadata": {},
   "outputs": [],
   "source": [
    "# 從 Keras 的內建功能中，取得 train 與 test 資料集\n",
    "train, test = keras.datasets.cifar10.load_data()"
   ]
  },
  {
   "cell_type": "code",
   "execution_count": 4,
   "metadata": {},
   "outputs": [],
   "source": [
    "## 資料前處理\n",
    "def preproc_x(x, flatten=True):\n",
    "    x = x / 255.\n",
    "    if flatten:\n",
    "        x = x.reshape((len(x), -1))\n",
    "    return x\n",
    "\n",
    "def preproc_y(y, num_classes=10):\n",
    "    if y.shape[-1] == 1:\n",
    "        y = keras.utils.to_categorical(y, num_classes)\n",
    "    return y    "
   ]
  },
  {
   "cell_type": "code",
   "execution_count": 5,
   "metadata": {},
   "outputs": [],
   "source": [
    "x_train, y_train = train\n",
    "x_test, y_test = test\n",
    "\n",
    "# 資料前處理 - X 標準化\n",
    "x_train = preproc_x(x_train)\n",
    "x_test = preproc_x(x_test)\n",
    "\n",
    "# 資料前處理 -Y 轉成 onehot\n",
    "y_train = preproc_y(y_train)\n",
    "y_test = preproc_y(y_test)"
   ]
  },
  {
   "cell_type": "code",
   "execution_count": 6,
   "metadata": {},
   "outputs": [],
   "source": [
    "def build_mlp(input_shape, output_units=10, num_neurons=[512, 256, 128]):\n",
    "    input_layer = keras.layers.Input(input_shape)\n",
    "    \n",
    "    for i, n_units in enumerate(num_neurons):\n",
    "        if i == 0:\n",
    "            x = keras.layers.Dense(units=n_units, activation=\"relu\", name=\"hidden_layer\"+str(i+1))(input_layer)\n",
    "        else:\n",
    "            x = keras.layers.Dense(units=n_units, activation=\"relu\", name=\"hidden_layer\"+str(i+1))(x)\n",
    "    \n",
    "    out = keras.layers.Dense(units=output_units, activation=\"softmax\", name=\"output\")(x)\n",
    "    \n",
    "    model = keras.models.Model(inputs=[input_layer], outputs=[out])\n",
    "    return model"
   ]
  },
  {
   "cell_type": "code",
   "execution_count": 7,
   "metadata": {},
   "outputs": [
    {
     "name": "stderr",
     "output_type": "stream",
     "text": [
      "WARNING: Logging before flag parsing goes to stderr.\n",
      "W0714 00:20:00.479711 11684 deprecation_wrapper.py:119] From C:\\Users\\USER\\Anaconda3\\envs\\tensorflow\\lib\\site-packages\\keras\\backend\\tensorflow_backend.py:74: The name tf.get_default_graph is deprecated. Please use tf.compat.v1.get_default_graph instead.\n",
      "\n",
      "W0714 00:20:00.501609 11684 deprecation_wrapper.py:119] From C:\\Users\\USER\\Anaconda3\\envs\\tensorflow\\lib\\site-packages\\keras\\backend\\tensorflow_backend.py:517: The name tf.placeholder is deprecated. Please use tf.compat.v1.placeholder instead.\n",
      "\n",
      "W0714 00:20:00.503642 11684 deprecation_wrapper.py:119] From C:\\Users\\USER\\Anaconda3\\envs\\tensorflow\\lib\\site-packages\\keras\\backend\\tensorflow_backend.py:4138: The name tf.random_uniform is deprecated. Please use tf.random.uniform instead.\n",
      "\n"
     ]
    },
    {
     "name": "stdout",
     "output_type": "stream",
     "text": [
      "_________________________________________________________________\n",
      "Layer (type)                 Output Shape              Param #   \n",
      "=================================================================\n",
      "input_1 (InputLayer)         (None, 3072)              0         \n",
      "_________________________________________________________________\n",
      "hidden_layer1 (Dense)        (None, 512)               1573376   \n",
      "_________________________________________________________________\n",
      "hidden_layer2 (Dense)        (None, 256)               131328    \n",
      "_________________________________________________________________\n",
      "hidden_layer3 (Dense)        (None, 128)               32896     \n",
      "_________________________________________________________________\n",
      "output (Dense)               (None, 10)                1290      \n",
      "=================================================================\n",
      "Total params: 1,738,890\n",
      "Trainable params: 1,738,890\n",
      "Non-trainable params: 0\n",
      "_________________________________________________________________\n"
     ]
    }
   ],
   "source": [
    "model = build_mlp(input_shape=x_train.shape[1:])\n",
    "model.summary()"
   ]
  },
  {
   "cell_type": "code",
   "execution_count": 8,
   "metadata": {},
   "outputs": [],
   "source": [
    "## 超參數設定\n",
    "LEARNING_RATE = 0.001\n",
    "EPOCHS = 100\n",
    "BATCH_SIZE = 256"
   ]
  },
  {
   "cell_type": "code",
   "execution_count": 9,
   "metadata": {},
   "outputs": [
    {
     "name": "stderr",
     "output_type": "stream",
     "text": [
      "W0714 00:20:05.293275 11684 deprecation_wrapper.py:119] From C:\\Users\\USER\\Anaconda3\\envs\\tensorflow\\lib\\site-packages\\keras\\optimizers.py:790: The name tf.train.Optimizer is deprecated. Please use tf.compat.v1.train.Optimizer instead.\n",
      "\n",
      "W0714 00:20:05.301297 11684 deprecation_wrapper.py:119] From C:\\Users\\USER\\Anaconda3\\envs\\tensorflow\\lib\\site-packages\\keras\\backend\\tensorflow_backend.py:3295: The name tf.log is deprecated. Please use tf.math.log instead.\n",
      "\n"
     ]
    }
   ],
   "source": [
    "optimizer = keras.optimizers.Adam(lr=LEARNING_RATE)\n",
    "model.compile(loss=\"categorical_crossentropy\", metrics=[\"accuracy\"], optimizer=optimizer)"
   ]
  },
  {
   "cell_type": "code",
   "execution_count": 10,
   "metadata": {},
   "outputs": [
    {
     "name": "stderr",
     "output_type": "stream",
     "text": [
      "W0714 00:20:07.504349 11684 deprecation.py:323] From C:\\Users\\USER\\Anaconda3\\envs\\tensorflow\\lib\\site-packages\\tensorflow\\python\\ops\\math_grad.py:1250: add_dispatch_support.<locals>.wrapper (from tensorflow.python.ops.array_ops) is deprecated and will be removed in a future version.\n",
      "Instructions for updating:\n",
      "Use tf.where in 2.0, which has the same broadcast rule as np.where\n",
      "W0714 00:20:07.552980 11684 deprecation_wrapper.py:119] From C:\\Users\\USER\\Anaconda3\\envs\\tensorflow\\lib\\site-packages\\keras\\backend\\tensorflow_backend.py:986: The name tf.assign_add is deprecated. Please use tf.compat.v1.assign_add instead.\n",
      "\n"
     ]
    },
    {
     "name": "stdout",
     "output_type": "stream",
     "text": [
      "Train on 50000 samples, validate on 10000 samples\n",
      "Epoch 1/100\n",
      "50000/50000 [==============================] - 8s 164us/step - loss: 1.9198 - acc: 0.3066 - val_loss: 1.7427 - val_acc: 0.3813\n",
      "Epoch 2/100\n",
      "50000/50000 [==============================] - 8s 154us/step - loss: 1.7133 - acc: 0.3831 - val_loss: 1.6675 - val_acc: 0.4028\n",
      "Epoch 3/100\n",
      "50000/50000 [==============================] - 8s 154us/step - loss: 1.6302 - acc: 0.4155 - val_loss: 1.5742 - val_acc: 0.4388\n",
      "Epoch 4/100\n",
      "50000/50000 [==============================] - 8s 151us/step - loss: 1.5573 - acc: 0.4433 - val_loss: 1.5308 - val_acc: 0.4535\n",
      "Epoch 5/100\n",
      "50000/50000 [==============================] - 8s 152us/step - loss: 1.5061 - acc: 0.4616 - val_loss: 1.4868 - val_acc: 0.4694\n",
      "Epoch 6/100\n",
      "50000/50000 [==============================] - 8s 150us/step - loss: 1.4726 - acc: 0.4756 - val_loss: 1.4728 - val_acc: 0.4782\n",
      "Epoch 7/100\n",
      "50000/50000 [==============================] - 8s 153us/step - loss: 1.4312 - acc: 0.4926 - val_loss: 1.4823 - val_acc: 0.4785\n",
      "Epoch 8/100\n",
      "50000/50000 [==============================] - 8s 152us/step - loss: 1.4065 - acc: 0.4970 - val_loss: 1.4517 - val_acc: 0.4900\n",
      "Epoch 9/100\n",
      "50000/50000 [==============================] - 8s 158us/step - loss: 1.3736 - acc: 0.5123 - val_loss: 1.4617 - val_acc: 0.4824\n",
      "Epoch 10/100\n",
      "50000/50000 [==============================] - 8s 153us/step - loss: 1.3514 - acc: 0.5186 - val_loss: 1.4086 - val_acc: 0.4995\n",
      "Epoch 11/100\n",
      "50000/50000 [==============================] - 8s 158us/step - loss: 1.3188 - acc: 0.5295 - val_loss: 1.4498 - val_acc: 0.4838\n",
      "Epoch 12/100\n",
      "50000/50000 [==============================] - 8s 150us/step - loss: 1.2940 - acc: 0.5390 - val_loss: 1.4004 - val_acc: 0.5004\n",
      "Epoch 13/100\n",
      "50000/50000 [==============================] - 8s 155us/step - loss: 1.2693 - acc: 0.5456 - val_loss: 1.3620 - val_acc: 0.5218\n",
      "Epoch 14/100\n",
      "50000/50000 [==============================] - 8s 151us/step - loss: 1.2541 - acc: 0.5530 - val_loss: 1.4348 - val_acc: 0.4927\n",
      "Epoch 15/100\n",
      "50000/50000 [==============================] - 8s 159us/step - loss: 1.2333 - acc: 0.5603 - val_loss: 1.3905 - val_acc: 0.5080\n",
      "Epoch 16/100\n",
      "50000/50000 [==============================] - 8s 154us/step - loss: 1.2009 - acc: 0.5714 - val_loss: 1.3842 - val_acc: 0.5129\n",
      "Epoch 17/100\n",
      "50000/50000 [==============================] - 8s 159us/step - loss: 1.1865 - acc: 0.5767 - val_loss: 1.3488 - val_acc: 0.5245\n",
      "Epoch 18/100\n",
      "50000/50000 [==============================] - 8s 152us/step - loss: 1.1659 - acc: 0.5840 - val_loss: 1.3733 - val_acc: 0.5181\n",
      "Epoch 19/100\n",
      "50000/50000 [==============================] - 8s 158us/step - loss: 1.1463 - acc: 0.5919 - val_loss: 1.3832 - val_acc: 0.5110\n",
      "Epoch 20/100\n",
      "50000/50000 [==============================] - 8s 151us/step - loss: 1.1215 - acc: 0.5992 - val_loss: 1.3666 - val_acc: 0.5236\n",
      "Epoch 21/100\n",
      "50000/50000 [==============================] - 8s 157us/step - loss: 1.1014 - acc: 0.6052 - val_loss: 1.4145 - val_acc: 0.5118\n",
      "Epoch 22/100\n",
      "50000/50000 [==============================] - 8s 151us/step - loss: 1.0893 - acc: 0.6111 - val_loss: 1.3676 - val_acc: 0.5271\n",
      "Epoch 23/100\n",
      "50000/50000 [==============================] - 8s 157us/step - loss: 1.0595 - acc: 0.6208 - val_loss: 1.4366 - val_acc: 0.5134\n",
      "Epoch 24/100\n",
      "50000/50000 [==============================] - 8s 154us/step - loss: 1.0431 - acc: 0.6296 - val_loss: 1.4282 - val_acc: 0.5165\n",
      "Epoch 25/100\n",
      "50000/50000 [==============================] - 8s 164us/step - loss: 1.0330 - acc: 0.6274 - val_loss: 1.3771 - val_acc: 0.5282\n",
      "Epoch 26/100\n",
      "50000/50000 [==============================] - 8s 164us/step - loss: 1.0064 - acc: 0.6412 - val_loss: 1.4063 - val_acc: 0.5219\n",
      "Epoch 27/100\n",
      "50000/50000 [==============================] - 8s 163us/step - loss: 0.9879 - acc: 0.6470 - val_loss: 1.4406 - val_acc: 0.5199\n",
      "Epoch 28/100\n",
      "50000/50000 [==============================] - 8s 162us/step - loss: 0.9687 - acc: 0.6533 - val_loss: 1.3997 - val_acc: 0.5371\n",
      "Epoch 29/100\n",
      "50000/50000 [==============================] - 8s 165us/step - loss: 0.9555 - acc: 0.6585 - val_loss: 1.4479 - val_acc: 0.5259\n",
      "Epoch 30/100\n",
      "50000/50000 [==============================] - 8s 163us/step - loss: 0.9407 - acc: 0.6645 - val_loss: 1.4624 - val_acc: 0.5197\n",
      "Epoch 31/100\n",
      "50000/50000 [==============================] - 8s 169us/step - loss: 0.9271 - acc: 0.6694 - val_loss: 1.4343 - val_acc: 0.5306\n",
      "Epoch 32/100\n",
      "50000/50000 [==============================] - 8s 168us/step - loss: 0.9081 - acc: 0.6726 - val_loss: 1.4738 - val_acc: 0.5268\n",
      "Epoch 33/100\n",
      "50000/50000 [==============================] - 9s 187us/step - loss: 0.8857 - acc: 0.6835 - val_loss: 1.4787 - val_acc: 0.5309\n",
      "Epoch 34/100\n",
      "50000/50000 [==============================] - 8s 169us/step - loss: 0.8635 - acc: 0.6927 - val_loss: 1.4892 - val_acc: 0.5220\n",
      "Epoch 35/100\n",
      "50000/50000 [==============================] - 9s 175us/step - loss: 0.8474 - acc: 0.6974 - val_loss: 1.5172 - val_acc: 0.5300\n",
      "Epoch 36/100\n",
      "50000/50000 [==============================] - 8s 154us/step - loss: 0.8352 - acc: 0.7001 - val_loss: 1.5125 - val_acc: 0.5225\n",
      "Epoch 37/100\n",
      "50000/50000 [==============================] - 8s 165us/step - loss: 0.8177 - acc: 0.7075 - val_loss: 1.5408 - val_acc: 0.5313\n",
      "Epoch 38/100\n",
      "50000/50000 [==============================] - 8s 162us/step - loss: 0.8082 - acc: 0.7101 - val_loss: 1.6075 - val_acc: 0.5160\n",
      "Epoch 39/100\n",
      "50000/50000 [==============================] - 8s 169us/step - loss: 0.8057 - acc: 0.7121 - val_loss: 1.5868 - val_acc: 0.5215\n",
      "Epoch 40/100\n",
      "50000/50000 [==============================] - 8s 164us/step - loss: 0.7805 - acc: 0.7194 - val_loss: 1.5937 - val_acc: 0.5286\n",
      "Epoch 41/100\n",
      "50000/50000 [==============================] - 9s 171us/step - loss: 0.7522 - acc: 0.7315 - val_loss: 1.5924 - val_acc: 0.5208\n",
      "Epoch 42/100\n",
      "50000/50000 [==============================] - 8s 162us/step - loss: 0.7488 - acc: 0.7334 - val_loss: 1.6474 - val_acc: 0.5323\n",
      "Epoch 43/100\n",
      "50000/50000 [==============================] - 8s 163us/step - loss: 0.7315 - acc: 0.7365 - val_loss: 1.6257 - val_acc: 0.5215\n",
      "Epoch 44/100\n",
      "50000/50000 [==============================] - 8s 160us/step - loss: 0.7030 - acc: 0.7487 - val_loss: 1.6724 - val_acc: 0.5172\n",
      "Epoch 45/100\n",
      "50000/50000 [==============================] - 9s 171us/step - loss: 0.6950 - acc: 0.7509 - val_loss: 1.7623 - val_acc: 0.5034\n",
      "Epoch 46/100\n",
      "50000/50000 [==============================] - 9s 179us/step - loss: 0.6849 - acc: 0.7538 - val_loss: 1.7251 - val_acc: 0.5184\n",
      "Epoch 47/100\n",
      "50000/50000 [==============================] - 9s 174us/step - loss: 0.6696 - acc: 0.7602 - val_loss: 1.7136 - val_acc: 0.5251\n",
      "Epoch 48/100\n",
      "50000/50000 [==============================] - 9s 179us/step - loss: 0.6549 - acc: 0.7651 - val_loss: 1.8265 - val_acc: 0.5165\n",
      "Epoch 49/100\n",
      "50000/50000 [==============================] - 8s 164us/step - loss: 0.6542 - acc: 0.7643 - val_loss: 1.8118 - val_acc: 0.5117\n",
      "Epoch 50/100\n",
      "50000/50000 [==============================] - 8s 168us/step - loss: 0.6406 - acc: 0.7723 - val_loss: 1.8451 - val_acc: 0.5175\n",
      "Epoch 51/100\n",
      "50000/50000 [==============================] - 8s 165us/step - loss: 0.6180 - acc: 0.7798 - val_loss: 1.8172 - val_acc: 0.5208\n",
      "Epoch 52/100\n",
      "50000/50000 [==============================] - 8s 169us/step - loss: 0.6187 - acc: 0.7759 - val_loss: 1.8346 - val_acc: 0.5215\n",
      "Epoch 53/100\n",
      "50000/50000 [==============================] - 8s 169us/step - loss: 0.6001 - acc: 0.7861 - val_loss: 1.9148 - val_acc: 0.5150\n",
      "Epoch 54/100\n",
      "50000/50000 [==============================] - 9s 177us/step - loss: 0.5911 - acc: 0.7884 - val_loss: 1.9422 - val_acc: 0.5112\n",
      "Epoch 55/100\n",
      "50000/50000 [==============================] - 9s 171us/step - loss: 0.5729 - acc: 0.7948 - val_loss: 1.9930 - val_acc: 0.5001\n",
      "Epoch 56/100\n",
      "50000/50000 [==============================] - 9s 179us/step - loss: 0.5656 - acc: 0.7978 - val_loss: 1.9938 - val_acc: 0.5148\n",
      "Epoch 57/100\n",
      "50000/50000 [==============================] - 9s 177us/step - loss: 0.5439 - acc: 0.8053 - val_loss: 1.9745 - val_acc: 0.5206\n",
      "Epoch 58/100\n",
      "50000/50000 [==============================] - 9s 179us/step - loss: 0.5326 - acc: 0.8092 - val_loss: 2.0322 - val_acc: 0.5187\n",
      "Epoch 59/100\n"
     ]
    },
    {
     "name": "stdout",
     "output_type": "stream",
     "text": [
      "50000/50000 [==============================] - 9s 184us/step - loss: 0.5251 - acc: 0.8105 - val_loss: 2.0911 - val_acc: 0.5031\n",
      "Epoch 60/100\n",
      "50000/50000 [==============================] - 9s 174us/step - loss: 0.5326 - acc: 0.8064 - val_loss: 2.0951 - val_acc: 0.5180\n",
      "Epoch 61/100\n",
      "50000/50000 [==============================] - 9s 184us/step - loss: 0.5140 - acc: 0.8171 - val_loss: 2.1196 - val_acc: 0.5058\n",
      "Epoch 62/100\n",
      "50000/50000 [==============================] - 9s 174us/step - loss: 0.4923 - acc: 0.8229 - val_loss: 2.1315 - val_acc: 0.5225\n",
      "Epoch 63/100\n",
      "50000/50000 [==============================] - 9s 179us/step - loss: 0.5113 - acc: 0.8175 - val_loss: 2.1512 - val_acc: 0.5138\n",
      "Epoch 64/100\n",
      "50000/50000 [==============================] - 9s 172us/step - loss: 0.4670 - acc: 0.8325 - val_loss: 2.2177 - val_acc: 0.5063\n",
      "Epoch 65/100\n",
      "50000/50000 [==============================] - 9s 183us/step - loss: 0.4830 - acc: 0.8267 - val_loss: 2.1743 - val_acc: 0.5114\n",
      "Epoch 66/100\n",
      "50000/50000 [==============================] - 9s 179us/step - loss: 0.4715 - acc: 0.8304 - val_loss: 2.2186 - val_acc: 0.5127\n",
      "Epoch 67/100\n",
      "50000/50000 [==============================] - 8s 168us/step - loss: 0.4635 - acc: 0.8331 - val_loss: 2.2966 - val_acc: 0.5025\n",
      "Epoch 68/100\n",
      "50000/50000 [==============================] - 8s 162us/step - loss: 0.4581 - acc: 0.8360 - val_loss: 2.3350 - val_acc: 0.5129\n",
      "Epoch 69/100\n",
      "50000/50000 [==============================] - 8s 161us/step - loss: 0.4539 - acc: 0.8363 - val_loss: 2.3214 - val_acc: 0.5052\n",
      "Epoch 70/100\n",
      "50000/50000 [==============================] - 8s 162us/step - loss: 0.4381 - acc: 0.8430 - val_loss: 2.3786 - val_acc: 0.5014\n",
      "Epoch 71/100\n",
      "50000/50000 [==============================] - 8s 158us/step - loss: 0.4434 - acc: 0.8400 - val_loss: 2.3736 - val_acc: 0.5008\n",
      "Epoch 72/100\n",
      "50000/50000 [==============================] - 8s 163us/step - loss: 0.4232 - acc: 0.8462 - val_loss: 2.3608 - val_acc: 0.5143\n",
      "Epoch 73/100\n",
      "50000/50000 [==============================] - 8s 158us/step - loss: 0.4185 - acc: 0.8493 - val_loss: 2.4177 - val_acc: 0.5087\n",
      "Epoch 74/100\n",
      "50000/50000 [==============================] - 8s 161us/step - loss: 0.4163 - acc: 0.8498 - val_loss: 2.5017 - val_acc: 0.5041\n",
      "Epoch 75/100\n",
      "50000/50000 [==============================] - 8s 160us/step - loss: 0.4078 - acc: 0.8527 - val_loss: 2.5201 - val_acc: 0.5145\n",
      "Epoch 76/100\n",
      "50000/50000 [==============================] - 9s 171us/step - loss: 0.3955 - acc: 0.8565 - val_loss: 2.5106 - val_acc: 0.5039\n",
      "Epoch 77/100\n",
      "50000/50000 [==============================] - 8s 168us/step - loss: 0.4040 - acc: 0.8548 - val_loss: 2.5425 - val_acc: 0.5052\n",
      "Epoch 78/100\n",
      "50000/50000 [==============================] - 9s 171us/step - loss: 0.3832 - acc: 0.8617 - val_loss: 2.5564 - val_acc: 0.5058\n",
      "Epoch 79/100\n",
      "50000/50000 [==============================] - 8s 168us/step - loss: 0.3907 - acc: 0.8590 - val_loss: 2.6045 - val_acc: 0.5056\n",
      "Epoch 80/100\n",
      "50000/50000 [==============================] - 9s 174us/step - loss: 0.3854 - acc: 0.8607 - val_loss: 2.6572 - val_acc: 0.5028\n",
      "Epoch 81/100\n",
      "50000/50000 [==============================] - 9s 171us/step - loss: 0.3731 - acc: 0.8658 - val_loss: 2.7145 - val_acc: 0.4894\n",
      "Epoch 82/100\n",
      "50000/50000 [==============================] - 9s 179us/step - loss: 0.3753 - acc: 0.8630 - val_loss: 2.6561 - val_acc: 0.5002\n",
      "Epoch 83/100\n",
      "50000/50000 [==============================] - 9s 172us/step - loss: 0.3503 - acc: 0.8725 - val_loss: 2.6778 - val_acc: 0.5057\n",
      "Epoch 84/100\n",
      "50000/50000 [==============================] - 9s 175us/step - loss: 0.3353 - acc: 0.8790 - val_loss: 2.7126 - val_acc: 0.5031\n",
      "Epoch 85/100\n",
      "50000/50000 [==============================] - 8s 167us/step - loss: 0.3437 - acc: 0.8775 - val_loss: 2.7422 - val_acc: 0.5014\n",
      "Epoch 86/100\n",
      "50000/50000 [==============================] - 9s 174us/step - loss: 0.3493 - acc: 0.8733 - val_loss: 2.8122 - val_acc: 0.5061\n",
      "Epoch 87/100\n",
      "50000/50000 [==============================] - 8s 170us/step - loss: 0.3322 - acc: 0.8806 - val_loss: 2.8085 - val_acc: 0.4959\n",
      "Epoch 88/100\n",
      "50000/50000 [==============================] - 9s 172us/step - loss: 0.3664 - acc: 0.8673 - val_loss: 2.8360 - val_acc: 0.5029\n",
      "Epoch 89/100\n",
      "50000/50000 [==============================] - 9s 173us/step - loss: 0.3248 - acc: 0.8824 - val_loss: 2.8237 - val_acc: 0.4999\n",
      "Epoch 90/100\n",
      "50000/50000 [==============================] - 9s 172us/step - loss: 0.3107 - acc: 0.8890 - val_loss: 2.8542 - val_acc: 0.4951\n",
      "Epoch 91/100\n",
      "50000/50000 [==============================] - 9s 172us/step - loss: 0.3132 - acc: 0.8880 - val_loss: 2.9251 - val_acc: 0.4941\n",
      "Epoch 92/100\n",
      "50000/50000 [==============================] - 8s 168us/step - loss: 0.3045 - acc: 0.8905 - val_loss: 2.8805 - val_acc: 0.4957\n",
      "Epoch 93/100\n",
      "50000/50000 [==============================] - 9s 175us/step - loss: 0.3520 - acc: 0.8721 - val_loss: 2.9245 - val_acc: 0.4991\n",
      "Epoch 94/100\n",
      "50000/50000 [==============================] - 8s 170us/step - loss: 0.3033 - acc: 0.8910 - val_loss: 2.9876 - val_acc: 0.4919\n",
      "Epoch 95/100\n",
      "50000/50000 [==============================] - 9s 179us/step - loss: 0.3103 - acc: 0.8879 - val_loss: 2.9429 - val_acc: 0.4985\n",
      "Epoch 96/100\n",
      "50000/50000 [==============================] - 9s 172us/step - loss: 0.3220 - acc: 0.8841 - val_loss: 3.0809 - val_acc: 0.4973\n",
      "Epoch 97/100\n",
      "50000/50000 [==============================] - 9s 176us/step - loss: 0.3049 - acc: 0.8907 - val_loss: 3.0330 - val_acc: 0.5031\n",
      "Epoch 98/100\n",
      "50000/50000 [==============================] - 9s 179us/step - loss: 0.2849 - acc: 0.8965 - val_loss: 3.0701 - val_acc: 0.5026\n",
      "Epoch 99/100\n",
      "50000/50000 [==============================] - 9s 171us/step - loss: 0.2893 - acc: 0.8955 - val_loss: 3.1475 - val_acc: 0.4899\n",
      "Epoch 100/100\n",
      "50000/50000 [==============================] - 9s 173us/step - loss: 0.2873 - acc: 0.8969 - val_loss: 3.1255 - val_acc: 0.4939\n"
     ]
    },
    {
     "data": {
      "text/plain": [
       "<keras.callbacks.History at 0x2a09a096828>"
      ]
     },
     "execution_count": 10,
     "metadata": {},
     "output_type": "execute_result"
    }
   ],
   "source": [
    "model.fit(x_train, y_train, \n",
    "          epochs=EPOCHS, \n",
    "          batch_size=BATCH_SIZE, \n",
    "          validation_data=(x_test, y_test), \n",
    "          shuffle=True)"
   ]
  },
  {
   "cell_type": "code",
   "execution_count": 11,
   "metadata": {},
   "outputs": [
    {
     "data": {
      "text/plain": [
       "<Figure size 640x480 with 1 Axes>"
      ]
     },
     "metadata": {},
     "output_type": "display_data"
    },
    {
     "data": {
      "text/plain": [
       "<Figure size 640x480 with 1 Axes>"
      ]
     },
     "metadata": {},
     "output_type": "display_data"
    }
   ],
   "source": [
    "# 訓練模型並檢視驗證集的結果\n",
    "import matplotlib.pyplot as plt\n",
    "\n",
    "train_loss = model.history.history[\"loss\"]\n",
    "valid_loss = model.history.history[\"val_loss\"]\n",
    "\n",
    "train_acc = model.history.history[\"acc\"]\n",
    "valid_acc = model.history.history[\"val_acc\"]\n",
    "\n",
    "plt.plot(range(len(train_loss)), train_loss, label=\"train loss\")\n",
    "plt.plot(range(len(valid_loss)), valid_loss, label=\"valid loss\")\n",
    "plt.legend()\n",
    "plt.title(\"Loss\")\n",
    "plt.show()\n",
    "\n",
    "plt.plot(range(len(train_acc)), train_acc, label=\"train accuracy\")\n",
    "plt.plot(range(len(valid_acc)), valid_acc, label=\"valid accuracy\")\n",
    "plt.legend()\n",
    "plt.title(\"Accuracy\")\n",
    "plt.show()"
   ]
  },
  {
   "cell_type": "markdown",
   "metadata": {},
   "source": [
    "## Work\n",
    "1. 請嘗試將 preproc_x 替換成以每筆資料的 min/max 進行標準化至 -1 ~ 1 間，再進行訓練\n",
    "2. 請嘗試將 mlp 疊更深 (e.g 5~10 層)，進行訓練後觀察 learning curve 的走勢\n",
    "3. (optional) 請改用 GPU 進行訓練 (如果你有 GPU 的話)，比較使用 CPU 與 GPU 的訓練速度"
   ]
  }
 ],
 "metadata": {
  "kernelspec": {
   "display_name": "Python 3",
   "language": "python",
   "name": "python3"
  },
  "language_info": {
   "codemirror_mode": {
    "name": "ipython",
    "version": 3
   },
   "file_extension": ".py",
   "mimetype": "text/x-python",
   "name": "python",
   "nbconvert_exporter": "python",
   "pygments_lexer": "ipython3",
   "version": "3.7.3"
  }
 },
 "nbformat": 4,
 "nbformat_minor": 2
}
