{
 "cells": [
  {
   "cell_type": "markdown",
   "metadata": {},
   "source": [
    "## 範例重點\n",
    "* 知道如何在 keras 中加入 dropout\n",
    "* 了解 dropout 中 ratio 的意義與對訓練的影響"
   ]
  },
  {
   "cell_type": "code",
   "execution_count": 1,
   "metadata": {},
   "outputs": [
    {
     "name": "stderr",
     "output_type": "stream",
     "text": [
      "Using TensorFlow backend.\n"
     ]
    }
   ],
   "source": [
    "import os\n",
    "import keras\n",
    "\n",
    "# 本範例不需使用 GPU, 將 GPU 設定為 \"無\"\n",
    "os.environ[\"CUDA_VISIBLE_DEVICES\"] = \"\""
   ]
  },
  {
   "cell_type": "code",
   "execution_count": 2,
   "metadata": {},
   "outputs": [],
   "source": [
    "train, test = keras.datasets.cifar10.load_data()"
   ]
  },
  {
   "cell_type": "code",
   "execution_count": 3,
   "metadata": {},
   "outputs": [],
   "source": [
    "## 資料前處理\n",
    "def preproc_x(x, flatten=True):\n",
    "    x = x / 255.\n",
    "    if flatten:\n",
    "        x = x.reshape((len(x), -1))\n",
    "    return x\n",
    "\n",
    "def preproc_y(y, num_classes=10):\n",
    "    if y.shape[-1] == 1:\n",
    "        y = keras.utils.to_categorical(y, num_classes)\n",
    "    return y    "
   ]
  },
  {
   "cell_type": "code",
   "execution_count": 4,
   "metadata": {},
   "outputs": [],
   "source": [
    "x_train, y_train = train\n",
    "x_test, y_test = test\n",
    "\n",
    "# 資料前處理 - X 標準化\n",
    "x_train = preproc_x(x_train)\n",
    "x_test = preproc_x(x_test)\n",
    "\n",
    "# 資料前處理 -Y 轉成 onehot\n",
    "y_train = preproc_y(y_train)\n",
    "y_test = preproc_y(y_test)"
   ]
  },
  {
   "cell_type": "code",
   "execution_count": 5,
   "metadata": {},
   "outputs": [],
   "source": [
    "from keras.layers import Dropout\n",
    "\n",
    "\"\"\"\n",
    "建立神經網路，並加入 dropout layer\n",
    "\"\"\"\n",
    "def build_mlp(input_shape, output_units=10, num_neurons=[512, 256, 128], drp_ratio=0.2):\n",
    "    input_layer = keras.layers.Input(input_shape)\n",
    "    \n",
    "    for i, n_units in enumerate(num_neurons):\n",
    "        if i == 0:\n",
    "            x = keras.layers.Dense(units=n_units, \n",
    "                                   activation=\"relu\", \n",
    "                                   name=\"hidden_layer\"+str(i+1))(input_layer)\n",
    "            x = Dropout(drp_ratio)(x)\n",
    "        else:\n",
    "            x = keras.layers.Dense(units=n_units, \n",
    "                                   activation=\"relu\", \n",
    "                                   name=\"hidden_layer\"+str(i+1))(x)\n",
    "            x = Dropout(drp_ratio)(x)\n",
    "    \n",
    "    out = keras.layers.Dense(units=output_units, activation=\"softmax\", name=\"output\")(x)\n",
    "    \n",
    "    model = keras.models.Model(inputs=[input_layer], outputs=[out])\n",
    "    return model"
   ]
  },
  {
   "cell_type": "code",
   "execution_count": 6,
   "metadata": {},
   "outputs": [],
   "source": [
    "## 超參數設定\n",
    "LEARNING_RATE = 1e-3\n",
    "EPOCHS = 50\n",
    "BATCH_SIZE = 256\n",
    "MOMENTUM = 0.95\n",
    "Dropout_EXP = 0.25"
   ]
  },
  {
   "cell_type": "code",
   "execution_count": 7,
   "metadata": {
    "scrolled": true
   },
   "outputs": [
    {
     "name": "stderr",
     "output_type": "stream",
     "text": [
      "WARNING: Logging before flag parsing goes to stderr.\n",
      "W0718 22:43:40.781594  1360 deprecation_wrapper.py:119] From C:\\Users\\USER\\Anaconda3\\envs\\tensorflow\\lib\\site-packages\\keras\\backend\\tensorflow_backend.py:74: The name tf.get_default_graph is deprecated. Please use tf.compat.v1.get_default_graph instead.\n",
      "\n",
      "W0718 22:43:40.851247  1360 deprecation_wrapper.py:119] From C:\\Users\\USER\\Anaconda3\\envs\\tensorflow\\lib\\site-packages\\keras\\backend\\tensorflow_backend.py:517: The name tf.placeholder is deprecated. Please use tf.compat.v1.placeholder instead.\n",
      "\n",
      "W0718 22:43:40.877459  1360 deprecation_wrapper.py:119] From C:\\Users\\USER\\Anaconda3\\envs\\tensorflow\\lib\\site-packages\\keras\\backend\\tensorflow_backend.py:4138: The name tf.random_uniform is deprecated. Please use tf.random.uniform instead.\n",
      "\n",
      "W0718 22:43:40.928932  1360 deprecation_wrapper.py:119] From C:\\Users\\USER\\Anaconda3\\envs\\tensorflow\\lib\\site-packages\\keras\\backend\\tensorflow_backend.py:133: The name tf.placeholder_with_default is deprecated. Please use tf.compat.v1.placeholder_with_default instead.\n",
      "\n",
      "W0718 22:43:40.941885  1360 deprecation.py:506] From C:\\Users\\USER\\Anaconda3\\envs\\tensorflow\\lib\\site-packages\\keras\\backend\\tensorflow_backend.py:3445: calling dropout (from tensorflow.python.ops.nn_ops) with keep_prob is deprecated and will be removed in a future version.\n",
      "Instructions for updating:\n",
      "Please use `rate` instead of `keep_prob`. Rate should be set to `rate = 1 - keep_prob`.\n",
      "W0718 22:43:41.135562  1360 deprecation_wrapper.py:119] From C:\\Users\\USER\\Anaconda3\\envs\\tensorflow\\lib\\site-packages\\keras\\optimizers.py:790: The name tf.train.Optimizer is deprecated. Please use tf.compat.v1.train.Optimizer instead.\n",
      "\n",
      "W0718 22:43:41.161330  1360 deprecation_wrapper.py:119] From C:\\Users\\USER\\Anaconda3\\envs\\tensorflow\\lib\\site-packages\\keras\\backend\\tensorflow_backend.py:3295: The name tf.log is deprecated. Please use tf.math.log instead.\n",
      "\n"
     ]
    },
    {
     "name": "stdout",
     "output_type": "stream",
     "text": [
      "_________________________________________________________________\n",
      "Layer (type)                 Output Shape              Param #   \n",
      "=================================================================\n",
      "input_1 (InputLayer)         (None, 3072)              0         \n",
      "_________________________________________________________________\n",
      "hidden_layer1 (Dense)        (None, 512)               1573376   \n",
      "_________________________________________________________________\n",
      "dropout_1 (Dropout)          (None, 512)               0         \n",
      "_________________________________________________________________\n",
      "hidden_layer2 (Dense)        (None, 256)               131328    \n",
      "_________________________________________________________________\n",
      "dropout_2 (Dropout)          (None, 256)               0         \n",
      "_________________________________________________________________\n",
      "hidden_layer3 (Dense)        (None, 128)               32896     \n",
      "_________________________________________________________________\n",
      "dropout_3 (Dropout)          (None, 128)               0         \n",
      "_________________________________________________________________\n",
      "output (Dense)               (None, 10)                1290      \n",
      "=================================================================\n",
      "Total params: 1,738,890\n",
      "Trainable params: 1,738,890\n",
      "Non-trainable params: 0\n",
      "_________________________________________________________________\n"
     ]
    },
    {
     "name": "stderr",
     "output_type": "stream",
     "text": [
      "W0718 22:43:41.357303  1360 deprecation.py:323] From C:\\Users\\USER\\Anaconda3\\envs\\tensorflow\\lib\\site-packages\\tensorflow\\python\\ops\\math_grad.py:1250: add_dispatch_support.<locals>.wrapper (from tensorflow.python.ops.array_ops) is deprecated and will be removed in a future version.\n",
      "Instructions for updating:\n",
      "Use tf.where in 2.0, which has the same broadcast rule as np.where\n"
     ]
    },
    {
     "name": "stdout",
     "output_type": "stream",
     "text": [
      "Train on 50000 samples, validate on 10000 samples\n",
      "Epoch 1/50\n",
      "50000/50000 [==============================] - 13s 252us/step - loss: 2.1963 - acc: 0.1868 - val_loss: 1.9879 - val_acc: 0.3043\n",
      "Epoch 2/50\n",
      "50000/50000 [==============================] - 12s 233us/step - loss: 1.9898 - acc: 0.2734 - val_loss: 1.8685 - val_acc: 0.3334\n",
      "Epoch 3/50\n",
      "50000/50000 [==============================] - 12s 236us/step - loss: 1.9030 - acc: 0.3120 - val_loss: 1.7988 - val_acc: 0.3647\n",
      "Epoch 4/50\n",
      "50000/50000 [==============================] - 12s 241us/step - loss: 1.8487 - acc: 0.3337 - val_loss: 1.7460 - val_acc: 0.3876\n",
      "Epoch 5/50\n",
      "50000/50000 [==============================] - 12s 235us/step - loss: 1.8111 - acc: 0.3508 - val_loss: 1.7081 - val_acc: 0.3984\n",
      "Epoch 6/50\n",
      "50000/50000 [==============================] - 12s 234us/step - loss: 1.7735 - acc: 0.3621 - val_loss: 1.6777 - val_acc: 0.4115\n",
      "Epoch 7/50\n",
      "50000/50000 [==============================] - 12s 235us/step - loss: 1.7476 - acc: 0.3734 - val_loss: 1.6467 - val_acc: 0.4188\n",
      "Epoch 8/50\n",
      "50000/50000 [==============================] - 12s 236us/step - loss: 1.7217 - acc: 0.3848 - val_loss: 1.6261 - val_acc: 0.4267\n",
      "Epoch 9/50\n",
      "50000/50000 [==============================] - 12s 235us/step - loss: 1.7018 - acc: 0.3935 - val_loss: 1.6003 - val_acc: 0.4318\n",
      "Epoch 10/50\n",
      "50000/50000 [==============================] - 12s 233us/step - loss: 1.6786 - acc: 0.4014 - val_loss: 1.5862 - val_acc: 0.4386\n",
      "Epoch 11/50\n",
      "50000/50000 [==============================] - 12s 232us/step - loss: 1.6585 - acc: 0.4099 - val_loss: 1.5617 - val_acc: 0.4483\n",
      "Epoch 12/50\n",
      "50000/50000 [==============================] - 12s 237us/step - loss: 1.6429 - acc: 0.4150 - val_loss: 1.5525 - val_acc: 0.4480\n",
      "Epoch 13/50\n",
      "50000/50000 [==============================] - 12s 238us/step - loss: 1.6287 - acc: 0.4192 - val_loss: 1.5489 - val_acc: 0.4508\n",
      "Epoch 14/50\n",
      "50000/50000 [==============================] - 11s 230us/step - loss: 1.6094 - acc: 0.4283 - val_loss: 1.5227 - val_acc: 0.4637\n",
      "Epoch 15/50\n",
      "50000/50000 [==============================] - 12s 236us/step - loss: 1.5964 - acc: 0.4313 - val_loss: 1.5087 - val_acc: 0.4682\n",
      "Epoch 16/50\n",
      "50000/50000 [==============================] - 12s 234us/step - loss: 1.5803 - acc: 0.4401 - val_loss: 1.5010 - val_acc: 0.4694\n",
      "Epoch 17/50\n",
      "50000/50000 [==============================] - 12s 234us/step - loss: 1.5704 - acc: 0.4419 - val_loss: 1.4851 - val_acc: 0.4733\n",
      "Epoch 18/50\n",
      "50000/50000 [==============================] - 11s 227us/step - loss: 1.5539 - acc: 0.4469 - val_loss: 1.4846 - val_acc: 0.4733\n",
      "Epoch 19/50\n",
      "50000/50000 [==============================] - 12s 239us/step - loss: 1.5423 - acc: 0.4514 - val_loss: 1.4663 - val_acc: 0.4791\n",
      "Epoch 20/50\n",
      "50000/50000 [==============================] - 12s 233us/step - loss: 1.5300 - acc: 0.4552 - val_loss: 1.4536 - val_acc: 0.4815\n",
      "Epoch 21/50\n",
      "50000/50000 [==============================] - 12s 236us/step - loss: 1.5184 - acc: 0.4593 - val_loss: 1.4451 - val_acc: 0.4903\n",
      "Epoch 22/50\n",
      "50000/50000 [==============================] - 12s 236us/step - loss: 1.5095 - acc: 0.4646 - val_loss: 1.4356 - val_acc: 0.4871\n",
      "Epoch 23/50\n",
      "50000/50000 [==============================] - 12s 238us/step - loss: 1.4977 - acc: 0.4668 - val_loss: 1.4331 - val_acc: 0.4870\n",
      "Epoch 24/50\n",
      "50000/50000 [==============================] - 11s 228us/step - loss: 1.4883 - acc: 0.4693 - val_loss: 1.4287 - val_acc: 0.4901\n",
      "Epoch 25/50\n",
      "50000/50000 [==============================] - 11s 229us/step - loss: 1.4788 - acc: 0.4736 - val_loss: 1.4108 - val_acc: 0.5006\n",
      "Epoch 26/50\n",
      "50000/50000 [==============================] - 12s 237us/step - loss: 1.4725 - acc: 0.4779 - val_loss: 1.4104 - val_acc: 0.5007\n",
      "Epoch 27/50\n",
      "50000/50000 [==============================] - 12s 232us/step - loss: 1.4597 - acc: 0.4787 - val_loss: 1.4034 - val_acc: 0.4990\n",
      "Epoch 28/50\n",
      "50000/50000 [==============================] - 12s 233us/step - loss: 1.4521 - acc: 0.4826 - val_loss: 1.4054 - val_acc: 0.4959\n",
      "Epoch 29/50\n",
      "50000/50000 [==============================] - 12s 233us/step - loss: 1.4423 - acc: 0.4877 - val_loss: 1.3980 - val_acc: 0.5017\n",
      "Epoch 30/50\n",
      "50000/50000 [==============================] - 12s 234us/step - loss: 1.4302 - acc: 0.4895 - val_loss: 1.3909 - val_acc: 0.5018\n",
      "Epoch 31/50\n",
      "50000/50000 [==============================] - 12s 231us/step - loss: 1.4247 - acc: 0.4929 - val_loss: 1.3793 - val_acc: 0.5082\n",
      "Epoch 32/50\n",
      "50000/50000 [==============================] - 12s 232us/step - loss: 1.4190 - acc: 0.4934 - val_loss: 1.3795 - val_acc: 0.5074\n",
      "Epoch 33/50\n",
      "50000/50000 [==============================] - 11s 230us/step - loss: 1.4063 - acc: 0.4977 - val_loss: 1.3698 - val_acc: 0.5122\n",
      "Epoch 34/50\n",
      "50000/50000 [==============================] - 12s 233us/step - loss: 1.4015 - acc: 0.4997 - val_loss: 1.3764 - val_acc: 0.5090\n",
      "Epoch 35/50\n",
      "50000/50000 [==============================] - 12s 231us/step - loss: 1.3898 - acc: 0.5040 - val_loss: 1.3610 - val_acc: 0.5065\n",
      "Epoch 36/50\n",
      "50000/50000 [==============================] - 11s 227us/step - loss: 1.3855 - acc: 0.5043 - val_loss: 1.3637 - val_acc: 0.5114\n",
      "Epoch 37/50\n",
      "50000/50000 [==============================] - 12s 230us/step - loss: 1.3788 - acc: 0.5067 - val_loss: 1.3549 - val_acc: 0.5147\n",
      "Epoch 38/50\n",
      "50000/50000 [==============================] - 11s 225us/step - loss: 1.3750 - acc: 0.5082 - val_loss: 1.3448 - val_acc: 0.5177\n",
      "Epoch 39/50\n",
      "50000/50000 [==============================] - 11s 226us/step - loss: 1.3645 - acc: 0.5156 - val_loss: 1.3441 - val_acc: 0.5187\n",
      "Epoch 40/50\n",
      "50000/50000 [==============================] - 11s 227us/step - loss: 1.3549 - acc: 0.5164 - val_loss: 1.3411 - val_acc: 0.5178\n",
      "Epoch 41/50\n",
      "50000/50000 [==============================] - 12s 232us/step - loss: 1.3503 - acc: 0.5182 - val_loss: 1.3407 - val_acc: 0.5211\n",
      "Epoch 42/50\n",
      "50000/50000 [==============================] - 11s 226us/step - loss: 1.3419 - acc: 0.5213 - val_loss: 1.3397 - val_acc: 0.5219\n",
      "Epoch 43/50\n",
      "50000/50000 [==============================] - 11s 228us/step - loss: 1.3363 - acc: 0.5228 - val_loss: 1.3253 - val_acc: 0.5265\n",
      "Epoch 44/50\n",
      "50000/50000 [==============================] - 11s 224us/step - loss: 1.3302 - acc: 0.5240 - val_loss: 1.3288 - val_acc: 0.5253\n",
      "Epoch 45/50\n",
      "50000/50000 [==============================] - 11s 226us/step - loss: 1.3250 - acc: 0.5250 - val_loss: 1.3238 - val_acc: 0.5213\n",
      "Epoch 46/50\n",
      "50000/50000 [==============================] - 11s 222us/step - loss: 1.3192 - acc: 0.5289 - val_loss: 1.3168 - val_acc: 0.5293\n",
      "Epoch 47/50\n",
      "50000/50000 [==============================] - 11s 228us/step - loss: 1.3119 - acc: 0.5320 - val_loss: 1.3212 - val_acc: 0.5268\n",
      "Epoch 48/50\n",
      "50000/50000 [==============================] - 11s 225us/step - loss: 1.3088 - acc: 0.5314 - val_loss: 1.3168 - val_acc: 0.5325\n",
      "Epoch 49/50\n",
      "50000/50000 [==============================] - 11s 224us/step - loss: 1.3059 - acc: 0.5346 - val_loss: 1.3066 - val_acc: 0.5350\n",
      "Epoch 50/50\n",
      "50000/50000 [==============================] - 11s 223us/step - loss: 1.2902 - acc: 0.5385 - val_loss: 1.3063 - val_acc: 0.5322\n"
     ]
    }
   ],
   "source": [
    "model = build_mlp(input_shape=x_train.shape[1:], drp_ratio=Dropout_EXP)\n",
    "model.summary()\n",
    "optimizer = keras.optimizers.SGD(lr=LEARNING_RATE, nesterov=True, momentum=MOMENTUM)\n",
    "model.compile(loss=\"categorical_crossentropy\", metrics=[\"accuracy\"], optimizer=optimizer)\n",
    "\n",
    "model.fit(x_train, y_train, \n",
    "          epochs=EPOCHS, \n",
    "          batch_size=BATCH_SIZE, \n",
    "          validation_data=(x_test, y_test), \n",
    "          shuffle=True)\n",
    "\n",
    "# Collect results\n",
    "train_loss = model.history.history[\"loss\"]\n",
    "valid_loss = model.history.history[\"val_loss\"]\n",
    "train_acc = model.history.history[\"acc\"]\n",
    "valid_acc = model.history.history[\"val_acc\"]"
   ]
  },
  {
   "cell_type": "code",
   "execution_count": 8,
   "metadata": {},
   "outputs": [
    {
     "data": {
      "image/png": "[encoded data removed]",
      "text/plain": [
       "<Figure size 432x288 with 1 Axes>"
      ]
     },
     "metadata": {
      "needs_background": "light"
     },
     "output_type": "display_data"
    },
    {
     "data": {
      "image/png": "[encoded data removed]",
      "text/plain": [
       "<Figure size 432x288 with 1 Axes>"
      ]
     },
     "metadata": {
      "needs_background": "light"
     },
     "output_type": "display_data"
    }
   ],
   "source": [
    "import matplotlib.pyplot as plt\n",
    "%matplotlib inline\n",
    "\n",
    "plt.plot(range(len(train_loss)), train_loss, label=\"train loss\")\n",
    "plt.plot(range(len(valid_loss)), valid_loss, label=\"valid loss\")\n",
    "plt.legend()\n",
    "plt.title(\"Loss\")\n",
    "plt.show()\n",
    "\n",
    "plt.plot(range(len(train_acc)), train_acc, label=\"train accuracy\")\n",
    "plt.plot(range(len(valid_acc)), valid_acc, label=\"valid accuracy\")\n",
    "plt.legend()\n",
    "plt.title(\"Accuracy\")\n",
    "plt.show()"
   ]
  },
  {
   "cell_type": "markdown",
   "metadata": {},
   "source": [
    "## Work\n",
    "1. 請比較使用不同層數以及不同 Dropout rate 對訓練的效果\n",
    "2. 將 optimizer 改成使用 Adam 並加上適當的 dropout rate 檢視結果"
   ]
  }
 ],
 "metadata": {
  "kernelspec": {
   "display_name": "Python 3",
   "language": "python",
   "name": "python3"
  },
  "language_info": {
   "codemirror_mode": {
    "name": "ipython",
    "version": 3
   },
   "file_extension": ".py",
   "mimetype": "text/x-python",
   "name": "python",
   "nbconvert_exporter": "python",
   "pygments_lexer": "ipython3",
   "version": "3.7.3"
  }
 },
 "nbformat": 4,
 "nbformat_minor": 2
}
