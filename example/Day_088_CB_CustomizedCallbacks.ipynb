{
 "cells": [
  {
   "cell_type": "markdown",
   "metadata": {},
   "source": [
    "## 範例重點\n",
    "* 學習如何在 keras 中加入自定義的 callbacks\n",
    "* 知道 callback function 可以動作的時機"
   ]
  },
  {
   "cell_type": "code",
   "execution_count": 1,
   "metadata": {},
   "outputs": [
    {
     "name": "stderr",
     "output_type": "stream",
     "text": [
      "Using TensorFlow backend.\n"
     ]
    }
   ],
   "source": [
    "import os\n",
    "import keras\n",
    "\n",
    "# 本範例不需使用 GPU, 將 GPU 設定為 \"無\"\n",
    "os.environ[\"CUDA_VISIBLE_DEVICES\"] = \"0\""
   ]
  },
  {
   "cell_type": "code",
   "execution_count": 2,
   "metadata": {},
   "outputs": [],
   "source": [
    "train, test = keras.datasets.cifar10.load_data()"
   ]
  },
  {
   "cell_type": "code",
   "execution_count": 3,
   "metadata": {},
   "outputs": [],
   "source": [
    "## 資料前處理\n",
    "def preproc_x(x, flatten=True):\n",
    "    x = x / 255.\n",
    "    if flatten:\n",
    "        x = x.reshape((len(x), -1))\n",
    "    return x\n",
    "\n",
    "def preproc_y(y, num_classes=10):\n",
    "    if y.shape[-1] == 1:\n",
    "        y = keras.utils.to_categorical(y, num_classes)\n",
    "    return y    "
   ]
  },
  {
   "cell_type": "code",
   "execution_count": 4,
   "metadata": {},
   "outputs": [],
   "source": [
    "x_train, y_train = train\n",
    "x_test, y_test = test\n",
    "\n",
    "# 資料前處理 - X 標準化\n",
    "x_train = preproc_x(x_train)\n",
    "x_test = preproc_x(x_test)\n",
    "\n",
    "# 資料前處理 -Y 轉成 onehot\n",
    "y_train = preproc_y(y_train)\n",
    "y_test = preproc_y(y_test)"
   ]
  },
  {
   "cell_type": "code",
   "execution_count": 5,
   "metadata": {},
   "outputs": [],
   "source": [
    "from keras.layers import BatchNormalization\n",
    "\n",
    "\"\"\"\n",
    "建立神經網路，並加入 BN layer\n",
    "\"\"\"\n",
    "def build_mlp(input_shape, output_units=10, num_neurons=[512, 256, 128]):\n",
    "    input_layer = keras.layers.Input(input_shape)\n",
    "    \n",
    "    for i, n_units in enumerate(num_neurons):\n",
    "        if i == 0:\n",
    "            x = keras.layers.Dense(units=n_units, \n",
    "                                   activation=\"relu\", \n",
    "                                   name=\"hidden_layer\"+str(i+1))(input_layer)\n",
    "            x = BatchNormalization()(x)\n",
    "        else:\n",
    "            x = keras.layers.Dense(units=n_units, \n",
    "                                   activation=\"relu\", \n",
    "                                   name=\"hidden_layer\"+str(i+1))(x)\n",
    "            x = BatchNormalization()(x)\n",
    "    \n",
    "    out = keras.layers.Dense(units=output_units, activation=\"softmax\", name=\"output\")(x)\n",
    "    \n",
    "    model = keras.models.Model(inputs=[input_layer], outputs=[out])\n",
    "    return model"
   ]
  },
  {
   "cell_type": "code",
   "execution_count": 6,
   "metadata": {},
   "outputs": [],
   "source": [
    "## 超參數設定\n",
    "LEARNING_RATE = 1e-3\n",
    "EPOCHS = 50\n",
    "BATCH_SIZE = 1024\n",
    "MOMENTUM = 0.95"
   ]
  },
  {
   "cell_type": "code",
   "execution_count": 7,
   "metadata": {},
   "outputs": [],
   "source": [
    "\"\"\"\n",
    "# 載入 Callbacks，撰寫一個 f1 score 的 callback function\n",
    "\"\"\"\n",
    "\n",
    "from keras.callbacks import Callback\n",
    "from sklearn.metrics import f1_score\n",
    "\n",
    "class f1sc(Callback):\n",
    "    def on_train_begin(self, epoch, logs = {}):\n",
    "        logs = logs or {}\n",
    "        record_items = [\"val_auc\", \"val_f1sc\", \"val_fp\", \"val_fn\", \"val_tp\", \"val_tn\"]\n",
    "        for i in record_items:\n",
    "            if i not in self.params['metrics']:\n",
    "                self.params['metrics'].append(i)\n",
    "    \n",
    "    def on_epoch_end(self, epoch, logs = {}, thres=0.5):\n",
    "        logs = logs or {}\n",
    "        y_true = self.validation_data[1].argmax(axis = 1)\n",
    "        y_pred = self.model.predict(self.validation_data[0])\n",
    "        y_pred = (y_pred[:, 1] >= thres) * 1\n",
    "        \n",
    "        logs[\"val_f1sc\"] = f1_score(y_true = y_true, y_pred = y_pred, average=\"weighted\")\n",
    "        \n",
    "log_f1sc = f1sc()"
   ]
  },
  {
   "cell_type": "code",
   "execution_count": 9,
   "metadata": {
    "scrolled": true
   },
   "outputs": [
    {
     "name": "stderr",
     "output_type": "stream",
     "text": [
      "WARNING: Logging before flag parsing goes to stderr.\n",
      "W0727 22:29:31.902715  2876 deprecation_wrapper.py:119] From C:\\Users\\USER\\Anaconda3\\envs\\tensorflow\\lib\\site-packages\\keras\\backend\\tensorflow_backend.py:74: The name tf.get_default_graph is deprecated. Please use tf.compat.v1.get_default_graph instead.\n",
      "\n",
      "W0727 22:29:32.074094  2876 deprecation_wrapper.py:119] From C:\\Users\\USER\\Anaconda3\\envs\\tensorflow\\lib\\site-packages\\keras\\backend\\tensorflow_backend.py:517: The name tf.placeholder is deprecated. Please use tf.compat.v1.placeholder instead.\n",
      "\n",
      "W0727 22:29:32.111882  2876 deprecation_wrapper.py:119] From C:\\Users\\USER\\Anaconda3\\envs\\tensorflow\\lib\\site-packages\\keras\\backend\\tensorflow_backend.py:4138: The name tf.random_uniform is deprecated. Please use tf.random.uniform instead.\n",
      "\n",
      "W0727 22:29:32.317514  2876 deprecation_wrapper.py:119] From C:\\Users\\USER\\Anaconda3\\envs\\tensorflow\\lib\\site-packages\\keras\\backend\\tensorflow_backend.py:133: The name tf.placeholder_with_default is deprecated. Please use tf.compat.v1.placeholder_with_default instead.\n",
      "\n",
      "W0727 22:29:32.821725  2876 deprecation_wrapper.py:119] From C:\\Users\\USER\\Anaconda3\\envs\\tensorflow\\lib\\site-packages\\keras\\optimizers.py:790: The name tf.train.Optimizer is deprecated. Please use tf.compat.v1.train.Optimizer instead.\n",
      "\n",
      "W0727 22:29:32.838366  2876 deprecation_wrapper.py:119] From C:\\Users\\USER\\Anaconda3\\envs\\tensorflow\\lib\\site-packages\\keras\\backend\\tensorflow_backend.py:3295: The name tf.log is deprecated. Please use tf.math.log instead.\n",
      "\n"
     ]
    },
    {
     "name": "stdout",
     "output_type": "stream",
     "text": [
      "_________________________________________________________________\n",
      "Layer (type)                 Output Shape              Param #   \n",
      "=================================================================\n",
      "input_1 (InputLayer)         (None, 3072)              0         \n",
      "_________________________________________________________________\n",
      "hidden_layer1 (Dense)        (None, 512)               1573376   \n",
      "_________________________________________________________________\n",
      "batch_normalization_1 (Batch (None, 512)               2048      \n",
      "_________________________________________________________________\n",
      "hidden_layer2 (Dense)        (None, 256)               131328    \n",
      "_________________________________________________________________\n",
      "batch_normalization_2 (Batch (None, 256)               1024      \n",
      "_________________________________________________________________\n",
      "hidden_layer3 (Dense)        (None, 128)               32896     \n",
      "_________________________________________________________________\n",
      "batch_normalization_3 (Batch (None, 128)               512       \n",
      "_________________________________________________________________\n",
      "output (Dense)               (None, 10)                1290      \n",
      "=================================================================\n",
      "Total params: 1,742,474\n",
      "Trainable params: 1,740,682\n",
      "Non-trainable params: 1,792\n",
      "_________________________________________________________________\n"
     ]
    },
    {
     "name": "stderr",
     "output_type": "stream",
     "text": [
      "W0727 22:29:33.024085  2876 deprecation.py:323] From C:\\Users\\USER\\Anaconda3\\envs\\tensorflow\\lib\\site-packages\\tensorflow\\python\\ops\\math_grad.py:1250: add_dispatch_support.<locals>.wrapper (from tensorflow.python.ops.array_ops) is deprecated and will be removed in a future version.\n",
      "Instructions for updating:\n",
      "Use tf.where in 2.0, which has the same broadcast rule as np.where\n"
     ]
    },
    {
     "name": "stdout",
     "output_type": "stream",
     "text": [
      "Train on 50000 samples, validate on 10000 samples\n",
      "Epoch 1/50\n",
      "50000/50000 [==============================] - 11s 225us/step - loss: 2.2358 - acc: 0.2654 - val_loss: 2.0621 - val_acc: 0.3272\n",
      "Epoch 2/50\n",
      " 1024/50000 [..............................] - ETA: 9s - loss: 1.7919 - acc: 0.3809"
     ]
    },
    {
     "name": "stderr",
     "output_type": "stream",
     "text": [
      "C:\\Users\\USER\\Anaconda3\\envs\\tensorflow\\lib\\site-packages\\sklearn\\metrics\\classification.py:1143: UndefinedMetricWarning: F-score is ill-defined and being set to 0.0 in labels with no predicted samples.\n",
      "  'precision', 'predicted', average, warn_for)\n"
     ]
    },
    {
     "name": "stdout",
     "output_type": "stream",
     "text": [
      "50000/50000 [==============================] - 9s 175us/step - loss: 1.7477 - acc: 0.3913 - val_loss: 1.7906 - val_acc: 0.3795\n",
      "Epoch 3/50\n",
      "50000/50000 [==============================] - 8s 168us/step - loss: 1.6252 - acc: 0.4322 - val_loss: 1.6749 - val_acc: 0.4128\n",
      "Epoch 4/50\n",
      "50000/50000 [==============================] - 9s 173us/step - loss: 1.5516 - acc: 0.4593 - val_loss: 1.6194 - val_acc: 0.4267\n",
      "Epoch 5/50\n",
      "50000/50000 [==============================] - 9s 173us/step - loss: 1.4986 - acc: 0.4792 - val_loss: 1.5865 - val_acc: 0.4471\n",
      "Epoch 6/50\n",
      "50000/50000 [==============================] - 9s 171us/step - loss: 1.4536 - acc: 0.4949 - val_loss: 1.5668 - val_acc: 0.4478\n",
      "Epoch 7/50\n",
      "50000/50000 [==============================] - 9s 173us/step - loss: 1.4117 - acc: 0.5096 - val_loss: 1.5516 - val_acc: 0.4544\n",
      "Epoch 8/50\n",
      "50000/50000 [==============================] - 8s 169us/step - loss: 1.3776 - acc: 0.5218 - val_loss: 1.5278 - val_acc: 0.4585\n",
      "Epoch 9/50\n",
      "50000/50000 [==============================] - 9s 173us/step - loss: 1.3440 - acc: 0.5342 - val_loss: 1.5148 - val_acc: 0.4679\n",
      "Epoch 10/50\n",
      "50000/50000 [==============================] - 9s 171us/step - loss: 1.3140 - acc: 0.5450 - val_loss: 1.5041 - val_acc: 0.4667\n",
      "Epoch 11/50\n",
      "50000/50000 [==============================] - 9s 171us/step - loss: 1.2850 - acc: 0.5562 - val_loss: 1.4910 - val_acc: 0.4732\n",
      "Epoch 12/50\n",
      "50000/50000 [==============================] - 9s 172us/step - loss: 1.2563 - acc: 0.5672 - val_loss: 1.4924 - val_acc: 0.4721\n",
      "Epoch 13/50\n",
      "50000/50000 [==============================] - 8s 167us/step - loss: 1.2317 - acc: 0.5764 - val_loss: 1.4790 - val_acc: 0.4771\n",
      "Epoch 14/50\n",
      "50000/50000 [==============================] - 9s 178us/step - loss: 1.2070 - acc: 0.5853 - val_loss: 1.4745 - val_acc: 0.4788\n",
      "Epoch 15/50\n",
      "50000/50000 [==============================] - 9s 172us/step - loss: 1.1798 - acc: 0.5952 - val_loss: 1.4652 - val_acc: 0.4857\n",
      "Epoch 16/50\n",
      "50000/50000 [==============================] - 9s 170us/step - loss: 1.1577 - acc: 0.6054 - val_loss: 1.4597 - val_acc: 0.4859\n",
      "Epoch 17/50\n",
      "50000/50000 [==============================] - 9s 170us/step - loss: 1.1352 - acc: 0.6121 - val_loss: 1.4598 - val_acc: 0.4880\n",
      "Epoch 18/50\n",
      "50000/50000 [==============================] - 8s 167us/step - loss: 1.1135 - acc: 0.6197 - val_loss: 1.4572 - val_acc: 0.4869\n",
      "Epoch 19/50\n",
      "50000/50000 [==============================] - 8s 152us/step - loss: 1.0909 - acc: 0.6292 - val_loss: 1.4575 - val_acc: 0.4854\n",
      "Epoch 20/50\n",
      "50000/50000 [==============================] - 8s 167us/step - loss: 1.0652 - acc: 0.6383 - val_loss: 1.4590 - val_acc: 0.4842\n",
      "Epoch 21/50\n",
      "50000/50000 [==============================] - 9s 170us/step - loss: 1.0469 - acc: 0.6452 - val_loss: 1.4646 - val_acc: 0.4887\n",
      "Epoch 22/50\n",
      "50000/50000 [==============================] - 9s 175us/step - loss: 1.0248 - acc: 0.6542 - val_loss: 1.4635 - val_acc: 0.4900\n",
      "Epoch 23/50\n",
      "50000/50000 [==============================] - 8s 167us/step - loss: 1.0021 - acc: 0.6604 - val_loss: 1.4616 - val_acc: 0.4917\n",
      "Epoch 24/50\n",
      "50000/50000 [==============================] - 8s 162us/step - loss: 0.9847 - acc: 0.6684 - val_loss: 1.4450 - val_acc: 0.4916\n",
      "Epoch 25/50\n",
      "50000/50000 [==============================] - 8s 170us/step - loss: 0.9619 - acc: 0.6785 - val_loss: 1.4706 - val_acc: 0.4924\n",
      "Epoch 26/50\n",
      "50000/50000 [==============================] - 9s 171us/step - loss: 0.9409 - acc: 0.6843 - val_loss: 1.4788 - val_acc: 0.4905\n",
      "Epoch 27/50\n",
      "50000/50000 [==============================] - 9s 173us/step - loss: 0.9241 - acc: 0.6911 - val_loss: 1.4808 - val_acc: 0.4935\n",
      "Epoch 28/50\n",
      "50000/50000 [==============================] - 8s 167us/step - loss: 0.9022 - acc: 0.6999 - val_loss: 1.4867 - val_acc: 0.4889\n",
      "Epoch 29/50\n",
      "50000/50000 [==============================] - 9s 175us/step - loss: 0.8824 - acc: 0.7083 - val_loss: 1.4607 - val_acc: 0.4990\n",
      "Epoch 30/50\n",
      "50000/50000 [==============================] - 9s 173us/step - loss: 0.8604 - acc: 0.7170 - val_loss: 1.4771 - val_acc: 0.4944\n",
      "Epoch 31/50\n",
      "50000/50000 [==============================] - 8s 170us/step - loss: 0.8401 - acc: 0.7239 - val_loss: 1.5190 - val_acc: 0.4846\n",
      "Epoch 32/50\n",
      "50000/50000 [==============================] - 9s 174us/step - loss: 0.8213 - acc: 0.7313 - val_loss: 1.4908 - val_acc: 0.4947\n",
      "Epoch 33/50\n",
      "50000/50000 [==============================] - 8s 167us/step - loss: 0.8027 - acc: 0.7405 - val_loss: 1.4935 - val_acc: 0.4962\n",
      "Epoch 34/50\n",
      "50000/50000 [==============================] - 9s 173us/step - loss: 0.7820 - acc: 0.7479 - val_loss: 1.5066 - val_acc: 0.4885\n",
      "Epoch 35/50\n",
      "50000/50000 [==============================] - 9s 172us/step - loss: 0.7660 - acc: 0.7526 - val_loss: 1.5137 - val_acc: 0.4972\n",
      "Epoch 36/50\n",
      "50000/50000 [==============================] - 9s 172us/step - loss: 0.7468 - acc: 0.7602 - val_loss: 1.5365 - val_acc: 0.4882\n",
      "Epoch 37/50\n",
      "50000/50000 [==============================] - 9s 175us/step - loss: 0.7268 - acc: 0.7687 - val_loss: 1.5214 - val_acc: 0.4921\n",
      "Epoch 38/50\n",
      "50000/50000 [==============================] - 9s 171us/step - loss: 0.7085 - acc: 0.7766 - val_loss: 1.5468 - val_acc: 0.4879\n",
      "Epoch 39/50\n",
      "50000/50000 [==============================] - 8s 169us/step - loss: 0.6911 - acc: 0.7825 - val_loss: 1.5795 - val_acc: 0.4840\n",
      "Epoch 40/50\n",
      "50000/50000 [==============================] - 9s 172us/step - loss: 0.6749 - acc: 0.7893 - val_loss: 1.5709 - val_acc: 0.4883\n",
      "Epoch 41/50\n",
      "50000/50000 [==============================] - 8s 168us/step - loss: 0.6562 - acc: 0.7971 - val_loss: 1.5740 - val_acc: 0.4904\n",
      "Epoch 42/50\n",
      "50000/50000 [==============================] - 9s 176us/step - loss: 0.6369 - acc: 0.8029 - val_loss: 1.5715 - val_acc: 0.4904\n",
      "Epoch 43/50\n",
      "50000/50000 [==============================] - 8s 168us/step - loss: 0.6176 - acc: 0.8128 - val_loss: 1.5968 - val_acc: 0.4886\n",
      "Epoch 44/50\n",
      "50000/50000 [==============================] - 9s 171us/step - loss: 0.6009 - acc: 0.8190 - val_loss: 1.5950 - val_acc: 0.4888\n",
      "Epoch 45/50\n",
      "50000/50000 [==============================] - 9s 172us/step - loss: 0.5843 - acc: 0.8264 - val_loss: 1.6372 - val_acc: 0.4828\n",
      "Epoch 46/50\n",
      "50000/50000 [==============================] - 8s 167us/step - loss: 0.5690 - acc: 0.8318 - val_loss: 1.6321 - val_acc: 0.4854\n",
      "Epoch 47/50\n",
      "50000/50000 [==============================] - 9s 172us/step - loss: 0.5499 - acc: 0.8407 - val_loss: 1.6445 - val_acc: 0.4849\n",
      "Epoch 48/50\n",
      "50000/50000 [==============================] - 9s 171us/step - loss: 0.5331 - acc: 0.8474 - val_loss: 1.6708 - val_acc: 0.4810\n",
      "Epoch 49/50\n",
      "50000/50000 [==============================] - 8s 168us/step - loss: 0.5187 - acc: 0.8537 - val_loss: 1.6733 - val_acc: 0.4861\n",
      "Epoch 50/50\n",
      "50000/50000 [==============================] - 8s 169us/step - loss: 0.5008 - acc: 0.8604 - val_loss: 1.6922 - val_acc: 0.4819\n"
     ]
    }
   ],
   "source": [
    "model = build_mlp(input_shape=x_train.shape[1:])\n",
    "model.summary()\n",
    "optimizer = keras.optimizers.SGD(lr=LEARNING_RATE, nesterov=True, momentum=MOMENTUM)\n",
    "model.compile(loss=\"categorical_crossentropy\", metrics=[\"accuracy\"], optimizer=optimizer)\n",
    "\n",
    "model.fit(x_train, y_train, \n",
    "          epochs=EPOCHS, \n",
    "          batch_size=BATCH_SIZE, \n",
    "          validation_data=(x_test, y_test), \n",
    "          shuffle=True,\n",
    "          callbacks=[log_f1sc]\n",
    "         )\n",
    "\n",
    "# Collect results\n",
    "train_loss = model.history.history[\"loss\"]\n",
    "valid_loss = model.history.history[\"val_loss\"]\n",
    "train_acc = model.history.history[\"acc\"]\n",
    "valid_acc = model.history.history[\"val_acc\"]\n",
    "\n",
    "# 在訓練後，將 f1sc 紀錄調出\n",
    "valid_f1sc = model.history.history['val_f1sc']"
   ]
  },
  {
   "cell_type": "code",
   "execution_count": 10,
   "metadata": {},
   "outputs": [
    {
     "data": {
      "image/png": "[encoded data removed]",
      "text/plain": [
       "<Figure size 432x288 with 1 Axes>"
      ]
     },
     "metadata": {
      "needs_background": "light"
     },
     "output_type": "display_data"
    },
    {
     "data": {
      "image/png": "[encoded data removed]",
      "text/plain": [
       "<Figure size 432x288 with 1 Axes>"
      ]
     },
     "metadata": {
      "needs_background": "light"
     },
     "output_type": "display_data"
    },
    {
     "data": {
      "image/png": "[encoded data removed]",
      "text/plain": [
       "<Figure size 432x288 with 1 Axes>"
      ]
     },
     "metadata": {
      "needs_background": "light"
     },
     "output_type": "display_data"
    }
   ],
   "source": [
    "import matplotlib.pyplot as plt\n",
    "%matplotlib inline\n",
    "\n",
    "plt.plot(range(len(train_loss)), train_loss, label=\"train loss\")\n",
    "plt.plot(range(len(valid_loss)), valid_loss, label=\"valid loss\")\n",
    "plt.legend()\n",
    "plt.title(\"Loss\")\n",
    "plt.show()\n",
    "\n",
    "plt.plot(range(len(train_acc)), train_acc, label=\"train accuracy\")\n",
    "plt.plot(range(len(valid_acc)), valid_acc, label=\"valid accuracy\")\n",
    "plt.legend()\n",
    "plt.title(\"Accuracy\")\n",
    "plt.show()\n",
    "\n",
    "plt.plot(range(len(valid_f1sc)), valid_f1sc, label=\"valid f1-score\")\n",
    "plt.legend()\n",
    "plt.title(\"F1-score\")\n",
    "plt.show()\n"
   ]
  },
  {
   "cell_type": "markdown",
   "metadata": {},
   "source": [
    "## Work\n",
    "1. 請嘗試寫一個 callback 用來記錄各類別在訓練過程中，對驗證集的 True Positive 與 True Negative"
   ]
  }
 ],
 "metadata": {
  "kernelspec": {
   "display_name": "Python 3",
   "language": "python",
   "name": "python3"
  },
  "language_info": {
   "codemirror_mode": {
    "name": "ipython",
    "version": 3
   },
   "file_extension": ".py",
   "mimetype": "text/x-python",
   "name": "python",
   "nbconvert_exporter": "python",
   "pygments_lexer": "ipython3",
   "version": "3.7.3"
  }
 },
 "nbformat": 4,
 "nbformat_minor": 2
}
