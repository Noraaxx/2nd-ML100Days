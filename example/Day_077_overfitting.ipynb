{
 "cells": [
  {
   "cell_type": "markdown",
   "metadata": {},
   "source": [
    "## 範例重點\n",
    "* 學會從 Keras 內建函式取得資料\n",
    "* 能夠建立簡易的深度學習模型\n",
    "* 觀察並了解 Overfit 現象"
   ]
  },
  {
   "cell_type": "code",
   "execution_count": 1,
   "metadata": {},
   "outputs": [
    {
     "name": "stderr",
     "output_type": "stream",
     "text": [
      "Using TensorFlow backend.\n"
     ]
    }
   ],
   "source": [
    "import os\n",
    "import keras\n",
    "\n",
    "# 本範例不需使用 GPU, 將 GPU 設定為 \"無\"\n",
    "os.environ[\"CUDA_VISIBLE_DEVICES\"] = \"\""
   ]
  },
  {
   "cell_type": "code",
   "execution_count": 2,
   "metadata": {},
   "outputs": [],
   "source": [
    "# 從 Keras 的內建功能中，取得 train 與 test 資料集\n",
    "train, test = keras.datasets.cifar10.load_data()"
   ]
  },
  {
   "cell_type": "code",
   "execution_count": 3,
   "metadata": {},
   "outputs": [],
   "source": [
    "# 將 X 與 Y 獨立放進變數\n",
    "x_train, y_train = train\n",
    "x_test, y_test = test\n",
    "# 資料前處理 - 標準化\n",
    "x_train = x_train / 255.\n",
    "x_test = x_test / 255.\n",
    "\n",
    "# 將資料從圖形 (RGB) 轉為向量 (Single Vector)\n",
    "x_train = x_train.reshape((len(x_train), -1))\n",
    "x_test = x_test.reshape((len(x_test), -1))\n",
    "\n",
    "# 將目標轉為 one-hot encoding\n",
    "y_train = keras.utils.to_categorical(y_train, num_classes=10)\n",
    "y_test = keras.utils.to_categorical(y_test, num_classes=10)"
   ]
  },
  {
   "cell_type": "code",
   "execution_count": 4,
   "metadata": {},
   "outputs": [],
   "source": [
    "# 建立一個有三層隱藏層之神經網路\n",
    "def build_mlp():\n",
    "    input_layer = keras.layers.Input([x_train.shape[-1]])\n",
    "    x = keras.layers.Dense(units=512, activation=\"relu\")(input_layer)\n",
    "    x = keras.layers.Dense(units=256, activation=\"relu\")(x)\n",
    "    x = keras.layers.Dense(units=128, activation=\"relu\")(x)\n",
    "    out = keras.layers.Dense(units=10, activation=\"softmax\")(x)\n",
    "    \n",
    "    model = keras.models.Model(inputs=[input_layer], outputs=[out])\n",
    "    return model"
   ]
  },
  {
   "cell_type": "code",
   "execution_count": 5,
   "metadata": {},
   "outputs": [
    {
     "name": "stderr",
     "output_type": "stream",
     "text": [
      "WARNING: Logging before flag parsing goes to stderr.\n",
      "W0713 22:44:39.716657  6404 deprecation_wrapper.py:119] From C:\\Users\\USER\\Anaconda3\\envs\\tensorflow\\lib\\site-packages\\keras\\backend\\tensorflow_backend.py:74: The name tf.get_default_graph is deprecated. Please use tf.compat.v1.get_default_graph instead.\n",
      "\n",
      "W0713 22:44:39.798712  6404 deprecation_wrapper.py:119] From C:\\Users\\USER\\Anaconda3\\envs\\tensorflow\\lib\\site-packages\\keras\\backend\\tensorflow_backend.py:517: The name tf.placeholder is deprecated. Please use tf.compat.v1.placeholder instead.\n",
      "\n",
      "W0713 22:44:39.827240  6404 deprecation_wrapper.py:119] From C:\\Users\\USER\\Anaconda3\\envs\\tensorflow\\lib\\site-packages\\keras\\backend\\tensorflow_backend.py:4138: The name tf.random_uniform is deprecated. Please use tf.random.uniform instead.\n",
      "\n",
      "W0713 22:44:39.939348  6404 deprecation_wrapper.py:119] From C:\\Users\\USER\\Anaconda3\\envs\\tensorflow\\lib\\site-packages\\keras\\optimizers.py:790: The name tf.train.Optimizer is deprecated. Please use tf.compat.v1.train.Optimizer instead.\n",
      "\n",
      "W0713 22:44:39.951559  6404 deprecation_wrapper.py:119] From C:\\Users\\USER\\Anaconda3\\envs\\tensorflow\\lib\\site-packages\\keras\\backend\\tensorflow_backend.py:3295: The name tf.log is deprecated. Please use tf.math.log instead.\n",
      "\n"
     ]
    },
    {
     "name": "stdout",
     "output_type": "stream",
     "text": [
      "_________________________________________________________________\n",
      "Layer (type)                 Output Shape              Param #   \n",
      "=================================================================\n",
      "input_1 (InputLayer)         (None, 3072)              0         \n",
      "_________________________________________________________________\n",
      "dense_1 (Dense)              (None, 512)               1573376   \n",
      "_________________________________________________________________\n",
      "dense_2 (Dense)              (None, 256)               131328    \n",
      "_________________________________________________________________\n",
      "dense_3 (Dense)              (None, 128)               32896     \n",
      "_________________________________________________________________\n",
      "dense_4 (Dense)              (None, 10)                1290      \n",
      "=================================================================\n",
      "Total params: 1,738,890\n",
      "Trainable params: 1,738,890\n",
      "Non-trainable params: 0\n",
      "_________________________________________________________________\n"
     ]
    }
   ],
   "source": [
    "model = build_mlp()\n",
    "# 用 Keras 內建方法檢視模型各層參數量\n",
    "model.summary()\n",
    "\n",
    "optimizer = keras.optimizers.Adam(lr=0.001)\n",
    "model.compile(loss=\"categorical_crossentropy\", metrics=[\"accuracy\"], optimizer=optimizer)"
   ]
  },
  {
   "cell_type": "code",
   "execution_count": 6,
   "metadata": {},
   "outputs": [
    {
     "name": "stderr",
     "output_type": "stream",
     "text": [
      "W0713 22:44:40.158905  6404 deprecation.py:323] From C:\\Users\\USER\\Anaconda3\\envs\\tensorflow\\lib\\site-packages\\tensorflow\\python\\ops\\math_grad.py:1250: add_dispatch_support.<locals>.wrapper (from tensorflow.python.ops.array_ops) is deprecated and will be removed in a future version.\n",
      "Instructions for updating:\n",
      "Use tf.where in 2.0, which has the same broadcast rule as np.where\n",
      "W0713 22:44:40.262700  6404 deprecation_wrapper.py:119] From C:\\Users\\USER\\Anaconda3\\envs\\tensorflow\\lib\\site-packages\\keras\\backend\\tensorflow_backend.py:986: The name tf.assign_add is deprecated. Please use tf.compat.v1.assign_add instead.\n",
      "\n"
     ]
    },
    {
     "name": "stdout",
     "output_type": "stream",
     "text": [
      "Train on 50000 samples, validate on 10000 samples\n",
      "Epoch 1/100\n",
      "50000/50000 [==============================] - 14s 278us/step - loss: 1.9332 - acc: 0.3027 - val_loss: 1.7962 - val_acc: 0.3493\n",
      "Epoch 2/100\n",
      "50000/50000 [==============================] - 13s 260us/step - loss: 1.7153 - acc: 0.3854 - val_loss: 1.6665 - val_acc: 0.4009\n",
      "Epoch 3/100\n",
      "50000/50000 [==============================] - 13s 256us/step - loss: 1.6273 - acc: 0.4221 - val_loss: 1.5612 - val_acc: 0.4438\n",
      "Epoch 4/100\n",
      "50000/50000 [==============================] - 13s 254us/step - loss: 1.5593 - acc: 0.4436 - val_loss: 1.5250 - val_acc: 0.4577 - loss - ETA: 3s - loss: 1.5642 \n",
      "Epoch 5/100\n",
      "50000/50000 [==============================] - 13s 256us/step - loss: 1.5076 - acc: 0.4612 - val_loss: 1.5223 - val_acc: 0.4584\n",
      "Epoch 6/100\n",
      "50000/50000 [==============================] - 13s 256us/step - loss: 1.4659 - acc: 0.4783 - val_loss: 1.5322 - val_acc: 0.4529\n",
      "Epoch 7/100\n",
      "50000/50000 [==============================] - 13s 257us/step - loss: 1.4488 - acc: 0.4833 - val_loss: 1.4768 - val_acc: 0.4704: 6s -\n",
      "Epoch 8/100\n",
      "50000/50000 [==============================] - 13s 252us/step - loss: 1.4025 - acc: 0.5009 - val_loss: 1.4781 - val_acc: 0.4698\n",
      "Epoch 9/100\n",
      "50000/50000 [==============================] - 13s 252us/step - loss: 1.3787 - acc: 0.5084 - val_loss: 1.4644 - val_acc: 0.4816\n",
      "Epoch 10/100\n",
      "50000/50000 [==============================] - 13s 253us/step - loss: 1.3578 - acc: 0.5141 - val_loss: 1.4540 - val_acc: 0.4910\n",
      "Epoch 11/100\n",
      "50000/50000 [==============================] - 13s 256us/step - loss: 1.3281 - acc: 0.5271 - val_loss: 1.5514 - val_acc: 0.4589\n",
      "Epoch 12/100\n",
      "50000/50000 [==============================] - 13s 251us/step - loss: 1.3044 - acc: 0.5354 - val_loss: 1.4039 - val_acc: 0.5085\n",
      "Epoch 13/100\n",
      "50000/50000 [==============================] - 13s 253us/step - loss: 1.2911 - acc: 0.5446 - val_loss: 1.3972 - val_acc: 0.5051\n",
      "Epoch 14/100\n",
      "50000/50000 [==============================] - 12s 250us/step - loss: 1.2607 - acc: 0.5493 - val_loss: 1.3850 - val_acc: 0.5126\n",
      "Epoch 15/100\n",
      "50000/50000 [==============================] - 13s 251us/step - loss: 1.2285 - acc: 0.5634 - val_loss: 1.3880 - val_acc: 0.5106\n",
      "Epoch 16/100\n",
      "50000/50000 [==============================] - 13s 250us/step - loss: 1.2198 - acc: 0.5657 - val_loss: 1.3891 - val_acc: 0.5111\n",
      "Epoch 17/100\n",
      "50000/50000 [==============================] - 12s 246us/step - loss: 1.1944 - acc: 0.5761 - val_loss: 1.3950 - val_acc: 0.5133\n",
      "Epoch 18/100\n",
      "50000/50000 [==============================] - 12s 235us/step - loss: 1.1716 - acc: 0.5832 - val_loss: 1.3892 - val_acc: 0.5205\n",
      "Epoch 19/100\n",
      "50000/50000 [==============================] - 13s 254us/step - loss: 1.1589 - acc: 0.5847 - val_loss: 1.3699 - val_acc: 0.5216\n",
      "Epoch 20/100\n",
      "50000/50000 [==============================] - 13s 258us/step - loss: 1.1302 - acc: 0.5960 - val_loss: 1.4065 - val_acc: 0.5054\n",
      "Epoch 21/100\n",
      "50000/50000 [==============================] - 12s 238us/step - loss: 1.1164 - acc: 0.6014 - val_loss: 1.4032 - val_acc: 0.5116\n",
      "Epoch 22/100\n",
      "50000/50000 [==============================] - 12s 250us/step - loss: 1.1021 - acc: 0.6052 - val_loss: 1.3905 - val_acc: 0.5103\n",
      "Epoch 23/100\n",
      "50000/50000 [==============================] - 13s 253us/step - loss: 1.0792 - acc: 0.6143 - val_loss: 1.3722 - val_acc: 0.5257\n",
      "Epoch 24/100\n",
      "50000/50000 [==============================] - 12s 234us/step - loss: 1.0622 - acc: 0.6210 - val_loss: 1.3711 - val_acc: 0.5238\n",
      "Epoch 25/100\n",
      "50000/50000 [==============================] - 13s 250us/step - loss: 1.0306 - acc: 0.6319 - val_loss: 1.3825 - val_acc: 0.5218\n",
      "Epoch 26/100\n",
      "50000/50000 [==============================] - 13s 254us/step - loss: 1.0190 - acc: 0.6340 - val_loss: 1.4225 - val_acc: 0.5182\n",
      "Epoch 27/100\n",
      "50000/50000 [==============================] - 13s 260us/step - loss: 0.9926 - acc: 0.6484 - val_loss: 1.4209 - val_acc: 0.5193\n",
      "Epoch 28/100\n",
      "50000/50000 [==============================] - 12s 244us/step - loss: 0.9825 - acc: 0.6478 - val_loss: 1.4114 - val_acc: 0.5193\n",
      "Epoch 29/100\n",
      "50000/50000 [==============================] - 13s 252us/step - loss: 0.9671 - acc: 0.6527 - val_loss: 1.4425 - val_acc: 0.5081\n",
      "Epoch 30/100\n",
      "50000/50000 [==============================] - 12s 241us/step - loss: 0.9551 - acc: 0.6603 - val_loss: 1.4355 - val_acc: 0.5177\n",
      "Epoch 31/100\n",
      "50000/50000 [==============================] - 13s 256us/step - loss: 0.9279 - acc: 0.6660 - val_loss: 1.4131 - val_acc: 0.5304\n",
      "Epoch 32/100\n",
      "50000/50000 [==============================] - 13s 256us/step - loss: 0.9051 - acc: 0.6759 - val_loss: 1.4401 - val_acc: 0.5236\n",
      "Epoch 33/100\n",
      "50000/50000 [==============================] - 13s 252us/step - loss: 0.8916 - acc: 0.6817 - val_loss: 1.4525 - val_acc: 0.5255\n",
      "Epoch 34/100\n",
      "50000/50000 [==============================] - 13s 257us/step - loss: 0.8772 - acc: 0.6880 - val_loss: 1.4560 - val_acc: 0.5277\n",
      "Epoch 35/100\n",
      "50000/50000 [==============================] - 12s 250us/step - loss: 0.8591 - acc: 0.6910 - val_loss: 1.4912 - val_acc: 0.5215\n",
      "Epoch 36/100\n",
      "50000/50000 [==============================] - 12s 243us/step - loss: 0.8341 - acc: 0.7033 - val_loss: 1.4802 - val_acc: 0.5229\n",
      "Epoch 37/100\n",
      "50000/50000 [==============================] - 12s 246us/step - loss: 0.8227 - acc: 0.7091 - val_loss: 1.5748 - val_acc: 0.5081\n",
      "Epoch 38/100\n",
      "50000/50000 [==============================] - 13s 259us/step - loss: 0.8015 - acc: 0.7129 - val_loss: 1.5651 - val_acc: 0.5075\n",
      "Epoch 39/100\n",
      "50000/50000 [==============================] - 12s 250us/step - loss: 0.7906 - acc: 0.7173 - val_loss: 1.5393 - val_acc: 0.5160\n",
      "Epoch 40/100\n",
      "50000/50000 [==============================] - 12s 233us/step - loss: 0.7720 - acc: 0.7236 - val_loss: 1.6204 - val_acc: 0.5102\n",
      "Epoch 41/100\n",
      "50000/50000 [==============================] - 12s 238us/step - loss: 0.7605 - acc: 0.7274 - val_loss: 1.5967 - val_acc: 0.5227\n",
      "Epoch 42/100\n",
      "50000/50000 [==============================] - 11s 221us/step - loss: 0.7488 - acc: 0.7328 - val_loss: 1.6809 - val_acc: 0.5018\n",
      "Epoch 43/100\n",
      "50000/50000 [==============================] - 12s 237us/step - loss: 0.7260 - acc: 0.7405 - val_loss: 1.6425 - val_acc: 0.5190\n",
      "Epoch 44/100\n",
      "50000/50000 [==============================] - 12s 239us/step - loss: 0.7165 - acc: 0.7439 - val_loss: 1.6477 - val_acc: 0.5229\n",
      "Epoch 45/100\n",
      "50000/50000 [==============================] - 11s 228us/step - loss: 0.6934 - acc: 0.7534 - val_loss: 1.6586 - val_acc: 0.5150\n",
      "Epoch 46/100\n",
      "50000/50000 [==============================] - 11s 229us/step - loss: 0.6943 - acc: 0.7515 - val_loss: 1.7277 - val_acc: 0.5099\n",
      "Epoch 47/100\n",
      "50000/50000 [==============================] - 11s 228us/step - loss: 0.6823 - acc: 0.7554 - val_loss: 1.6978 - val_acc: 0.5191\n",
      "Epoch 48/100\n",
      "50000/50000 [==============================] - 12s 230us/step - loss: 0.6546 - acc: 0.7663 - val_loss: 1.8038 - val_acc: 0.5146\n",
      "Epoch 49/100\n",
      "50000/50000 [==============================] - 12s 241us/step - loss: 0.6445 - acc: 0.7685 - val_loss: 1.7458 - val_acc: 0.5179\n",
      "Epoch 50/100\n",
      "50000/50000 [==============================] - 12s 242us/step - loss: 0.6313 - acc: 0.7747 - val_loss: 1.7984 - val_acc: 0.5149\n",
      "Epoch 51/100\n",
      "50000/50000 [==============================] - 12s 238us/step - loss: 0.6090 - acc: 0.7824 - val_loss: 1.7834 - val_acc: 0.5159\n",
      "Epoch 52/100\n",
      "50000/50000 [==============================] - 12s 233us/step - loss: 0.6094 - acc: 0.7825 - val_loss: 1.8357 - val_acc: 0.5149\n",
      "Epoch 53/100\n",
      "50000/50000 [==============================] - 11s 226us/step - loss: 0.6070 - acc: 0.7805 - val_loss: 1.8902 - val_acc: 0.5127\n",
      "Epoch 54/100\n",
      "50000/50000 [==============================] - 11s 220us/step - loss: 0.5866 - acc: 0.7898 - val_loss: 1.9371 - val_acc: 0.5153\n",
      "Epoch 55/100\n",
      "50000/50000 [==============================] - 12s 238us/step - loss: 0.5770 - acc: 0.7922 - val_loss: 1.9089 - val_acc: 0.5093\n",
      "Epoch 56/100\n",
      "50000/50000 [==============================] - 12s 236us/step - loss: 0.5650 - acc: 0.7984 - val_loss: 1.9388 - val_acc: 0.5161\n",
      "Epoch 57/100\n",
      "50000/50000 [==============================] - 12s 231us/step - loss: 0.5563 - acc: 0.8027 - val_loss: 1.9753 - val_acc: 0.5106\n",
      "Epoch 58/100\n"
     ]
    },
    {
     "name": "stdout",
     "output_type": "stream",
     "text": [
      "50000/50000 [==============================] - 12s 238us/step - loss: 0.5372 - acc: 0.8072 - val_loss: 1.9878 - val_acc: 0.5134\n",
      "Epoch 59/100\n",
      "50000/50000 [==============================] - 13s 253us/step - loss: 0.5345 - acc: 0.8070 - val_loss: 2.0884 - val_acc: 0.5028\n",
      "Epoch 60/100\n",
      "50000/50000 [==============================] - 13s 257us/step - loss: 0.5228 - acc: 0.8115 - val_loss: 2.0975 - val_acc: 0.5046\n",
      "Epoch 61/100\n",
      "50000/50000 [==============================] - 13s 259us/step - loss: 0.5171 - acc: 0.8151 - val_loss: 2.0508 - val_acc: 0.5078\n",
      "Epoch 62/100\n",
      "50000/50000 [==============================] - 13s 260us/step - loss: 0.5114 - acc: 0.8160 - val_loss: 2.1077 - val_acc: 0.5055\n",
      "Epoch 63/100\n",
      "50000/50000 [==============================] - 13s 255us/step - loss: 0.4770 - acc: 0.8288 - val_loss: 2.1345 - val_acc: 0.5094\n",
      "Epoch 64/100\n",
      "50000/50000 [==============================] - 11s 214us/step - loss: 0.4888 - acc: 0.8257 - val_loss: 2.1822 - val_acc: 0.5033\n",
      "Epoch 65/100\n",
      "50000/50000 [==============================] - 7s 145us/step - loss: 0.4758 - acc: 0.8304 - val_loss: 2.1698 - val_acc: 0.5059\n",
      "Epoch 66/100\n",
      "50000/50000 [==============================] - 8s 151us/step - loss: 0.4772 - acc: 0.8286 - val_loss: 2.2516 - val_acc: 0.4941\n",
      "Epoch 67/100\n",
      "50000/50000 [==============================] - 8s 155us/step - loss: 0.4657 - acc: 0.8341 - val_loss: 2.2758 - val_acc: 0.5091\n",
      "Epoch 68/100\n",
      "50000/50000 [==============================] - 8s 156us/step - loss: 0.4375 - acc: 0.8442 - val_loss: 2.2306 - val_acc: 0.5031\n",
      "Epoch 69/100\n",
      "50000/50000 [==============================] - 8s 155us/step - loss: 0.4335 - acc: 0.8449 - val_loss: 2.3036 - val_acc: 0.4995\n",
      "Epoch 70/100\n",
      "50000/50000 [==============================] - 8s 159us/step - loss: 0.4281 - acc: 0.8467 - val_loss: 2.3484 - val_acc: 0.4950\n",
      "Epoch 71/100\n",
      "50000/50000 [==============================] - 8s 151us/step - loss: 0.4332 - acc: 0.8438 - val_loss: 2.3809 - val_acc: 0.5041\n",
      "Epoch 72/100\n",
      "50000/50000 [==============================] - 8s 157us/step - loss: 0.4277 - acc: 0.8458 - val_loss: 2.3596 - val_acc: 0.5097\n",
      "Epoch 73/100\n",
      "50000/50000 [==============================] - 8s 158us/step - loss: 0.4096 - acc: 0.8540 - val_loss: 2.4235 - val_acc: 0.5006\n",
      "Epoch 74/100\n",
      "50000/50000 [==============================] - 8s 165us/step - loss: 0.4159 - acc: 0.8499 - val_loss: 2.3610 - val_acc: 0.5148\n",
      "Epoch 75/100\n",
      "50000/50000 [==============================] - 8s 156us/step - loss: 0.3896 - acc: 0.8591 - val_loss: 2.4189 - val_acc: 0.5126\n",
      "Epoch 76/100\n",
      "50000/50000 [==============================] - 8s 163us/step - loss: 0.3944 - acc: 0.8578 - val_loss: 2.4861 - val_acc: 0.4980\n",
      "Epoch 77/100\n",
      "50000/50000 [==============================] - 8s 155us/step - loss: 0.3719 - acc: 0.8650 - val_loss: 2.5703 - val_acc: 0.5009\n",
      "Epoch 78/100\n",
      "50000/50000 [==============================] - 8s 161us/step - loss: 0.3557 - acc: 0.8728 - val_loss: 2.6849 - val_acc: 0.4925\n",
      "Epoch 79/100\n",
      "50000/50000 [==============================] - 8s 165us/step - loss: 0.3768 - acc: 0.8643 - val_loss: 2.6195 - val_acc: 0.4968\n",
      "Epoch 80/100\n",
      "50000/50000 [==============================] - 9s 173us/step - loss: 0.3622 - acc: 0.8701 - val_loss: 2.6074 - val_acc: 0.4995\n",
      "Epoch 81/100\n",
      "50000/50000 [==============================] - 8s 166us/step - loss: 0.3655 - acc: 0.8678 - val_loss: 2.6051 - val_acc: 0.5071\n",
      "Epoch 82/100\n",
      "50000/50000 [==============================] - 8s 170us/step - loss: 0.3534 - acc: 0.8723 - val_loss: 2.6940 - val_acc: 0.4987\n",
      "Epoch 83/100\n",
      "50000/50000 [==============================] - 8s 166us/step - loss: 0.3572 - acc: 0.8703 - val_loss: 2.6465 - val_acc: 0.4993\n",
      "Epoch 84/100\n",
      "50000/50000 [==============================] - 8s 163us/step - loss: 0.3460 - acc: 0.8755 - val_loss: 2.6993 - val_acc: 0.5063\n",
      "Epoch 85/100\n",
      "50000/50000 [==============================] - 9s 171us/step - loss: 0.3440 - acc: 0.8769 - val_loss: 2.8085 - val_acc: 0.5023\n",
      "Epoch 86/100\n",
      "50000/50000 [==============================] - 8s 162us/step - loss: 0.3346 - acc: 0.8787 - val_loss: 2.8228 - val_acc: 0.5007\n",
      "Epoch 87/100\n",
      "50000/50000 [==============================] - 8s 151us/step - loss: 0.3337 - acc: 0.8787 - val_loss: 2.7855 - val_acc: 0.5048\n",
      "Epoch 88/100\n",
      "50000/50000 [==============================] - 8s 151us/step - loss: 0.3340 - acc: 0.8792 - val_loss: 2.8284 - val_acc: 0.4922\n",
      "Epoch 89/100\n",
      "50000/50000 [==============================] - 8s 150us/step - loss: 0.3288 - acc: 0.8807 - val_loss: 2.8536 - val_acc: 0.4951\n",
      "Epoch 90/100\n",
      "50000/50000 [==============================] - 8s 153us/step - loss: 0.3238 - acc: 0.8824 - val_loss: 2.8709 - val_acc: 0.4939\n",
      "Epoch 91/100\n",
      "50000/50000 [==============================] - 7s 149us/step - loss: 0.2968 - acc: 0.8928 - val_loss: 2.9340 - val_acc: 0.5008\n",
      "Epoch 92/100\n",
      "50000/50000 [==============================] - 8s 152us/step - loss: 0.3149 - acc: 0.8854 - val_loss: 2.9523 - val_acc: 0.4959\n",
      "Epoch 93/100\n",
      "50000/50000 [==============================] - 8s 151us/step - loss: 0.3218 - acc: 0.8852 - val_loss: 2.8791 - val_acc: 0.5032\n",
      "Epoch 94/100\n",
      "50000/50000 [==============================] - 8s 153us/step - loss: 0.2870 - acc: 0.8964 - val_loss: 3.0020 - val_acc: 0.4921\n",
      "Epoch 95/100\n",
      "50000/50000 [==============================] - 8s 152us/step - loss: 0.2958 - acc: 0.8941 - val_loss: 2.9438 - val_acc: 0.5001\n",
      "Epoch 96/100\n",
      "50000/50000 [==============================] - 8s 163us/step - loss: 0.3002 - acc: 0.8922 - val_loss: 2.9940 - val_acc: 0.4977\n",
      "Epoch 97/100\n",
      "50000/50000 [==============================] - 8s 156us/step - loss: 0.2792 - acc: 0.9002 - val_loss: 3.0071 - val_acc: 0.5040\n",
      "Epoch 98/100\n",
      "50000/50000 [==============================] - 8s 162us/step - loss: 0.2881 - acc: 0.8967 - val_loss: 3.0820 - val_acc: 0.4940\n",
      "Epoch 99/100\n",
      "50000/50000 [==============================] - 8s 155us/step - loss: 0.2823 - acc: 0.8976 - val_loss: 3.0688 - val_acc: 0.5036\n",
      "Epoch 100/100\n",
      "50000/50000 [==============================] - 8s 158us/step - loss: 0.2862 - acc: 0.8972 - val_loss: 3.0068 - val_acc: 0.4975\n"
     ]
    },
    {
     "data": {
      "text/plain": [
       "<keras.callbacks.History at 0x21047937780>"
      ]
     },
     "execution_count": 6,
     "metadata": {},
     "output_type": "execute_result"
    }
   ],
   "source": [
    "# 訓練模型並檢視驗證集的結果\n",
    "model.fit(x_train, y_train, \n",
    "          epochs=100, \n",
    "          batch_size=256, \n",
    "          validation_data=(x_test, y_test), \n",
    "          shuffle=True)"
   ]
  },
  {
   "cell_type": "code",
   "execution_count": 8,
   "metadata": {},
   "outputs": [
    {
     "data": {
      "image/png": "[encoded data removed]",
      "text/plain": [
       "<Figure size 432x288 with 1 Axes>"
      ]
     },
     "metadata": {
      "needs_background": "light"
     },
     "output_type": "display_data"
    },
    {
     "data": {
      "image/png": "[encoded data removed]",
      "text/plain": [
       "<Figure size 432x288 with 1 Axes>"
      ]
     },
     "metadata": {
      "needs_background": "light"
     },
     "output_type": "display_data"
    }
   ],
   "source": [
    "# 以視覺畫方式檢視訓練過程\n",
    "import matplotlib.pyplot as plt\n",
    "train_loss = model.history.history[\"loss\"]\n",
    "valid_loss = model.history.history[\"val_loss\"]\n",
    "\n",
    "train_acc = model.history.history[\"acc\"]\n",
    "valid_acc = model.history.history[\"val_acc\"]\n",
    "\n",
    "plt.plot(range(len(train_loss)), train_loss, label=\"train loss\")\n",
    "plt.plot(range(len(valid_loss)), valid_loss, label=\"valid loss\")\n",
    "plt.legend()\n",
    "plt.title(\"Loss\")\n",
    "plt.show()\n",
    "\n",
    "plt.plot(range(len(train_acc)), train_acc, label=\"train accuracy\")\n",
    "plt.plot(range(len(valid_acc)), valid_acc, label=\"valid accuracy\")\n",
    "plt.legend()\n",
    "plt.title(\"Accuracy\")\n",
    "plt.show()"
   ]
  },
  {
   "cell_type": "markdown",
   "metadata": {},
   "source": [
    "## 作業\n",
    "1. 請將 Epoch 加到 500 個，並觀察 learning curve 的走勢\n",
    "2. 請將 Optimizer 換成 SGD，並觀察 learning curve 的走勢"
   ]
  }
 ],
 "metadata": {
  "kernelspec": {
   "display_name": "Python 3",
   "language": "python",
   "name": "python3"
  },
  "language_info": {
   "codemirror_mode": {
    "name": "ipython",
    "version": 3
   },
   "file_extension": ".py",
   "mimetype": "text/x-python",
   "name": "python",
   "nbconvert_exporter": "python",
   "pygments_lexer": "ipython3",
   "version": "3.7.3"
  }
 },
 "nbformat": 4,
 "nbformat_minor": 2
}
